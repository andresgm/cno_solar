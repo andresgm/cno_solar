{
 "cells": [
  {
   "cell_type": "code",
   "execution_count": 1,
   "metadata": {},
   "outputs": [],
   "source": [
    "import cnosolar as cno"
   ]
  },
  {
   "cell_type": "code",
   "execution_count": 2,
   "metadata": {},
   "outputs": [
    {
     "name": "stdout",
     "output_type": "stream",
     "text": [
      "\n",
      "    Wrapper that defines a pvlib.pvsystem Mount class and determines\n",
      "    the module orientation if the mount is in a single axis tracker. \n",
      "    \n",
      "    Parameters\n",
      "    ----------\n",
      "    with_tracker : bool\n",
      "        Parameter that checks if the mounting of the array is either on \n",
      "        fixed-tilt racking or horizontal single axis tracker.\n",
      "\n",
      "    surface_tilt : float or list\n",
      "        Surface tilt angles. The tilt angle is defined as degrees from \n",
      "        horizontal (e.g. surface facing up = 0, surface facing \n",
      "        horizon = 90).\n",
      "        \n",
      "    surface_azimuth : float or list\n",
      "        Azimuth angle of the module surface. North = 0, East = 90, \n",
      "        South = 180 and West = 270.\n",
      "\n",
      "    solpos : pandas.DataFrame\n",
      "        Data structure that contains solar zenith and solar azimuth.\n",
      "\n",
      "    axis_tilt : float\n",
      "        Tilt of the axis of rotation with respect to horizontal (e.g. a value of \n",
      "        0º indicates that the support axis of the photovoltaic panels is horizontal)\n",
      "        in [degrees].\n",
      "        \n",
      "    axis_azimuth : float\n",
      "        Perpendicular angle to the axis of rotation by right hand rule (e.g., a \n",
      "        value of 180º indicates a rotation from east to west) in [degrees].\n",
      "        \n",
      "    max_angle : float\n",
      "        Maximum angle of rotation of the tracker from its horizontal position (e.g., a \n",
      "        value of 90º allows the tracker to rotate to and from a vertical position where \n",
      "        the panel faces the horizon) in [degrees].\n",
      "        \n",
      "    racking model : string, optional\n",
      "        Racking of the PV modules. Valid strings are 'open_rack', 'close_mount', \n",
      "        and 'insulated_back'. Used to identify a parameter set for the SAPM cell \n",
      "        temperature model.\n",
      "        Default = open_rack\n",
      "\n",
      "    Returns\n",
      "    -------\n",
      "    mount : class\n",
      "        PVlib Mount defined class.\n",
      "    tracker : pandas.DataFrame\n",
      "        Data structure that contains the surface tilt and azimuth values\n",
      "        according to the single axis tracking rotation.\n",
      "\n",
      "    Notes\n",
      "    -----\n",
      "    More details at: \n",
      "    https://pvlib-python.readthedocs.io/en/v0.9.0/generated/pvlib.pvsystem.FixedMount.html\n",
      "    https://pvlib-python.readthedocs.io/en/latest/generated/pvlib.pvsystem.SingleAxisTrackerMount.html\n",
      "    https://pvlib-python.readthedocs.io/en/latest/generated/pvlib.pvsystem.SingleAxisTrackerMount.get_orientation.html\n",
      "    \n"
     ]
    }
   ],
   "source": [
    "print(cno.pvstructure.get_mount_tracker.__doc__)"
   ]
  },
  {
   "cell_type": "code",
   "execution_count": 3,
   "metadata": {},
   "outputs": [],
   "source": [
    "# help(cno.cell_temperature.from_sandia)"
   ]
  }
 ],
 "metadata": {
  "kernelspec": {
   "display_name": "Python 3",
   "language": "python",
   "name": "python3"
  },
  "language_info": {
   "codemirror_mode": {
    "name": "ipython",
    "version": 3
   },
   "file_extension": ".py",
   "mimetype": "text/x-python",
   "name": "python",
   "nbconvert_exporter": "python",
   "pygments_lexer": "ipython3",
   "version": "3.7.4"
  }
 },
 "nbformat": 4,
 "nbformat_minor": 2
}

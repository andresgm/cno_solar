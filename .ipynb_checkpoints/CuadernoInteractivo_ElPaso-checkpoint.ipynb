{
 "cells": [
  {
   "cell_type": "code",
   "execution_count": 1,
   "metadata": {},
   "outputs": [],
   "source": [
    "import cnosolar as cno"
   ]
  },
  {
   "cell_type": "markdown",
   "metadata": {},
   "source": [
    "## 1. Configuración Inicial"
   ]
  },
  {
   "cell_type": "code",
   "execution_count": 18,
   "metadata": {},
   "outputs": [],
   "source": [
    "# Información Geográfica\n",
    "latitude = 9.789103       #Latitud\n",
    "longitude = -73.722451    #Longitud\n",
    "tz = 'America/Bogota'     #Huso Horario\n",
    "altitude = 50             #Altitud\n",
    "surface_type = 'soil'     #irradiance.SURFACE_ALBEDOS\n",
    "surface_albedo = 0.17\n",
    "\n",
    "# Base de Datos\n",
    "file_name = './data/tmy_elpaso.csv'\n",
    "\n",
    "# Configuración del Sistema\n",
    "## Inversor\n",
    "inverters_database = 'CECInverter' # ['CECInverter', 'SandiaInverter', 'ADRInverter']\n",
    "inverter_name = 'Power_Electronics__FS1275CU15__690V_'\n",
    "\n",
    "## Módulo\n",
    "modules_database = 'CECMod' # ['CECMod', 'SandiaMod']\n",
    "module_name = 'Jinko_Solar_Co___Ltd_JKM345M_72'\n",
    "module_type = 'open_rack_glass_polymer' #['open_rack_glass_glass', 'close_mount_glass_glass', 'open_rack_glass_polymer', 'insulated_back_glass_polymer']\n",
    "surface_azimuth=None\n",
    "surface_tilt=None\n",
    "\n",
    "## Tracker\n",
    "with_tracker = True\n",
    "axis_tilt = 0\n",
    "axis_azimuth = 180 #Heading south\n",
    "max_angle = 60\n",
    "racking_model = 'open_rack'\n",
    "module_height = None\n",
    "\n",
    "## Arreglo\n",
    "num_arrays = 2\n",
    "per_mppt = 1\n",
    "modules_per_string = [30, 30] #Modules Per String\n",
    "strings_per_inverter = [168, 6] #Strings Per Inverter\n",
    "\n",
    "# Modelado de Producción con PVlib\n",
    "ac_model='sandia'\n",
    "loss = 26.9\n",
    "num_inverter = 4*12\n",
    "resolution = 60\n",
    "energy_units = 'Wh'"
   ]
  },
  {
   "cell_type": "markdown",
   "metadata": {},
   "source": [
    "## 2. Base de Datos"
   ]
  },
  {
   "cell_type": "code",
   "execution_count": 3,
   "metadata": {},
   "outputs": [
    {
     "data": {
      "text/html": [
       "<div>\n",
       "<style scoped>\n",
       "    .dataframe tbody tr th:only-of-type {\n",
       "        vertical-align: middle;\n",
       "    }\n",
       "\n",
       "    .dataframe tbody tr th {\n",
       "        vertical-align: top;\n",
       "    }\n",
       "\n",
       "    .dataframe thead th {\n",
       "        text-align: right;\n",
       "    }\n",
       "</style>\n",
       "<table border=\"1\" class=\"dataframe\">\n",
       "  <thead>\n",
       "    <tr style=\"text-align: right;\">\n",
       "      <th></th>\n",
       "      <th>Year</th>\n",
       "      <th>Month</th>\n",
       "      <th>Day</th>\n",
       "      <th>Hour</th>\n",
       "      <th>Minute</th>\n",
       "      <th>DHI</th>\n",
       "      <th>DNI</th>\n",
       "      <th>GHI</th>\n",
       "      <th>Clearsky DHI</th>\n",
       "      <th>Clearsky DNI</th>\n",
       "      <th>Clearsky GHI</th>\n",
       "      <th>Dew Point</th>\n",
       "      <th>Solar Zenith Angle</th>\n",
       "      <th>Surface Albedo</th>\n",
       "      <th>Wind Speed</th>\n",
       "      <th>Precipitable Water</th>\n",
       "      <th>Wind Direction</th>\n",
       "      <th>Relative Humidity</th>\n",
       "      <th>Temperature</th>\n",
       "      <th>Pressure</th>\n",
       "    </tr>\n",
       "  </thead>\n",
       "  <tbody>\n",
       "    <tr>\n",
       "      <td>2000-01-01 00:30:00-05:00</td>\n",
       "      <td>2000</td>\n",
       "      <td>1</td>\n",
       "      <td>1</td>\n",
       "      <td>0</td>\n",
       "      <td>30</td>\n",
       "      <td>0.0</td>\n",
       "      <td>0.0</td>\n",
       "      <td>0.0</td>\n",
       "      <td>0.0</td>\n",
       "      <td>0.0</td>\n",
       "      <td>0.0</td>\n",
       "      <td>18.0</td>\n",
       "      <td>164.72</td>\n",
       "      <td>0.204</td>\n",
       "      <td>0.2</td>\n",
       "      <td>2.916</td>\n",
       "      <td>241.1</td>\n",
       "      <td>88.09</td>\n",
       "      <td>22.0</td>\n",
       "      <td>990.0</td>\n",
       "    </tr>\n",
       "    <tr>\n",
       "      <td>2000-01-01 01:30:00-05:00</td>\n",
       "      <td>2000</td>\n",
       "      <td>1</td>\n",
       "      <td>1</td>\n",
       "      <td>1</td>\n",
       "      <td>30</td>\n",
       "      <td>0.0</td>\n",
       "      <td>0.0</td>\n",
       "      <td>0.0</td>\n",
       "      <td>0.0</td>\n",
       "      <td>0.0</td>\n",
       "      <td>0.0</td>\n",
       "      <td>19.0</td>\n",
       "      <td>154.36</td>\n",
       "      <td>0.204</td>\n",
       "      <td>0.2</td>\n",
       "      <td>3.167</td>\n",
       "      <td>253.4</td>\n",
       "      <td>89.23</td>\n",
       "      <td>22.0</td>\n",
       "      <td>990.0</td>\n",
       "    </tr>\n",
       "    <tr>\n",
       "      <td>2000-01-01 02:30:00-05:00</td>\n",
       "      <td>2000</td>\n",
       "      <td>1</td>\n",
       "      <td>1</td>\n",
       "      <td>2</td>\n",
       "      <td>30</td>\n",
       "      <td>0.0</td>\n",
       "      <td>0.0</td>\n",
       "      <td>0.0</td>\n",
       "      <td>0.0</td>\n",
       "      <td>0.0</td>\n",
       "      <td>0.0</td>\n",
       "      <td>19.0</td>\n",
       "      <td>141.41</td>\n",
       "      <td>0.204</td>\n",
       "      <td>0.1</td>\n",
       "      <td>3.422</td>\n",
       "      <td>253.1</td>\n",
       "      <td>96.24</td>\n",
       "      <td>21.0</td>\n",
       "      <td>990.0</td>\n",
       "    </tr>\n",
       "    <tr>\n",
       "      <td>2000-01-01 03:30:00-05:00</td>\n",
       "      <td>2000</td>\n",
       "      <td>1</td>\n",
       "      <td>1</td>\n",
       "      <td>3</td>\n",
       "      <td>30</td>\n",
       "      <td>0.0</td>\n",
       "      <td>0.0</td>\n",
       "      <td>0.0</td>\n",
       "      <td>0.0</td>\n",
       "      <td>0.0</td>\n",
       "      <td>0.0</td>\n",
       "      <td>19.0</td>\n",
       "      <td>127.80</td>\n",
       "      <td>0.204</td>\n",
       "      <td>0.1</td>\n",
       "      <td>3.664</td>\n",
       "      <td>222.1</td>\n",
       "      <td>97.22</td>\n",
       "      <td>21.0</td>\n",
       "      <td>990.0</td>\n",
       "    </tr>\n",
       "    <tr>\n",
       "      <td>2000-01-01 04:30:00-05:00</td>\n",
       "      <td>2000</td>\n",
       "      <td>1</td>\n",
       "      <td>1</td>\n",
       "      <td>4</td>\n",
       "      <td>30</td>\n",
       "      <td>0.0</td>\n",
       "      <td>0.0</td>\n",
       "      <td>0.0</td>\n",
       "      <td>0.0</td>\n",
       "      <td>0.0</td>\n",
       "      <td>0.0</td>\n",
       "      <td>19.0</td>\n",
       "      <td>114.02</td>\n",
       "      <td>0.204</td>\n",
       "      <td>0.1</td>\n",
       "      <td>3.886</td>\n",
       "      <td>219.5</td>\n",
       "      <td>97.75</td>\n",
       "      <td>21.0</td>\n",
       "      <td>990.0</td>\n",
       "    </tr>\n",
       "  </tbody>\n",
       "</table>\n",
       "</div>"
      ],
      "text/plain": [
       "                           Year  Month  Day  Hour  Minute  DHI  DNI  GHI  \\\n",
       "2000-01-01 00:30:00-05:00  2000      1    1     0      30  0.0  0.0  0.0   \n",
       "2000-01-01 01:30:00-05:00  2000      1    1     1      30  0.0  0.0  0.0   \n",
       "2000-01-01 02:30:00-05:00  2000      1    1     2      30  0.0  0.0  0.0   \n",
       "2000-01-01 03:30:00-05:00  2000      1    1     3      30  0.0  0.0  0.0   \n",
       "2000-01-01 04:30:00-05:00  2000      1    1     4      30  0.0  0.0  0.0   \n",
       "\n",
       "                           Clearsky DHI  Clearsky DNI  Clearsky GHI  \\\n",
       "2000-01-01 00:30:00-05:00           0.0           0.0           0.0   \n",
       "2000-01-01 01:30:00-05:00           0.0           0.0           0.0   \n",
       "2000-01-01 02:30:00-05:00           0.0           0.0           0.0   \n",
       "2000-01-01 03:30:00-05:00           0.0           0.0           0.0   \n",
       "2000-01-01 04:30:00-05:00           0.0           0.0           0.0   \n",
       "\n",
       "                           Dew Point  Solar Zenith Angle  Surface Albedo  \\\n",
       "2000-01-01 00:30:00-05:00       18.0              164.72           0.204   \n",
       "2000-01-01 01:30:00-05:00       19.0              154.36           0.204   \n",
       "2000-01-01 02:30:00-05:00       19.0              141.41           0.204   \n",
       "2000-01-01 03:30:00-05:00       19.0              127.80           0.204   \n",
       "2000-01-01 04:30:00-05:00       19.0              114.02           0.204   \n",
       "\n",
       "                           Wind Speed  Precipitable Water  Wind Direction  \\\n",
       "2000-01-01 00:30:00-05:00         0.2               2.916           241.1   \n",
       "2000-01-01 01:30:00-05:00         0.2               3.167           253.4   \n",
       "2000-01-01 02:30:00-05:00         0.1               3.422           253.1   \n",
       "2000-01-01 03:30:00-05:00         0.1               3.664           222.1   \n",
       "2000-01-01 04:30:00-05:00         0.1               3.886           219.5   \n",
       "\n",
       "                           Relative Humidity  Temperature  Pressure  \n",
       "2000-01-01 00:30:00-05:00              88.09         22.0     990.0  \n",
       "2000-01-01 01:30:00-05:00              89.23         22.0     990.0  \n",
       "2000-01-01 02:30:00-05:00              96.24         21.0     990.0  \n",
       "2000-01-01 03:30:00-05:00              97.22         21.0     990.0  \n",
       "2000-01-01 04:30:00-05:00              97.75         21.0     990.0  "
      ]
     },
     "execution_count": 3,
     "metadata": {},
     "output_type": "execute_result"
    }
   ],
   "source": [
    "df = cno.data.load_csv(file_name=file_name, tz=tz)\n",
    "df.head()"
   ]
  },
  {
   "cell_type": "markdown",
   "metadata": {},
   "source": [
    "## 3. Datos Meteorológicos"
   ]
  },
  {
   "cell_type": "code",
   "execution_count": 4,
   "metadata": {},
   "outputs": [
    {
     "name": "stderr",
     "output_type": "stream",
     "text": [
      "INFO:numexpr.utils:NumExpr defaulting to 4 threads.\n"
     ]
    },
    {
     "data": {
      "text/html": [
       "<div>\n",
       "<style scoped>\n",
       "    .dataframe tbody tr th:only-of-type {\n",
       "        vertical-align: middle;\n",
       "    }\n",
       "\n",
       "    .dataframe tbody tr th {\n",
       "        vertical-align: top;\n",
       "    }\n",
       "\n",
       "    .dataframe thead th {\n",
       "        text-align: right;\n",
       "    }\n",
       "</style>\n",
       "<table border=\"1\" class=\"dataframe\">\n",
       "  <thead>\n",
       "    <tr style=\"text-align: right;\">\n",
       "      <th></th>\n",
       "      <th>apparent_zenith</th>\n",
       "      <th>zenith</th>\n",
       "      <th>apparent_elevation</th>\n",
       "      <th>elevation</th>\n",
       "      <th>azimuth</th>\n",
       "      <th>equation_of_time</th>\n",
       "    </tr>\n",
       "  </thead>\n",
       "  <tbody>\n",
       "    <tr>\n",
       "      <td>2000-01-01 00:30:00-05:00</td>\n",
       "      <td>164.692976</td>\n",
       "      <td>164.692976</td>\n",
       "      <td>-74.692976</td>\n",
       "      <td>-74.692976</td>\n",
       "      <td>151.028839</td>\n",
       "      <td>-3.152909</td>\n",
       "    </tr>\n",
       "    <tr>\n",
       "      <td>2000-01-01 01:30:00-05:00</td>\n",
       "      <td>154.337525</td>\n",
       "      <td>154.337525</td>\n",
       "      <td>-64.337525</td>\n",
       "      <td>-64.337525</td>\n",
       "      <td>123.941592</td>\n",
       "      <td>-3.172747</td>\n",
       "    </tr>\n",
       "    <tr>\n",
       "      <td>2000-01-01 02:30:00-05:00</td>\n",
       "      <td>141.383822</td>\n",
       "      <td>141.383822</td>\n",
       "      <td>-51.383822</td>\n",
       "      <td>-51.383822</td>\n",
       "      <td>114.868689</td>\n",
       "      <td>-3.192577</td>\n",
       "    </tr>\n",
       "    <tr>\n",
       "      <td>2000-01-01 03:30:00-05:00</td>\n",
       "      <td>127.780937</td>\n",
       "      <td>127.780937</td>\n",
       "      <td>-37.780937</td>\n",
       "      <td>-37.780937</td>\n",
       "      <td>111.644067</td>\n",
       "      <td>-3.212399</td>\n",
       "    </tr>\n",
       "    <tr>\n",
       "      <td>2000-01-01 04:30:00-05:00</td>\n",
       "      <td>114.000516</td>\n",
       "      <td>114.000516</td>\n",
       "      <td>-24.000516</td>\n",
       "      <td>-24.000516</td>\n",
       "      <td>110.973567</td>\n",
       "      <td>-3.232213</td>\n",
       "    </tr>\n",
       "  </tbody>\n",
       "</table>\n",
       "</div>"
      ],
      "text/plain": [
       "                           apparent_zenith      zenith  apparent_elevation  \\\n",
       "2000-01-01 00:30:00-05:00       164.692976  164.692976          -74.692976   \n",
       "2000-01-01 01:30:00-05:00       154.337525  154.337525          -64.337525   \n",
       "2000-01-01 02:30:00-05:00       141.383822  141.383822          -51.383822   \n",
       "2000-01-01 03:30:00-05:00       127.780937  127.780937          -37.780937   \n",
       "2000-01-01 04:30:00-05:00       114.000516  114.000516          -24.000516   \n",
       "\n",
       "                           elevation     azimuth  equation_of_time  \n",
       "2000-01-01 00:30:00-05:00 -74.692976  151.028839         -3.152909  \n",
       "2000-01-01 01:30:00-05:00 -64.337525  123.941592         -3.172747  \n",
       "2000-01-01 02:30:00-05:00 -51.383822  114.868689         -3.192577  \n",
       "2000-01-01 03:30:00-05:00 -37.780937  111.644067         -3.212399  \n",
       "2000-01-01 04:30:00-05:00 -24.000516  110.973567         -3.232213  "
      ]
     },
     "execution_count": 4,
     "metadata": {},
     "output_type": "execute_result"
    }
   ],
   "source": [
    "location, solpos, airmass, etr_nrel = cno.location_data.get_parameters(latitude, \n",
    "                                                                       longitude, \n",
    "                                                                       tz, \n",
    "                                                                       altitude, \n",
    "                                                                       datetime=df.index)\n",
    "\n",
    "solpos.head()"
   ]
  },
  {
   "cell_type": "markdown",
   "metadata": {},
   "source": [
    "## 4. Descomposición + Transposición"
   ]
  },
  {
   "cell_type": "markdown",
   "metadata": {},
   "source": [
    "### 4.1. Descomposición: DISC"
   ]
  },
  {
   "cell_type": "code",
   "execution_count": 5,
   "metadata": {},
   "outputs": [
    {
     "data": {
      "text/html": [
       "<div>\n",
       "<style scoped>\n",
       "    .dataframe tbody tr th:only-of-type {\n",
       "        vertical-align: middle;\n",
       "    }\n",
       "\n",
       "    .dataframe tbody tr th {\n",
       "        vertical-align: top;\n",
       "    }\n",
       "\n",
       "    .dataframe thead th {\n",
       "        text-align: right;\n",
       "    }\n",
       "</style>\n",
       "<table border=\"1\" class=\"dataframe\">\n",
       "  <thead>\n",
       "    <tr style=\"text-align: right;\">\n",
       "      <th></th>\n",
       "      <th>dni</th>\n",
       "      <th>kt</th>\n",
       "      <th>airmass</th>\n",
       "      <th>dhi</th>\n",
       "    </tr>\n",
       "  </thead>\n",
       "  <tbody>\n",
       "    <tr>\n",
       "      <td>2000-01-01 00:30:00-05:00</td>\n",
       "      <td>0.0</td>\n",
       "      <td>0.0</td>\n",
       "      <td>NaN</td>\n",
       "      <td>0.0</td>\n",
       "    </tr>\n",
       "    <tr>\n",
       "      <td>2000-01-01 01:30:00-05:00</td>\n",
       "      <td>0.0</td>\n",
       "      <td>0.0</td>\n",
       "      <td>NaN</td>\n",
       "      <td>0.0</td>\n",
       "    </tr>\n",
       "    <tr>\n",
       "      <td>2000-01-01 02:30:00-05:00</td>\n",
       "      <td>0.0</td>\n",
       "      <td>0.0</td>\n",
       "      <td>NaN</td>\n",
       "      <td>0.0</td>\n",
       "    </tr>\n",
       "    <tr>\n",
       "      <td>2000-01-01 03:30:00-05:00</td>\n",
       "      <td>0.0</td>\n",
       "      <td>0.0</td>\n",
       "      <td>NaN</td>\n",
       "      <td>0.0</td>\n",
       "    </tr>\n",
       "    <tr>\n",
       "      <td>2000-01-01 04:30:00-05:00</td>\n",
       "      <td>0.0</td>\n",
       "      <td>0.0</td>\n",
       "      <td>NaN</td>\n",
       "      <td>0.0</td>\n",
       "    </tr>\n",
       "  </tbody>\n",
       "</table>\n",
       "</div>"
      ],
      "text/plain": [
       "                           dni   kt  airmass  dhi\n",
       "2000-01-01 00:30:00-05:00  0.0  0.0      NaN  0.0\n",
       "2000-01-01 01:30:00-05:00  0.0  0.0      NaN  0.0\n",
       "2000-01-01 02:30:00-05:00  0.0  0.0      NaN  0.0\n",
       "2000-01-01 03:30:00-05:00  0.0  0.0      NaN  0.0\n",
       "2000-01-01 04:30:00-05:00  0.0  0.0      NaN  0.0"
      ]
     },
     "execution_count": 5,
     "metadata": {},
     "output_type": "execute_result"
    }
   ],
   "source": [
    "disc = cno.irradiance_models.decomposition(ghi=df.GHI, \n",
    "                                           solpos=solpos, \n",
    "                                           datetime=df.index)\n",
    "\n",
    "disc.head()"
   ]
  },
  {
   "cell_type": "markdown",
   "metadata": {},
   "source": [
    "### 4.2. Montaje y Seguidor"
   ]
  },
  {
   "cell_type": "code",
   "execution_count": 6,
   "metadata": {},
   "outputs": [
    {
     "name": "stdout",
     "output_type": "stream",
     "text": [
      "MOUNT\n",
      " SingleAxisTrackerMount(axis_tilt=0, axis_azimuth=180, max_angle=60, backtrack=True, gcr=0.2857142857142857, cross_axis_tilt=0.0, racking_model='open_rack', module_height=None) \n",
      "\n",
      "TRACKER\n",
      "                            tracker_theta  aoi  surface_azimuth  surface_tilt\n",
      "2000-01-01 00:30:00-05:00            0.0  0.0              0.0           0.0\n",
      "2000-01-01 01:30:00-05:00            0.0  0.0              0.0           0.0\n",
      "2000-01-01 02:30:00-05:00            0.0  0.0              0.0           0.0\n",
      "2000-01-01 03:30:00-05:00            0.0  0.0              0.0           0.0\n",
      "2000-01-01 04:30:00-05:00            0.0  0.0              0.0           0.0\n",
      "...                                  ...  ...              ...           ...\n",
      "2020-12-31 19:30:00-05:00            0.0  0.0              0.0           0.0\n",
      "2020-12-31 20:30:00-05:00            0.0  0.0              0.0           0.0\n",
      "2020-12-31 21:30:00-05:00            0.0  0.0              0.0           0.0\n",
      "2020-12-31 22:30:00-05:00            0.0  0.0              0.0           0.0\n",
      "2020-12-31 23:30:00-05:00            0.0  0.0              0.0           0.0\n",
      "\n",
      "[183960 rows x 4 columns]\n"
     ]
    }
   ],
   "source": [
    "mount, tracker = cno.pvstructure.get_mount_tracker(with_tracker=with_tracker, \n",
    "                                                   surface_tilt=surface_tilt, \n",
    "                                                   surface_azimuth=surface_azimuth, \n",
    "                                                   solpos=solpos, \n",
    "                                                   axis_tilt=axis_tilt, \n",
    "                                                   axis_azimuth=axis_azimuth, \n",
    "                                                   max_angle=max_angle, \n",
    "                                                   racking_model=racking_model, \n",
    "                                                   module_height=module_height)\n",
    "\n",
    "print('MOUNT\\n', mount, '\\n')\n",
    "print('TRACKER\\n', tracker)"
   ]
  },
  {
   "cell_type": "markdown",
   "metadata": {},
   "source": [
    "### 4.3. Transposición: Perez-Ineichen 1990"
   ]
  },
  {
   "cell_type": "code",
   "execution_count": 7,
   "metadata": {},
   "outputs": [
    {
     "data": {
      "text/html": [
       "<div>\n",
       "<style scoped>\n",
       "    .dataframe tbody tr th:only-of-type {\n",
       "        vertical-align: middle;\n",
       "    }\n",
       "\n",
       "    .dataframe tbody tr th {\n",
       "        vertical-align: top;\n",
       "    }\n",
       "\n",
       "    .dataframe thead th {\n",
       "        text-align: right;\n",
       "    }\n",
       "</style>\n",
       "<table border=\"1\" class=\"dataframe\">\n",
       "  <thead>\n",
       "    <tr style=\"text-align: right;\">\n",
       "      <th></th>\n",
       "      <th>poa_global</th>\n",
       "      <th>poa_direct</th>\n",
       "      <th>poa_diffuse</th>\n",
       "      <th>poa_sky_diffuse</th>\n",
       "      <th>poa_ground_diffuse</th>\n",
       "    </tr>\n",
       "  </thead>\n",
       "  <tbody>\n",
       "    <tr>\n",
       "      <td>2000-01-01 00:30:00-05:00</td>\n",
       "      <td>0.0</td>\n",
       "      <td>-0.0</td>\n",
       "      <td>0.0</td>\n",
       "      <td>0.0</td>\n",
       "      <td>0.0</td>\n",
       "    </tr>\n",
       "    <tr>\n",
       "      <td>2000-01-01 01:30:00-05:00</td>\n",
       "      <td>0.0</td>\n",
       "      <td>-0.0</td>\n",
       "      <td>0.0</td>\n",
       "      <td>0.0</td>\n",
       "      <td>0.0</td>\n",
       "    </tr>\n",
       "    <tr>\n",
       "      <td>2000-01-01 02:30:00-05:00</td>\n",
       "      <td>0.0</td>\n",
       "      <td>-0.0</td>\n",
       "      <td>0.0</td>\n",
       "      <td>0.0</td>\n",
       "      <td>0.0</td>\n",
       "    </tr>\n",
       "    <tr>\n",
       "      <td>2000-01-01 03:30:00-05:00</td>\n",
       "      <td>0.0</td>\n",
       "      <td>-0.0</td>\n",
       "      <td>0.0</td>\n",
       "      <td>0.0</td>\n",
       "      <td>0.0</td>\n",
       "    </tr>\n",
       "    <tr>\n",
       "      <td>2000-01-01 04:30:00-05:00</td>\n",
       "      <td>0.0</td>\n",
       "      <td>-0.0</td>\n",
       "      <td>0.0</td>\n",
       "      <td>0.0</td>\n",
       "      <td>0.0</td>\n",
       "    </tr>\n",
       "  </tbody>\n",
       "</table>\n",
       "</div>"
      ],
      "text/plain": [
       "                           poa_global  poa_direct  poa_diffuse  \\\n",
       "2000-01-01 00:30:00-05:00         0.0        -0.0          0.0   \n",
       "2000-01-01 01:30:00-05:00         0.0        -0.0          0.0   \n",
       "2000-01-01 02:30:00-05:00         0.0        -0.0          0.0   \n",
       "2000-01-01 03:30:00-05:00         0.0        -0.0          0.0   \n",
       "2000-01-01 04:30:00-05:00         0.0        -0.0          0.0   \n",
       "\n",
       "                           poa_sky_diffuse  poa_ground_diffuse  \n",
       "2000-01-01 00:30:00-05:00              0.0                 0.0  \n",
       "2000-01-01 01:30:00-05:00              0.0                 0.0  \n",
       "2000-01-01 02:30:00-05:00              0.0                 0.0  \n",
       "2000-01-01 03:30:00-05:00              0.0                 0.0  \n",
       "2000-01-01 04:30:00-05:00              0.0                 0.0  "
      ]
     },
     "execution_count": 7,
     "metadata": {},
     "output_type": "execute_result"
    }
   ],
   "source": [
    "poa = cno.irradiance_models.transposition(with_tracker=with_tracker, \n",
    "                                          tracker=tracker,\n",
    "                                          surface_tilt=surface_tilt, \n",
    "                                          surface_azimuth=surface_azimuth, \n",
    "                                          solpos=solpos, \n",
    "                                          disc=disc, \n",
    "                                          ghi=df.GHI, \n",
    "                                          etr_nrel=etr_nrel, \n",
    "                                          airmass=airmass,\n",
    "                                          surface_albedo=surface_albedo,\n",
    "                                          surface_type=surface_type)\n",
    "\n",
    "poa.head()"
   ]
  },
  {
   "cell_type": "markdown",
   "metadata": {},
   "source": [
    "## 5. Configuración del Sistema"
   ]
  },
  {
   "cell_type": "markdown",
   "metadata": {},
   "source": [
    "### 5.1. Inversor y Módulo"
   ]
  },
  {
   "cell_type": "code",
   "execution_count": 8,
   "metadata": {
    "scrolled": true
   },
   "outputs": [
    {
     "name": "stdout",
     "output_type": "stream",
     "text": [
      "INVERTER\n",
      " Vac                          690\n",
      "Pso                      12941.1\n",
      "Paco                 1.38908e+06\n",
      "Pdco                 1.42152e+06\n",
      "Vdco                        1030\n",
      "C0                  -1.05483e-08\n",
      "C1                   6.79057e-06\n",
      "C2                     -0.000112\n",
      "C3                      0.000557\n",
      "Pnt                      416.724\n",
      "Vdcmax                      1200\n",
      "Idcmax                   1380.12\n",
      "Mppt_low                     976\n",
      "Mppt_high                   1200\n",
      "CEC_Date              10/15/2018\n",
      "CEC_Type     Utility Interactive\n",
      "Name: Power_Electronics__FS1275CU15__690V_, dtype: object \n",
      "\n",
      "MODULE\n",
      " Technology           Multi-c-Si\n",
      "Bifacial                      0\n",
      "STC                     345.043\n",
      "PTC                       317.3\n",
      "A_c                       1.835\n",
      "Length                    1.924\n",
      "Width                     0.954\n",
      "N_s                          72\n",
      "I_sc_ref                   9.31\n",
      "V_oc_ref                   47.3\n",
      "I_mp_ref                   8.87\n",
      "V_mp_ref                   38.9\n",
      "alpha_sc               0.006052\n",
      "beta_oc               -0.145684\n",
      "T_NOCT                     44.9\n",
      "a_ref                   1.91942\n",
      "I_L_ref                 9.40794\n",
      "I_o_ref             1.85117e-10\n",
      "R_s                    0.298768\n",
      "R_sh_ref                 580.43\n",
      "Adjust                  11.7788\n",
      "gamma_r                -0.00409\n",
      "BIPV                          N\n",
      "Version       SAM 2018.11.11 r2\n",
      "Date                   1/3/2019\n",
      "Name: Jinko_Solar_Co___Ltd_JKM345M_72, dtype: object\n"
     ]
    }
   ],
   "source": [
    "inverter = cno.components.get_inverter(inverters_database=inverters_database, \n",
    "                                       inverter_name=inverter_name, \n",
    "                                       inv=None)\n",
    "\n",
    "print('INVERTER\\n', inverter, '\\n')\n",
    "\n",
    "module = cno.components.get_module(modules_database=modules_database, \n",
    "                                   module_name=module_name, \n",
    "                                   mod=None)\n",
    "\n",
    "print('MODULE\\n', module)"
   ]
  },
  {
   "cell_type": "markdown",
   "metadata": {},
   "source": [
    "### 5.2. Arreglos Fotovoltaicos"
   ]
  },
  {
   "cell_type": "code",
   "execution_count": 11,
   "metadata": {},
   "outputs": [
    {
     "data": {
      "text/plain": [
       "[Array:\n",
       "   name: None\n",
       "   mount: SingleAxisTrackerMount(axis_tilt=0, axis_azimuth=180, max_angle=60, backtrack=True, gcr=0.2857142857142857, cross_axis_tilt=0.0, racking_model='open_rack', module_height=None)\n",
       "   module: None\n",
       "   albedo: 0.17\n",
       "   module_type: open_rack_glass_polymer\n",
       "   temperature_model_parameters: {'a': -3.56, 'b': -0.075, 'deltaT': 3}\n",
       "   strings: [168, 6]\n",
       "   modules_per_string: [30, 30]]"
      ]
     },
     "execution_count": 11,
     "metadata": {},
     "output_type": "execute_result"
    }
   ],
   "source": [
    "string_arrays = cno.def_pvsystem.get_arrays(mount=mount,\n",
    "                                            surface_albedo=surface_albedo,\n",
    "                                            surface_type=surface_type, \n",
    "                                            module_type=module_type, \n",
    "                                            module=module, \n",
    "                                            mps=modules_per_string, \n",
    "                                            spi=strings_per_inverter)\n",
    "\n",
    "string_arrays"
   ]
  },
  {
   "cell_type": "markdown",
   "metadata": {},
   "source": [
    "### 5.3. Sistema Fotovoltaico"
   ]
  },
  {
   "cell_type": "code",
   "execution_count": 14,
   "metadata": {},
   "outputs": [
    {
     "data": {
      "text/plain": [
       "PVSystem:\n",
       "  name: None\n",
       "  Array:\n",
       "    name: None\n",
       "    mount: SingleAxisTrackerMount(axis_tilt=0, axis_azimuth=180, max_angle=60, backtrack=True, gcr=0.2857142857142857, cross_axis_tilt=0.0, racking_model='open_rack', module_height=None)\n",
       "    module: None\n",
       "    albedo: 0.17\n",
       "    module_type: open_rack_glass_polymer\n",
       "    temperature_model_parameters: {'a': -3.56, 'b': -0.075, 'deltaT': 3}\n",
       "    strings: [168, 6]\n",
       "    modules_per_string: [30, 30]\n",
       "  inverter: None"
      ]
     },
     "execution_count": 14,
     "metadata": {},
     "output_type": "execute_result"
    }
   ],
   "source": [
    "system = cno.def_pvsystem.get_pvsystem(with_tracker=with_tracker,\n",
    "                                       tracker=tracker,\n",
    "                                       string_array=string_arrays, \n",
    "                                       surface_tilt=surface_tilt, \n",
    "                                       surface_azimuth=surface_azimuth,\n",
    "                                       surface_albedo=surface_albedo,\n",
    "                                       surface_type=surface_type, \n",
    "                                       module_type=module_type, \n",
    "                                       module=module, \n",
    "                                       inverter=inverter, \n",
    "                                       racking_model=racking_model)\n",
    "\n",
    "system"
   ]
  },
  {
   "cell_type": "markdown",
   "metadata": {},
   "source": [
    "## 6. Modelado de Producción con PVlib"
   ]
  },
  {
   "cell_type": "markdown",
   "metadata": {},
   "source": [
    "### 6.1. Temperatura de las Celdas"
   ]
  },
  {
   "cell_type": "code",
   "execution_count": 15,
   "metadata": {},
   "outputs": [
    {
     "data": {
      "text/plain": [
       "2000-01-01 00:30:00-05:00    22.0\n",
       "2000-01-01 01:30:00-05:00    22.0\n",
       "2000-01-01 02:30:00-05:00    21.0\n",
       "2000-01-01 03:30:00-05:00    21.0\n",
       "2000-01-01 04:30:00-05:00    21.0\n",
       "dtype: float64"
      ]
     },
     "execution_count": 15,
     "metadata": {},
     "output_type": "execute_result"
    }
   ],
   "source": [
    "temp_cell = cno.cell_temperature.from_tnoct(poa=poa.poa_global, \n",
    "                                            temp_air=df['Temperature'], \n",
    "                                            tnoct=module['T_NOCT'],\n",
    "                                            mount_temp=0)\n",
    "\n",
    "temp_cell.head()"
   ]
  },
  {
   "cell_type": "markdown",
   "metadata": {},
   "source": [
    "### 6.2. Producción DC, Potencia AC y Energía"
   ]
  },
  {
   "cell_type": "code",
   "execution_count": 17,
   "metadata": {},
   "outputs": [
    {
     "ename": "ValueError",
     "evalue": "Unable to coerce to Series, length must be 4: given 2",
     "output_type": "error",
     "traceback": [
      "\u001b[0;31m---------------------------------------------------------------------------\u001b[0m",
      "\u001b[0;31mValueError\u001b[0m                                Traceback (most recent call last)",
      "\u001b[0;32m<ipython-input-17-cd51138dd0ac>\u001b[0m in \u001b[0;36m<module>\u001b[0;34m\u001b[0m\n\u001b[1;32m      8\u001b[0m                                                     \u001b[0mresolution\u001b[0m\u001b[0;34m=\u001b[0m\u001b[0mresolution\u001b[0m\u001b[0;34m,\u001b[0m\u001b[0;34m\u001b[0m\u001b[0;34m\u001b[0m\u001b[0m\n\u001b[1;32m      9\u001b[0m                                                     \u001b[0mnum_inverter\u001b[0m\u001b[0;34m=\u001b[0m\u001b[0mnum_inverter\u001b[0m\u001b[0;34m,\u001b[0m\u001b[0;34m\u001b[0m\u001b[0;34m\u001b[0m\u001b[0m\n\u001b[0;32m---> 10\u001b[0;31m                                                     energy_units=energy_units)\n\u001b[0m",
      "\u001b[0;32m~/Documents/GitHub/cno_solar/cnosolar/production.py\u001b[0m in \u001b[0;36mproduction_pipeline\u001b[0;34m(poa, cell_temperature, module, inverter, system, ac_model, loss, resolution, num_inverter, per_mppt, energy_units)\u001b[0m\n\u001b[1;32m    131\u001b[0m     '''\n\u001b[1;32m    132\u001b[0m     \u001b[0;31m# DC Production\u001b[0m\u001b[0;34m\u001b[0m\u001b[0;34m\u001b[0m\u001b[0;34m\u001b[0m\u001b[0m\n\u001b[0;32m--> 133\u001b[0;31m     \u001b[0mdc\u001b[0m \u001b[0;34m=\u001b[0m \u001b[0mdc_production\u001b[0m\u001b[0;34m(\u001b[0m\u001b[0mpoa\u001b[0m\u001b[0;34m,\u001b[0m \u001b[0mcell_temperature\u001b[0m\u001b[0;34m,\u001b[0m \u001b[0mmodule\u001b[0m\u001b[0;34m,\u001b[0m \u001b[0msystem\u001b[0m\u001b[0;34m)\u001b[0m\u001b[0;34m\u001b[0m\u001b[0;34m\u001b[0m\u001b[0m\n\u001b[0m\u001b[1;32m    134\u001b[0m \u001b[0;34m\u001b[0m\u001b[0m\n\u001b[1;32m    135\u001b[0m     \u001b[0;31m# Losses\u001b[0m\u001b[0;34m\u001b[0m\u001b[0;34m\u001b[0m\u001b[0;34m\u001b[0m\u001b[0m\n",
      "\u001b[0;32m~/Documents/GitHub/cno_solar/cnosolar/production.py\u001b[0m in \u001b[0;36mdc_production\u001b[0;34m(poa, cell_temperature, module, system)\u001b[0m\n\u001b[1;32m     49\u001b[0m \u001b[0;34m\u001b[0m\u001b[0m\n\u001b[1;32m     50\u001b[0m     \u001b[0;31m# DC Production Dataframe\u001b[0m\u001b[0;34m\u001b[0m\u001b[0;34m\u001b[0m\u001b[0;34m\u001b[0m\u001b[0m\n\u001b[0;32m---> 51\u001b[0;31m     \u001b[0mdc\u001b[0m \u001b[0;34m=\u001b[0m \u001b[0msystem\u001b[0m\u001b[0;34m.\u001b[0m\u001b[0mscale_voltage_current_power\u001b[0m\u001b[0;34m(\u001b[0m\u001b[0mresults_general\u001b[0m\u001b[0;34m)\u001b[0m\u001b[0;34m\u001b[0m\u001b[0;34m\u001b[0m\u001b[0m\n\u001b[0m\u001b[1;32m     52\u001b[0m \u001b[0;34m\u001b[0m\u001b[0m\n\u001b[1;32m     53\u001b[0m     \u001b[0;32mreturn\u001b[0m \u001b[0mdc\u001b[0m\u001b[0;34m\u001b[0m\u001b[0;34m\u001b[0m\u001b[0m\n",
      "\u001b[0;32m/opt/anaconda3/lib/python3.7/site-packages/pvlib/pvsystem.py\u001b[0m in \u001b[0;36mf\u001b[0;34m(*args, **kwargs)\u001b[0m\n\u001b[1;32m     61\u001b[0m     \u001b[0;32mdef\u001b[0m \u001b[0mf\u001b[0m\u001b[0;34m(\u001b[0m\u001b[0;34m*\u001b[0m\u001b[0margs\u001b[0m\u001b[0;34m,\u001b[0m \u001b[0;34m**\u001b[0m\u001b[0mkwargs\u001b[0m\u001b[0;34m)\u001b[0m\u001b[0;34m:\u001b[0m\u001b[0;34m\u001b[0m\u001b[0;34m\u001b[0m\u001b[0m\n\u001b[1;32m     62\u001b[0m         \u001b[0munwrap\u001b[0m \u001b[0;34m=\u001b[0m \u001b[0mkwargs\u001b[0m\u001b[0;34m.\u001b[0m\u001b[0mpop\u001b[0m\u001b[0;34m(\u001b[0m\u001b[0;34m'unwrap'\u001b[0m\u001b[0;34m,\u001b[0m \u001b[0;32mTrue\u001b[0m\u001b[0;34m)\u001b[0m\u001b[0;34m\u001b[0m\u001b[0;34m\u001b[0m\u001b[0m\n\u001b[0;32m---> 63\u001b[0;31m         \u001b[0mx\u001b[0m \u001b[0;34m=\u001b[0m \u001b[0mfunc\u001b[0m\u001b[0;34m(\u001b[0m\u001b[0;34m*\u001b[0m\u001b[0margs\u001b[0m\u001b[0;34m,\u001b[0m \u001b[0;34m**\u001b[0m\u001b[0mkwargs\u001b[0m\u001b[0;34m)\u001b[0m\u001b[0;34m\u001b[0m\u001b[0;34m\u001b[0m\u001b[0m\n\u001b[0m\u001b[1;32m     64\u001b[0m         \u001b[0;32mif\u001b[0m \u001b[0munwrap\u001b[0m \u001b[0;32mand\u001b[0m \u001b[0mlen\u001b[0m\u001b[0;34m(\u001b[0m\u001b[0mx\u001b[0m\u001b[0;34m)\u001b[0m \u001b[0;34m==\u001b[0m \u001b[0;36m1\u001b[0m\u001b[0;34m:\u001b[0m\u001b[0;34m\u001b[0m\u001b[0;34m\u001b[0m\u001b[0m\n\u001b[1;32m     65\u001b[0m             \u001b[0;32mreturn\u001b[0m \u001b[0mx\u001b[0m\u001b[0;34m[\u001b[0m\u001b[0;36m0\u001b[0m\u001b[0;34m]\u001b[0m\u001b[0;34m\u001b[0m\u001b[0;34m\u001b[0m\u001b[0m\n",
      "\u001b[0;32m/opt/anaconda3/lib/python3.7/site-packages/pvlib/pvsystem.py\u001b[0m in \u001b[0;36mscale_voltage_current_power\u001b[0;34m(self, data)\u001b[0m\n\u001b[1;32m   1053\u001b[0m                                         \u001b[0mvoltage\u001b[0m\u001b[0;34m=\u001b[0m\u001b[0marray\u001b[0m\u001b[0;34m.\u001b[0m\u001b[0mmodules_per_string\u001b[0m\u001b[0;34m,\u001b[0m\u001b[0;34m\u001b[0m\u001b[0;34m\u001b[0m\u001b[0m\n\u001b[1;32m   1054\u001b[0m                                         current=array.strings)\n\u001b[0;32m-> 1055\u001b[0;31m             \u001b[0;32mfor\u001b[0m \u001b[0marray\u001b[0m\u001b[0;34m,\u001b[0m \u001b[0mdata\u001b[0m \u001b[0;32min\u001b[0m \u001b[0mzip\u001b[0m\u001b[0;34m(\u001b[0m\u001b[0mself\u001b[0m\u001b[0;34m.\u001b[0m\u001b[0marrays\u001b[0m\u001b[0;34m,\u001b[0m \u001b[0mdata\u001b[0m\u001b[0;34m)\u001b[0m\u001b[0;34m\u001b[0m\u001b[0;34m\u001b[0m\u001b[0m\n\u001b[0m\u001b[1;32m   1056\u001b[0m         )\n\u001b[1;32m   1057\u001b[0m \u001b[0;34m\u001b[0m\u001b[0m\n",
      "\u001b[0;32m/opt/anaconda3/lib/python3.7/site-packages/pvlib/pvsystem.py\u001b[0m in \u001b[0;36m<genexpr>\u001b[0;34m(.0)\u001b[0m\n\u001b[1;32m   1053\u001b[0m                                         \u001b[0mvoltage\u001b[0m\u001b[0;34m=\u001b[0m\u001b[0marray\u001b[0m\u001b[0;34m.\u001b[0m\u001b[0mmodules_per_string\u001b[0m\u001b[0;34m,\u001b[0m\u001b[0;34m\u001b[0m\u001b[0;34m\u001b[0m\u001b[0m\n\u001b[1;32m   1054\u001b[0m                                         current=array.strings)\n\u001b[0;32m-> 1055\u001b[0;31m             \u001b[0;32mfor\u001b[0m \u001b[0marray\u001b[0m\u001b[0;34m,\u001b[0m \u001b[0mdata\u001b[0m \u001b[0;32min\u001b[0m \u001b[0mzip\u001b[0m\u001b[0;34m(\u001b[0m\u001b[0mself\u001b[0m\u001b[0;34m.\u001b[0m\u001b[0marrays\u001b[0m\u001b[0;34m,\u001b[0m \u001b[0mdata\u001b[0m\u001b[0;34m)\u001b[0m\u001b[0;34m\u001b[0m\u001b[0;34m\u001b[0m\u001b[0m\n\u001b[0m\u001b[1;32m   1056\u001b[0m         )\n\u001b[1;32m   1057\u001b[0m \u001b[0;34m\u001b[0m\u001b[0m\n",
      "\u001b[0;32m/opt/anaconda3/lib/python3.7/site-packages/pvlib/pvsystem.py\u001b[0m in \u001b[0;36mscale_voltage_current_power\u001b[0;34m(data, voltage, current)\u001b[0m\n\u001b[1;32m   3146\u001b[0m     \u001b[0mpower_keys\u001b[0m \u001b[0;34m=\u001b[0m \u001b[0;34m[\u001b[0m\u001b[0;34m'p_mp'\u001b[0m\u001b[0;34m]\u001b[0m\u001b[0;34m\u001b[0m\u001b[0;34m\u001b[0m\u001b[0m\n\u001b[1;32m   3147\u001b[0m     \u001b[0mvoltage_df\u001b[0m \u001b[0;34m=\u001b[0m \u001b[0mdata\u001b[0m\u001b[0;34m.\u001b[0m\u001b[0mfilter\u001b[0m\u001b[0;34m(\u001b[0m\u001b[0mvoltage_keys\u001b[0m\u001b[0;34m,\u001b[0m \u001b[0maxis\u001b[0m\u001b[0;34m=\u001b[0m\u001b[0;36m1\u001b[0m\u001b[0;34m)\u001b[0m \u001b[0;34m*\u001b[0m \u001b[0mvoltage\u001b[0m\u001b[0;34m\u001b[0m\u001b[0;34m\u001b[0m\u001b[0m\n\u001b[0;32m-> 3148\u001b[0;31m     \u001b[0mcurrent_df\u001b[0m \u001b[0;34m=\u001b[0m \u001b[0mdata\u001b[0m\u001b[0;34m.\u001b[0m\u001b[0mfilter\u001b[0m\u001b[0;34m(\u001b[0m\u001b[0mcurrent_keys\u001b[0m\u001b[0;34m,\u001b[0m \u001b[0maxis\u001b[0m\u001b[0;34m=\u001b[0m\u001b[0;36m1\u001b[0m\u001b[0;34m)\u001b[0m \u001b[0;34m*\u001b[0m \u001b[0mcurrent\u001b[0m\u001b[0;34m\u001b[0m\u001b[0;34m\u001b[0m\u001b[0m\n\u001b[0m\u001b[1;32m   3149\u001b[0m     \u001b[0mpower_df\u001b[0m \u001b[0;34m=\u001b[0m \u001b[0mdata\u001b[0m\u001b[0;34m.\u001b[0m\u001b[0mfilter\u001b[0m\u001b[0;34m(\u001b[0m\u001b[0mpower_keys\u001b[0m\u001b[0;34m,\u001b[0m \u001b[0maxis\u001b[0m\u001b[0;34m=\u001b[0m\u001b[0;36m1\u001b[0m\u001b[0;34m)\u001b[0m \u001b[0;34m*\u001b[0m \u001b[0mvoltage\u001b[0m \u001b[0;34m*\u001b[0m \u001b[0mcurrent\u001b[0m\u001b[0;34m\u001b[0m\u001b[0;34m\u001b[0m\u001b[0m\n\u001b[1;32m   3150\u001b[0m     \u001b[0mdf\u001b[0m \u001b[0;34m=\u001b[0m \u001b[0mpd\u001b[0m\u001b[0;34m.\u001b[0m\u001b[0mconcat\u001b[0m\u001b[0;34m(\u001b[0m\u001b[0;34m[\u001b[0m\u001b[0mvoltage_df\u001b[0m\u001b[0;34m,\u001b[0m \u001b[0mcurrent_df\u001b[0m\u001b[0;34m,\u001b[0m \u001b[0mpower_df\u001b[0m\u001b[0;34m]\u001b[0m\u001b[0;34m,\u001b[0m \u001b[0maxis\u001b[0m\u001b[0;34m=\u001b[0m\u001b[0;36m1\u001b[0m\u001b[0;34m)\u001b[0m\u001b[0;34m\u001b[0m\u001b[0;34m\u001b[0m\u001b[0m\n",
      "\u001b[0;32m/opt/anaconda3/lib/python3.7/site-packages/pandas/core/ops/__init__.py\u001b[0m in \u001b[0;36mf\u001b[0;34m(self, other, axis, level, fill_value)\u001b[0m\n\u001b[1;32m   1486\u001b[0m     \u001b[0;32mdef\u001b[0m \u001b[0mf\u001b[0m\u001b[0;34m(\u001b[0m\u001b[0mself\u001b[0m\u001b[0;34m,\u001b[0m \u001b[0mother\u001b[0m\u001b[0;34m,\u001b[0m \u001b[0maxis\u001b[0m\u001b[0;34m=\u001b[0m\u001b[0mdefault_axis\u001b[0m\u001b[0;34m,\u001b[0m \u001b[0mlevel\u001b[0m\u001b[0;34m=\u001b[0m\u001b[0;32mNone\u001b[0m\u001b[0;34m,\u001b[0m \u001b[0mfill_value\u001b[0m\u001b[0;34m=\u001b[0m\u001b[0;32mNone\u001b[0m\u001b[0;34m)\u001b[0m\u001b[0;34m:\u001b[0m\u001b[0;34m\u001b[0m\u001b[0;34m\u001b[0m\u001b[0m\n\u001b[1;32m   1487\u001b[0m \u001b[0;34m\u001b[0m\u001b[0m\n\u001b[0;32m-> 1488\u001b[0;31m         \u001b[0mother\u001b[0m \u001b[0;34m=\u001b[0m \u001b[0m_align_method_FRAME\u001b[0m\u001b[0;34m(\u001b[0m\u001b[0mself\u001b[0m\u001b[0;34m,\u001b[0m \u001b[0mother\u001b[0m\u001b[0;34m,\u001b[0m \u001b[0maxis\u001b[0m\u001b[0;34m)\u001b[0m\u001b[0;34m\u001b[0m\u001b[0;34m\u001b[0m\u001b[0m\n\u001b[0m\u001b[1;32m   1489\u001b[0m \u001b[0;34m\u001b[0m\u001b[0m\n\u001b[1;32m   1490\u001b[0m         \u001b[0;32mif\u001b[0m \u001b[0misinstance\u001b[0m\u001b[0;34m(\u001b[0m\u001b[0mother\u001b[0m\u001b[0;34m,\u001b[0m \u001b[0mABCDataFrame\u001b[0m\u001b[0;34m)\u001b[0m\u001b[0;34m:\u001b[0m\u001b[0;34m\u001b[0m\u001b[0;34m\u001b[0m\u001b[0m\n",
      "\u001b[0;32m/opt/anaconda3/lib/python3.7/site-packages/pandas/core/ops/__init__.py\u001b[0m in \u001b[0;36m_align_method_FRAME\u001b[0;34m(left, right, axis)\u001b[0m\n\u001b[1;32m   1456\u001b[0m     \u001b[0;32melif\u001b[0m \u001b[0mis_list_like\u001b[0m\u001b[0;34m(\u001b[0m\u001b[0mright\u001b[0m\u001b[0;34m)\u001b[0m \u001b[0;32mand\u001b[0m \u001b[0;32mnot\u001b[0m \u001b[0misinstance\u001b[0m\u001b[0;34m(\u001b[0m\u001b[0mright\u001b[0m\u001b[0;34m,\u001b[0m \u001b[0;34m(\u001b[0m\u001b[0mABCSeries\u001b[0m\u001b[0;34m,\u001b[0m \u001b[0mABCDataFrame\u001b[0m\u001b[0;34m)\u001b[0m\u001b[0;34m)\u001b[0m\u001b[0;34m:\u001b[0m\u001b[0;34m\u001b[0m\u001b[0;34m\u001b[0m\u001b[0m\n\u001b[1;32m   1457\u001b[0m         \u001b[0;31m# GH17901\u001b[0m\u001b[0;34m\u001b[0m\u001b[0;34m\u001b[0m\u001b[0;34m\u001b[0m\u001b[0m\n\u001b[0;32m-> 1458\u001b[0;31m         \u001b[0mright\u001b[0m \u001b[0;34m=\u001b[0m \u001b[0mto_series\u001b[0m\u001b[0;34m(\u001b[0m\u001b[0mright\u001b[0m\u001b[0;34m)\u001b[0m\u001b[0;34m\u001b[0m\u001b[0;34m\u001b[0m\u001b[0m\n\u001b[0m\u001b[1;32m   1459\u001b[0m \u001b[0;34m\u001b[0m\u001b[0m\n\u001b[1;32m   1460\u001b[0m     \u001b[0;32mreturn\u001b[0m \u001b[0mright\u001b[0m\u001b[0;34m\u001b[0m\u001b[0;34m\u001b[0m\u001b[0m\n",
      "\u001b[0;32m/opt/anaconda3/lib/python3.7/site-packages/pandas/core/ops/__init__.py\u001b[0m in \u001b[0;36mto_series\u001b[0;34m(right)\u001b[0m\n\u001b[1;32m   1417\u001b[0m             \u001b[0;32mif\u001b[0m \u001b[0mlen\u001b[0m\u001b[0;34m(\u001b[0m\u001b[0mleft\u001b[0m\u001b[0;34m.\u001b[0m\u001b[0mcolumns\u001b[0m\u001b[0;34m)\u001b[0m \u001b[0;34m!=\u001b[0m \u001b[0mlen\u001b[0m\u001b[0;34m(\u001b[0m\u001b[0mright\u001b[0m\u001b[0;34m)\u001b[0m\u001b[0;34m:\u001b[0m\u001b[0;34m\u001b[0m\u001b[0;34m\u001b[0m\u001b[0m\n\u001b[1;32m   1418\u001b[0m                 raise ValueError(\n\u001b[0;32m-> 1419\u001b[0;31m                     \u001b[0mmsg\u001b[0m\u001b[0;34m.\u001b[0m\u001b[0mformat\u001b[0m\u001b[0;34m(\u001b[0m\u001b[0mreq_len\u001b[0m\u001b[0;34m=\u001b[0m\u001b[0mlen\u001b[0m\u001b[0;34m(\u001b[0m\u001b[0mleft\u001b[0m\u001b[0;34m.\u001b[0m\u001b[0mcolumns\u001b[0m\u001b[0;34m)\u001b[0m\u001b[0;34m,\u001b[0m \u001b[0mgiven_len\u001b[0m\u001b[0;34m=\u001b[0m\u001b[0mlen\u001b[0m\u001b[0;34m(\u001b[0m\u001b[0mright\u001b[0m\u001b[0;34m)\u001b[0m\u001b[0;34m)\u001b[0m\u001b[0;34m\u001b[0m\u001b[0;34m\u001b[0m\u001b[0m\n\u001b[0m\u001b[1;32m   1420\u001b[0m                 )\n\u001b[1;32m   1421\u001b[0m             \u001b[0mright\u001b[0m \u001b[0;34m=\u001b[0m \u001b[0mleft\u001b[0m\u001b[0;34m.\u001b[0m\u001b[0m_constructor_sliced\u001b[0m\u001b[0;34m(\u001b[0m\u001b[0mright\u001b[0m\u001b[0;34m,\u001b[0m \u001b[0mindex\u001b[0m\u001b[0;34m=\u001b[0m\u001b[0mleft\u001b[0m\u001b[0;34m.\u001b[0m\u001b[0mcolumns\u001b[0m\u001b[0;34m)\u001b[0m\u001b[0;34m\u001b[0m\u001b[0;34m\u001b[0m\u001b[0m\n",
      "\u001b[0;31mValueError\u001b[0m: Unable to coerce to Series, length must be 4: given 2"
     ]
    }
   ],
   "source": [
    "dc, ac, energy = cno.production.production_pipeline(poa=poa.poa_global, \n",
    "                                                    cell_temperature=temp_cell, \n",
    "                                                    module=module, \n",
    "                                                    inverter=inverter, \n",
    "                                                    system=system, \n",
    "                                                    ac_model=ac_model, \n",
    "                                                    loss=loss, \n",
    "                                                    resolution=resolution, \n",
    "                                                    num_inverter=num_inverter,\n",
    "                                                    per_mppt=per_mppt,\n",
    "                                                    energy_units=energy_units)"
   ]
  },
  {
   "cell_type": "code",
   "execution_count": null,
   "metadata": {
    "scrolled": true
   },
   "outputs": [],
   "source": [
    "dc"
   ]
  },
  {
   "cell_type": "code",
   "execution_count": null,
   "metadata": {},
   "outputs": [],
   "source": [
    "ac"
   ]
  },
  {
   "cell_type": "code",
   "execution_count": null,
   "metadata": {
    "scrolled": true
   },
   "outputs": [],
   "source": [
    "energy"
   ]
  },
  {
   "cell_type": "markdown",
   "metadata": {},
   "source": [
    "## 7. Capacidad Efectiva Neta (CEN)"
   ]
  },
  {
   "cell_type": "code",
   "execution_count": null,
   "metadata": {},
   "outputs": [],
   "source": [
    "route()\n",
    "import cno_cen\n",
    "\n",
    "perc = 99 # Percentil CEN\n",
    "\n",
    "cen_per, cen_pmax = cno_cen.get_cen(ac=ac, \n",
    "                                    perc=perc,\n",
    "                                    decimals=2,\n",
    "                                    curve=True)"
   ]
  },
  {
   "cell_type": "markdown",
   "metadata": {},
   "source": [
    "## 8. ENFICC"
   ]
  },
  {
   "cell_type": "code",
   "execution_count": null,
   "metadata": {},
   "outputs": [],
   "source": [
    "route()\n",
    "import cno_energia_firme\n",
    "\n",
    "# Prepare Data\n",
    "df_hora = df[['GHI', 'Temperature']]\n",
    "df_hora['GHI'] = df_hora['GHI'] / 1000 # W to kW\n",
    "df_hora = df_hora.loc[df_hora.GHI != 0]\n",
    "\n",
    "ghi = df_hora.resample('M').apply(lambda x: x.quantile(0.95)).GHI # https://stackoverflow.com/questions/39246664/calculate-percentiles-quantiles-for-a-timeseries-with-resample-or-groupby-pand\n",
    "insolation = df_hora['GHI'].resample('M').sum() # kWh/m2 / month\n",
    "temp = df_hora['Temperature'].resample('M').mean()\n",
    "\n",
    "df_mes = pd.DataFrame({'GHI': ghi, 'Insolation': insolation,'Temperature': temp})\n",
    "\n",
    "# ENFICC CREG 201 de 2017\n",
    "efirme, enficc_t = cno_energia_firme.enficc_creg(df=df_mes, \n",
    "                                                 Kinc=1.1981, \n",
    "                                                 IHF=0.1, \n",
    "                                                 CEN=cen_per, \n",
    "                                                 a=1.10e-05, \n",
    "                                                 b=-0.0007, \n",
    "                                                 c=0.0185, \n",
    "                                                 d=-0.1157, \n",
    "                                                 Kmedt=0.8540)\n",
    "\n",
    "# Energía Firme PVlib + CREG\n",
    "__, enficc_v2 = cno_energia_firme.efirme_pvlib_creg(energy=energy)\n",
    "\n",
    "# Energía Firme: PVlib + Min\n",
    "enficc_v3 = cno_energia_firme.efirme_pvlib_min(energy=energy)\n",
    "\n",
    "# Energía Firme: PVlib + Percentil\n",
    "enficc_v4 = cno_energia_firme.efirme_pvlib_percentile(energy=energy,\n",
    "                                                      percentile=95)"
   ]
  },
  {
   "cell_type": "code",
   "execution_count": null,
   "metadata": {},
   "outputs": [],
   "source": [
    "#Energy Error Comparison Plot\n",
    "\n",
    "months = ['Jan\\n2019', 'Feb', 'Mar', 'Abr', 'May', 'Jun', 'Jul', 'Ago', 'Sep', 'Oct', 'Nov', 'Dec', \n",
    "          'Jan\\n2020', 'Feb', 'Mar', 'Abr', 'May', 'Jun', 'Jul', 'Ago', 'Sep', 'Oct', 'Nov', 'Dec']\n",
    "\n",
    "x = np.arange(len(months))\n",
    "\n",
    "#Bar Plots\n",
    "route()\n",
    "import cno_plots_metrics\n",
    "\n",
    "hor, ver = 13, 5\n",
    "plt.figure(figsize=(hor,ver))\n",
    "\n",
    "plt.bar(x, energy['month']['energy'].tail(12*2), color='#1580E4',\n",
    "        label=f'ENFICC CREG 201 = {enficc_t} kWh/día\\\n",
    "                \\n\\nEF PVlib-CREG = {enficc_v2} kWh/día\\\n",
    "                \\n\\nEF PVlib-Min = {enficc_v3} kWh/día\\\n",
    "                \\n\\nEF PVlib-Perc ({perc} %) = {enficc_v4} kWh/día')\n",
    "\n",
    "plt.xticks(x, months);\n",
    "\n",
    "cno_plots_metrics.plot_specs(title='Energía Mensual',\n",
    "                             ylabel=f'Energía, ${energy_units}$',\n",
    "                             xlabel='Tiempo',\n",
    "                             rot=0, \n",
    "                             ylim_min=0, ylim_max=None, \n",
    "                             xlim_min=None, xlim_max=None, \n",
    "                             loc='best')\n",
    "plt.legend(loc='best', bbox_to_anchor=(1,1), fontsize=9.5);"
   ]
  },
  {
   "cell_type": "markdown",
   "metadata": {},
   "source": [
    "## 9. Relación Recurso-Potencia"
   ]
  },
  {
   "cell_type": "code",
   "execution_count": null,
   "metadata": {},
   "outputs": [],
   "source": [
    "route()\n",
    "import cno_recurso_potencia\n",
    "\n",
    "cno_recurso_potencia.get_curve(poa=poa.poa_global, \n",
    "                               ac=ac, \n",
    "                               ac_units='MW')"
   ]
  },
  {
   "cell_type": "markdown",
   "metadata": {},
   "source": [
    "---"
   ]
  }
 ],
 "metadata": {
  "kernelspec": {
   "display_name": "Python 3",
   "language": "python",
   "name": "python3"
  },
  "language_info": {
   "codemirror_mode": {
    "name": "ipython",
    "version": 3
   },
   "file_extension": ".py",
   "mimetype": "text/x-python",
   "name": "python",
   "nbconvert_exporter": "python",
   "pygments_lexer": "ipython3",
   "version": "3.7.4"
  }
 },
 "nbformat": 4,
 "nbformat_minor": 4
}

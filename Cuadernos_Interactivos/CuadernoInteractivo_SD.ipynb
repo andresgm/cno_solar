{
 "cells": [
  {
   "cell_type": "code",
   "execution_count": 1,
   "metadata": {},
   "outputs": [
    {
     "name": "stdout",
     "output_type": "stream",
     "text": [
      "Successfully executed from __main__.\n"
     ]
    }
   ],
   "source": [
    "def route():\n",
    "    import sys  \n",
    "    sys.path.insert(0, './scripts')\n",
    "\n",
    "route()\n",
    "import cno_libraries\n",
    "%run -i './scripts/cno_libraries.py'"
   ]
  },
  {
   "cell_type": "markdown",
   "metadata": {},
   "source": [
    "## 1. Configuración Inicial"
   ]
  },
  {
   "cell_type": "code",
   "execution_count": 2,
   "metadata": {},
   "outputs": [],
   "source": [
    "# Información Geográfica\n",
    "latitude = 4.604535       #Latitud\n",
    "longitude = -74.066038    #Longitud\n",
    "tz = 'America/Bogota'     #Huso Horario\n",
    "altitude = 2632           #Altitud\n",
    "surface_type = 'urban'    #irradiance.SURFACE_ALBEDOS\n",
    "\n",
    "# Base de Datos\n",
    "file_name = 'tmy_sd'\n",
    "prefix = 'sd'\n",
    "\n",
    "# Configuración del Sistema\n",
    "## Inversor\n",
    "inverters_database = 'CECInverter' # ['CECInverter', 'SandiaInverter', 'ADRInverter']\n",
    "inverter_name = 'ABB__TRIO_50_0_TL_OUTD_US_480__480V_' # System A\n",
    "# inverter_name = 'ABB__TRIO_27_6_TL_OUTD_S_US_480__480V_' # System B\n",
    "\n",
    "## Módulo\n",
    "modules_database = 'CECMod' # ['CECMod', 'SandiaMod']\n",
    "module_name = 'LG_Electronics_Inc__LG400N2W_A5'\n",
    "module_type = 'open_rack_glass_glass' #['open_rack_glass_glass', 'close_mount_glass_glass', 'open_rack_glass_polymer', 'insulated_back_glass_polymer']\n",
    "surface_azimuth=180\n",
    "surface_tilt=10\n",
    "\n",
    "## Tracker\n",
    "with_tracker = False\n",
    "tracker_axis = 0\n",
    "axis_tilt = 0\n",
    "axis_azimuth = 0 #Heading south\n",
    "max_angle = 0\n",
    "racking_model = 'open_rack'\n",
    "module_height = None\n",
    "\n",
    "## Arreglo\n",
    "num_arrays = 1\n",
    "modules_per_string = [16] #Modules Per String [16 - SysA, 18 - SysB]\n",
    "strings_per_inverter = [8] #Strings Per Inverter [8 - SysA, 4 - SysB]\n",
    "array_name = ['SysA']\n",
    "\n",
    "# Modelado de Producción con PVlib\n",
    "ac_model='sandia'\n",
    "loss = 26.9\n",
    "num_inverter = 1\n",
    "resolution = 60\n",
    "energy_units = 'Wh'"
   ]
  },
  {
   "cell_type": "markdown",
   "metadata": {},
   "source": [
    "## 2. Base de Datos"
   ]
  },
  {
   "cell_type": "code",
   "execution_count": 3,
   "metadata": {},
   "outputs": [
    {
     "data": {
      "text/html": [
       "<div>\n",
       "<style scoped>\n",
       "    .dataframe tbody tr th:only-of-type {\n",
       "        vertical-align: middle;\n",
       "    }\n",
       "\n",
       "    .dataframe tbody tr th {\n",
       "        vertical-align: top;\n",
       "    }\n",
       "\n",
       "    .dataframe thead th {\n",
       "        text-align: right;\n",
       "    }\n",
       "</style>\n",
       "<table border=\"1\" class=\"dataframe\">\n",
       "  <thead>\n",
       "    <tr style=\"text-align: right;\">\n",
       "      <th></th>\n",
       "      <th>Year</th>\n",
       "      <th>Month</th>\n",
       "      <th>Day</th>\n",
       "      <th>Hour</th>\n",
       "      <th>Minute</th>\n",
       "      <th>DHI</th>\n",
       "      <th>DNI</th>\n",
       "      <th>GHI</th>\n",
       "      <th>Clearsky DHI</th>\n",
       "      <th>Clearsky DNI</th>\n",
       "      <th>Clearsky GHI</th>\n",
       "      <th>Dew Point</th>\n",
       "      <th>Solar Zenith Angle</th>\n",
       "      <th>Surface Albedo</th>\n",
       "      <th>Wind Speed</th>\n",
       "      <th>Precipitable Water</th>\n",
       "      <th>Wind Direction</th>\n",
       "      <th>Relative Humidity</th>\n",
       "      <th>Temperature</th>\n",
       "      <th>Pressure</th>\n",
       "    </tr>\n",
       "  </thead>\n",
       "  <tbody>\n",
       "    <tr>\n",
       "      <td>2000-01-01 00:30:00-05:00</td>\n",
       "      <td>2000</td>\n",
       "      <td>1</td>\n",
       "      <td>1</td>\n",
       "      <td>0</td>\n",
       "      <td>30</td>\n",
       "      <td>0.0</td>\n",
       "      <td>0.0</td>\n",
       "      <td>0.0</td>\n",
       "      <td>0.0</td>\n",
       "      <td>0.0</td>\n",
       "      <td>0.0</td>\n",
       "      <td>13.0</td>\n",
       "      <td>160.13</td>\n",
       "      <td>0.094</td>\n",
       "      <td>0.2</td>\n",
       "      <td>2.312</td>\n",
       "      <td>182.2</td>\n",
       "      <td>95.06</td>\n",
       "      <td>9.0</td>\n",
       "      <td>740.0</td>\n",
       "    </tr>\n",
       "    <tr>\n",
       "      <td>2000-01-01 01:30:00-05:00</td>\n",
       "      <td>2000</td>\n",
       "      <td>1</td>\n",
       "      <td>1</td>\n",
       "      <td>1</td>\n",
       "      <td>30</td>\n",
       "      <td>0.0</td>\n",
       "      <td>0.0</td>\n",
       "      <td>0.0</td>\n",
       "      <td>0.0</td>\n",
       "      <td>0.0</td>\n",
       "      <td>0.0</td>\n",
       "      <td>12.0</td>\n",
       "      <td>151.39</td>\n",
       "      <td>0.094</td>\n",
       "      <td>0.1</td>\n",
       "      <td>2.265</td>\n",
       "      <td>154.0</td>\n",
       "      <td>93.07</td>\n",
       "      <td>9.0</td>\n",
       "      <td>740.0</td>\n",
       "    </tr>\n",
       "    <tr>\n",
       "      <td>2000-01-01 02:30:00-05:00</td>\n",
       "      <td>2000</td>\n",
       "      <td>1</td>\n",
       "      <td>1</td>\n",
       "      <td>2</td>\n",
       "      <td>30</td>\n",
       "      <td>0.0</td>\n",
       "      <td>0.0</td>\n",
       "      <td>0.0</td>\n",
       "      <td>0.0</td>\n",
       "      <td>0.0</td>\n",
       "      <td>0.0</td>\n",
       "      <td>12.0</td>\n",
       "      <td>139.27</td>\n",
       "      <td>0.094</td>\n",
       "      <td>0.2</td>\n",
       "      <td>2.231</td>\n",
       "      <td>47.6</td>\n",
       "      <td>97.27</td>\n",
       "      <td>9.0</td>\n",
       "      <td>740.0</td>\n",
       "    </tr>\n",
       "    <tr>\n",
       "      <td>2000-01-01 03:30:00-05:00</td>\n",
       "      <td>2000</td>\n",
       "      <td>1</td>\n",
       "      <td>1</td>\n",
       "      <td>3</td>\n",
       "      <td>30</td>\n",
       "      <td>0.0</td>\n",
       "      <td>0.0</td>\n",
       "      <td>0.0</td>\n",
       "      <td>0.0</td>\n",
       "      <td>0.0</td>\n",
       "      <td>0.0</td>\n",
       "      <td>12.0</td>\n",
       "      <td>126.02</td>\n",
       "      <td>0.094</td>\n",
       "      <td>0.3</td>\n",
       "      <td>2.197</td>\n",
       "      <td>26.9</td>\n",
       "      <td>95.36</td>\n",
       "      <td>9.0</td>\n",
       "      <td>740.0</td>\n",
       "    </tr>\n",
       "    <tr>\n",
       "      <td>2000-01-01 04:30:00-05:00</td>\n",
       "      <td>2000</td>\n",
       "      <td>1</td>\n",
       "      <td>1</td>\n",
       "      <td>4</td>\n",
       "      <td>30</td>\n",
       "      <td>0.0</td>\n",
       "      <td>0.0</td>\n",
       "      <td>0.0</td>\n",
       "      <td>0.0</td>\n",
       "      <td>0.0</td>\n",
       "      <td>0.0</td>\n",
       "      <td>12.0</td>\n",
       "      <td>112.37</td>\n",
       "      <td>0.094</td>\n",
       "      <td>0.2</td>\n",
       "      <td>2.155</td>\n",
       "      <td>16.1</td>\n",
       "      <td>93.67</td>\n",
       "      <td>9.0</td>\n",
       "      <td>740.0</td>\n",
       "    </tr>\n",
       "  </tbody>\n",
       "</table>\n",
       "</div>"
      ],
      "text/plain": [
       "                           Year  Month  Day  Hour  Minute  DHI  DNI  GHI  \\\n",
       "2000-01-01 00:30:00-05:00  2000      1    1     0      30  0.0  0.0  0.0   \n",
       "2000-01-01 01:30:00-05:00  2000      1    1     1      30  0.0  0.0  0.0   \n",
       "2000-01-01 02:30:00-05:00  2000      1    1     2      30  0.0  0.0  0.0   \n",
       "2000-01-01 03:30:00-05:00  2000      1    1     3      30  0.0  0.0  0.0   \n",
       "2000-01-01 04:30:00-05:00  2000      1    1     4      30  0.0  0.0  0.0   \n",
       "\n",
       "                           Clearsky DHI  Clearsky DNI  Clearsky GHI  \\\n",
       "2000-01-01 00:30:00-05:00           0.0           0.0           0.0   \n",
       "2000-01-01 01:30:00-05:00           0.0           0.0           0.0   \n",
       "2000-01-01 02:30:00-05:00           0.0           0.0           0.0   \n",
       "2000-01-01 03:30:00-05:00           0.0           0.0           0.0   \n",
       "2000-01-01 04:30:00-05:00           0.0           0.0           0.0   \n",
       "\n",
       "                           Dew Point  Solar Zenith Angle  Surface Albedo  \\\n",
       "2000-01-01 00:30:00-05:00       13.0              160.13           0.094   \n",
       "2000-01-01 01:30:00-05:00       12.0              151.39           0.094   \n",
       "2000-01-01 02:30:00-05:00       12.0              139.27           0.094   \n",
       "2000-01-01 03:30:00-05:00       12.0              126.02           0.094   \n",
       "2000-01-01 04:30:00-05:00       12.0              112.37           0.094   \n",
       "\n",
       "                           Wind Speed  Precipitable Water  Wind Direction  \\\n",
       "2000-01-01 00:30:00-05:00         0.2               2.312           182.2   \n",
       "2000-01-01 01:30:00-05:00         0.1               2.265           154.0   \n",
       "2000-01-01 02:30:00-05:00         0.2               2.231            47.6   \n",
       "2000-01-01 03:30:00-05:00         0.3               2.197            26.9   \n",
       "2000-01-01 04:30:00-05:00         0.2               2.155            16.1   \n",
       "\n",
       "                           Relative Humidity  Temperature  Pressure  \n",
       "2000-01-01 00:30:00-05:00              95.06          9.0     740.0  \n",
       "2000-01-01 01:30:00-05:00              93.07          9.0     740.0  \n",
       "2000-01-01 02:30:00-05:00              97.27          9.0     740.0  \n",
       "2000-01-01 03:30:00-05:00              95.36          9.0     740.0  \n",
       "2000-01-01 04:30:00-05:00              93.67          9.0     740.0  "
      ]
     },
     "execution_count": 3,
     "metadata": {},
     "output_type": "execute_result"
    }
   ],
   "source": [
    "route()\n",
    "import cno_data\n",
    "\n",
    "df = cno_data.load_csv(file_name=file_name, tz=tz)\n",
    "df.head()"
   ]
  },
  {
   "cell_type": "markdown",
   "metadata": {},
   "source": [
    "## 3. Datos Meteorológicos"
   ]
  },
  {
   "cell_type": "code",
   "execution_count": 4,
   "metadata": {},
   "outputs": [
    {
     "data": {
      "text/html": [
       "<div>\n",
       "<style scoped>\n",
       "    .dataframe tbody tr th:only-of-type {\n",
       "        vertical-align: middle;\n",
       "    }\n",
       "\n",
       "    .dataframe tbody tr th {\n",
       "        vertical-align: top;\n",
       "    }\n",
       "\n",
       "    .dataframe thead th {\n",
       "        text-align: right;\n",
       "    }\n",
       "</style>\n",
       "<table border=\"1\" class=\"dataframe\">\n",
       "  <thead>\n",
       "    <tr style=\"text-align: right;\">\n",
       "      <th></th>\n",
       "      <th>apparent_zenith</th>\n",
       "      <th>zenith</th>\n",
       "      <th>apparent_elevation</th>\n",
       "      <th>elevation</th>\n",
       "      <th>azimuth</th>\n",
       "      <th>equation_of_time</th>\n",
       "    </tr>\n",
       "  </thead>\n",
       "  <tbody>\n",
       "    <tr>\n",
       "      <td>2000-01-01 00:30:00-05:00</td>\n",
       "      <td>160.128596</td>\n",
       "      <td>160.128596</td>\n",
       "      <td>-70.128596</td>\n",
       "      <td>-70.128596</td>\n",
       "      <td>158.893404</td>\n",
       "      <td>-3.152909</td>\n",
       "    </tr>\n",
       "    <tr>\n",
       "      <td>2000-01-01 01:30:00-05:00</td>\n",
       "      <td>151.396797</td>\n",
       "      <td>151.396797</td>\n",
       "      <td>-61.396797</td>\n",
       "      <td>-61.396797</td>\n",
       "      <td>132.282295</td>\n",
       "      <td>-3.172747</td>\n",
       "    </tr>\n",
       "    <tr>\n",
       "      <td>2000-01-01 02:30:00-05:00</td>\n",
       "      <td>139.270912</td>\n",
       "      <td>139.270912</td>\n",
       "      <td>-49.270912</td>\n",
       "      <td>-49.270912</td>\n",
       "      <td>120.556648</td>\n",
       "      <td>-3.192577</td>\n",
       "    </tr>\n",
       "    <tr>\n",
       "      <td>2000-01-01 03:30:00-05:00</td>\n",
       "      <td>126.027754</td>\n",
       "      <td>126.027754</td>\n",
       "      <td>-36.027754</td>\n",
       "      <td>-36.027754</td>\n",
       "      <td>115.277253</td>\n",
       "      <td>-3.212399</td>\n",
       "    </tr>\n",
       "    <tr>\n",
       "      <td>2000-01-01 04:30:00-05:00</td>\n",
       "      <td>112.372445</td>\n",
       "      <td>112.372445</td>\n",
       "      <td>-22.372445</td>\n",
       "      <td>-22.372445</td>\n",
       "      <td>113.045370</td>\n",
       "      <td>-3.232213</td>\n",
       "    </tr>\n",
       "  </tbody>\n",
       "</table>\n",
       "</div>"
      ],
      "text/plain": [
       "                           apparent_zenith      zenith  apparent_elevation  \\\n",
       "2000-01-01 00:30:00-05:00       160.128596  160.128596          -70.128596   \n",
       "2000-01-01 01:30:00-05:00       151.396797  151.396797          -61.396797   \n",
       "2000-01-01 02:30:00-05:00       139.270912  139.270912          -49.270912   \n",
       "2000-01-01 03:30:00-05:00       126.027754  126.027754          -36.027754   \n",
       "2000-01-01 04:30:00-05:00       112.372445  112.372445          -22.372445   \n",
       "\n",
       "                           elevation     azimuth  equation_of_time  \n",
       "2000-01-01 00:30:00-05:00 -70.128596  158.893404         -3.152909  \n",
       "2000-01-01 01:30:00-05:00 -61.396797  132.282295         -3.172747  \n",
       "2000-01-01 02:30:00-05:00 -49.270912  120.556648         -3.192577  \n",
       "2000-01-01 03:30:00-05:00 -36.027754  115.277253         -3.212399  \n",
       "2000-01-01 04:30:00-05:00 -22.372445  113.045370         -3.232213  "
      ]
     },
     "execution_count": 4,
     "metadata": {},
     "output_type": "execute_result"
    }
   ],
   "source": [
    "route()\n",
    "import cno_meteorology\n",
    "\n",
    "location, solpos, airmass, etr_nrel = cno_meteorology.get_meteo(latitude, \n",
    "                                                                longitude, \n",
    "                                                                tz, \n",
    "                                                                altitude, \n",
    "                                                                datetime=df.index)\n",
    "\n",
    "solpos.head()"
   ]
  },
  {
   "cell_type": "markdown",
   "metadata": {},
   "source": [
    "## 4. Descomposición + Transposición"
   ]
  },
  {
   "cell_type": "markdown",
   "metadata": {},
   "source": [
    "### 4.1. Descomposición: DISC"
   ]
  },
  {
   "cell_type": "code",
   "execution_count": 5,
   "metadata": {},
   "outputs": [
    {
     "data": {
      "text/html": [
       "<div>\n",
       "<style scoped>\n",
       "    .dataframe tbody tr th:only-of-type {\n",
       "        vertical-align: middle;\n",
       "    }\n",
       "\n",
       "    .dataframe tbody tr th {\n",
       "        vertical-align: top;\n",
       "    }\n",
       "\n",
       "    .dataframe thead th {\n",
       "        text-align: right;\n",
       "    }\n",
       "</style>\n",
       "<table border=\"1\" class=\"dataframe\">\n",
       "  <thead>\n",
       "    <tr style=\"text-align: right;\">\n",
       "      <th></th>\n",
       "      <th>dni</th>\n",
       "      <th>kt</th>\n",
       "      <th>airmass</th>\n",
       "      <th>dhi</th>\n",
       "    </tr>\n",
       "  </thead>\n",
       "  <tbody>\n",
       "    <tr>\n",
       "      <td>2000-01-01 00:30:00-05:00</td>\n",
       "      <td>0.0</td>\n",
       "      <td>0.0</td>\n",
       "      <td>NaN</td>\n",
       "      <td>0.0</td>\n",
       "    </tr>\n",
       "    <tr>\n",
       "      <td>2000-01-01 01:30:00-05:00</td>\n",
       "      <td>0.0</td>\n",
       "      <td>0.0</td>\n",
       "      <td>NaN</td>\n",
       "      <td>0.0</td>\n",
       "    </tr>\n",
       "    <tr>\n",
       "      <td>2000-01-01 02:30:00-05:00</td>\n",
       "      <td>0.0</td>\n",
       "      <td>0.0</td>\n",
       "      <td>NaN</td>\n",
       "      <td>0.0</td>\n",
       "    </tr>\n",
       "    <tr>\n",
       "      <td>2000-01-01 03:30:00-05:00</td>\n",
       "      <td>0.0</td>\n",
       "      <td>0.0</td>\n",
       "      <td>NaN</td>\n",
       "      <td>0.0</td>\n",
       "    </tr>\n",
       "    <tr>\n",
       "      <td>2000-01-01 04:30:00-05:00</td>\n",
       "      <td>0.0</td>\n",
       "      <td>0.0</td>\n",
       "      <td>NaN</td>\n",
       "      <td>0.0</td>\n",
       "    </tr>\n",
       "  </tbody>\n",
       "</table>\n",
       "</div>"
      ],
      "text/plain": [
       "                           dni   kt  airmass  dhi\n",
       "2000-01-01 00:30:00-05:00  0.0  0.0      NaN  0.0\n",
       "2000-01-01 01:30:00-05:00  0.0  0.0      NaN  0.0\n",
       "2000-01-01 02:30:00-05:00  0.0  0.0      NaN  0.0\n",
       "2000-01-01 03:30:00-05:00  0.0  0.0      NaN  0.0\n",
       "2000-01-01 04:30:00-05:00  0.0  0.0      NaN  0.0"
      ]
     },
     "execution_count": 5,
     "metadata": {},
     "output_type": "execute_result"
    }
   ],
   "source": [
    "route()\n",
    "import cno_decomposition_transposition\n",
    "\n",
    "disc = cno_decomposition_transposition.decomposition(ghi=df.GHI, \n",
    "                                                     solpos=solpos, \n",
    "                                                     datetime=df.index)\n",
    "\n",
    "disc.head()"
   ]
  },
  {
   "cell_type": "markdown",
   "metadata": {},
   "source": [
    "### 4.2. Montaje y Seguidor"
   ]
  },
  {
   "cell_type": "code",
   "execution_count": 6,
   "metadata": {},
   "outputs": [
    {
     "name": "stdout",
     "output_type": "stream",
     "text": [
      "MOUNT\n",
      " FixedMount(surface_tilt=10, surface_azimuth=180, racking_model='open_rack', module_height=None) \n",
      "\n",
      "TRACKER\n",
      " None\n"
     ]
    }
   ],
   "source": [
    "route()\n",
    "import cno_mount_tracker\n",
    "\n",
    "mount, tracker = cno_mount_tracker.get_mount_tracker(with_tracker=with_tracker, \n",
    "                                                     surface_tilt=surface_tilt, \n",
    "                                                     surface_azimuth=surface_azimuth, \n",
    "                                                     solpos=solpos, \n",
    "                                                     axis_tilt=axis_tilt, \n",
    "                                                     axis_azimuth=axis_azimuth, \n",
    "                                                     max_angle=max_angle, \n",
    "                                                     tracker_axis=tracker_axis, \n",
    "                                                     racking_model=racking_model, \n",
    "                                                     module_height=module_height)\n",
    "\n",
    "print('MOUNT\\n', mount, '\\n')\n",
    "print('TRACKER\\n', tracker)"
   ]
  },
  {
   "cell_type": "markdown",
   "metadata": {},
   "source": [
    "### 4.3. Transposición: Perez-Ineichen 1990"
   ]
  },
  {
   "cell_type": "code",
   "execution_count": 7,
   "metadata": {},
   "outputs": [
    {
     "data": {
      "text/html": [
       "<div>\n",
       "<style scoped>\n",
       "    .dataframe tbody tr th:only-of-type {\n",
       "        vertical-align: middle;\n",
       "    }\n",
       "\n",
       "    .dataframe tbody tr th {\n",
       "        vertical-align: top;\n",
       "    }\n",
       "\n",
       "    .dataframe thead th {\n",
       "        text-align: right;\n",
       "    }\n",
       "</style>\n",
       "<table border=\"1\" class=\"dataframe\">\n",
       "  <thead>\n",
       "    <tr style=\"text-align: right;\">\n",
       "      <th></th>\n",
       "      <th>poa_global</th>\n",
       "      <th>poa_direct</th>\n",
       "      <th>poa_diffuse</th>\n",
       "      <th>poa_sky_diffuse</th>\n",
       "      <th>poa_ground_diffuse</th>\n",
       "    </tr>\n",
       "  </thead>\n",
       "  <tbody>\n",
       "    <tr>\n",
       "      <td>2000-01-01 00:30:00-05:00</td>\n",
       "      <td>0.0</td>\n",
       "      <td>-0.0</td>\n",
       "      <td>0.0</td>\n",
       "      <td>0.0</td>\n",
       "      <td>0.0</td>\n",
       "    </tr>\n",
       "    <tr>\n",
       "      <td>2000-01-01 01:30:00-05:00</td>\n",
       "      <td>0.0</td>\n",
       "      <td>-0.0</td>\n",
       "      <td>0.0</td>\n",
       "      <td>0.0</td>\n",
       "      <td>0.0</td>\n",
       "    </tr>\n",
       "    <tr>\n",
       "      <td>2000-01-01 02:30:00-05:00</td>\n",
       "      <td>0.0</td>\n",
       "      <td>-0.0</td>\n",
       "      <td>0.0</td>\n",
       "      <td>0.0</td>\n",
       "      <td>0.0</td>\n",
       "    </tr>\n",
       "    <tr>\n",
       "      <td>2000-01-01 03:30:00-05:00</td>\n",
       "      <td>0.0</td>\n",
       "      <td>-0.0</td>\n",
       "      <td>0.0</td>\n",
       "      <td>0.0</td>\n",
       "      <td>0.0</td>\n",
       "    </tr>\n",
       "    <tr>\n",
       "      <td>2000-01-01 04:30:00-05:00</td>\n",
       "      <td>0.0</td>\n",
       "      <td>-0.0</td>\n",
       "      <td>0.0</td>\n",
       "      <td>0.0</td>\n",
       "      <td>0.0</td>\n",
       "    </tr>\n",
       "  </tbody>\n",
       "</table>\n",
       "</div>"
      ],
      "text/plain": [
       "                           poa_global  poa_direct  poa_diffuse  \\\n",
       "2000-01-01 00:30:00-05:00         0.0        -0.0          0.0   \n",
       "2000-01-01 01:30:00-05:00         0.0        -0.0          0.0   \n",
       "2000-01-01 02:30:00-05:00         0.0        -0.0          0.0   \n",
       "2000-01-01 03:30:00-05:00         0.0        -0.0          0.0   \n",
       "2000-01-01 04:30:00-05:00         0.0        -0.0          0.0   \n",
       "\n",
       "                           poa_sky_diffuse  poa_ground_diffuse  \n",
       "2000-01-01 00:30:00-05:00              0.0                 0.0  \n",
       "2000-01-01 01:30:00-05:00              0.0                 0.0  \n",
       "2000-01-01 02:30:00-05:00              0.0                 0.0  \n",
       "2000-01-01 03:30:00-05:00              0.0                 0.0  \n",
       "2000-01-01 04:30:00-05:00              0.0                 0.0  "
      ]
     },
     "execution_count": 7,
     "metadata": {},
     "output_type": "execute_result"
    }
   ],
   "source": [
    "poa = cno_decomposition_transposition.transposition(with_tracker=with_tracker, \n",
    "                                                    tracker=tracker,\n",
    "                                                    surface_tilt=surface_tilt, \n",
    "                                                    surface_azimuth=surface_azimuth, \n",
    "                                                    solpos=solpos, \n",
    "                                                    disc=disc, \n",
    "                                                    ghi=df.GHI, \n",
    "                                                    etr_nrel=etr_nrel, \n",
    "                                                    airmass=airmass, \n",
    "                                                    surface_type=surface_type)\n",
    "\n",
    "poa.head()"
   ]
  },
  {
   "cell_type": "markdown",
   "metadata": {},
   "source": [
    "## 5. Configuración del Sistema"
   ]
  },
  {
   "cell_type": "markdown",
   "metadata": {},
   "source": [
    "### 5.1. Inversor y Módulo"
   ]
  },
  {
   "cell_type": "code",
   "execution_count": 8,
   "metadata": {
    "scrolled": true
   },
   "outputs": [
    {
     "name": "stdout",
     "output_type": "stream",
     "text": [
      "INVERTER\n",
      " Vac                          480\n",
      "Pso                      143.487\n",
      "Paco                       50000\n",
      "Pdco                     50881.8\n",
      "Vdco                         720\n",
      "C0                  -1.28775e-07\n",
      "C1                      -2.4e-05\n",
      "C2                      0.001013\n",
      "C3                     -0.000319\n",
      "Pnt                            1\n",
      "Vdcmax                       800\n",
      "Idcmax                   70.6691\n",
      "Mppt_low                     520\n",
      "Mppt_high                    800\n",
      "CEC_Date              10/15/2018\n",
      "CEC_Type     Utility Interactive\n",
      "Name: ABB__TRIO_50_0_TL_OUTD_US_480__480V_, dtype: object \n",
      "\n",
      "MODULE\n",
      " Technology            Mono-c-Si\n",
      "Bifacial                      0\n",
      "STC                     400.316\n",
      "PTC                       368.4\n",
      "A_c                           2\n",
      "Length                        2\n",
      "Width                         1\n",
      "N_s                          72\n",
      "I_sc_ref                  10.47\n",
      "V_oc_ref                   49.3\n",
      "I_mp_ref                   9.86\n",
      "V_mp_ref                   40.6\n",
      "alpha_sc               0.003141\n",
      "beta_oc                -0.12818\n",
      "T_NOCT                     47.7\n",
      "a_ref                   1.82121\n",
      "I_L_ref                 10.4811\n",
      "I_o_ref             1.80748e-11\n",
      "R_s                    0.312859\n",
      "R_sh_ref                293.805\n",
      "Adjust                  9.38061\n",
      "gamma_r                 -0.0036\n",
      "BIPV                          N\n",
      "Version       SAM 2018.11.11 r2\n",
      "Date                   1/3/2019\n",
      "Name: LG_Electronics_Inc__LG400N2W_A5, dtype: object\n"
     ]
    }
   ],
   "source": [
    "route()\n",
    "import cno_inverter_module\n",
    "\n",
    "inverter = cno_inverter_module.get_inverter(inverters_database=inverters_database, \n",
    "                                            inverter_name=inverter_name, \n",
    "                                            inv=None)\n",
    "\n",
    "print('INVERTER\\n', inverter, '\\n')\n",
    "\n",
    "module = cno_inverter_module.get_module(modules_database=modules_database, \n",
    "                                        module_name=module_name, \n",
    "                                        mod=None)\n",
    "\n",
    "print('MODULE\\n', module)"
   ]
  },
  {
   "cell_type": "markdown",
   "metadata": {},
   "source": [
    "### 5.2. Arreglos Fotovoltaicos"
   ]
  },
  {
   "cell_type": "code",
   "execution_count": 9,
   "metadata": {},
   "outputs": [
    {
     "data": {
      "text/plain": [
       "[Array:\n",
       "   name: SysA\n",
       "   mount: FixedMount(surface_tilt=10, surface_azimuth=180, racking_model='open_rack', module_height=None)\n",
       "   module: None\n",
       "   albedo: 0.18\n",
       "   module_type: open_rack_glass_glass\n",
       "   temperature_model_parameters: {'a': -3.47, 'b': -0.0594, 'deltaT': 3}\n",
       "   strings: 8\n",
       "   modules_per_string: 16]"
      ]
     },
     "execution_count": 9,
     "metadata": {},
     "output_type": "execute_result"
    }
   ],
   "source": [
    "route()\n",
    "import cno_def_pvsystem\n",
    "\n",
    "string_arrays = cno_def_pvsystem.get_arrays(num_arrays=num_arrays,\n",
    "                                            array_name=array_name,\n",
    "                                            mount=mount, \n",
    "                                            surface_type=surface_type, \n",
    "                                            module_type=module_type, \n",
    "                                            module=pvlib.irradiance.SURFACE_ALBEDOS[surface_type], \n",
    "                                            mps=modules_per_string, \n",
    "                                            spi=strings_per_inverter)\n",
    "\n",
    "string_arrays"
   ]
  },
  {
   "cell_type": "markdown",
   "metadata": {},
   "source": [
    "### 5.3. Sistema Fotovoltaico"
   ]
  },
  {
   "cell_type": "code",
   "execution_count": 10,
   "metadata": {},
   "outputs": [
    {
     "data": {
      "text/plain": [
       "PVSystem:\n",
       "  name: None\n",
       "  Array:\n",
       "    name: SysA\n",
       "    mount: FixedMount(surface_tilt=10, surface_azimuth=180, racking_model='open_rack', module_height=None)\n",
       "    module: None\n",
       "    albedo: 0.18\n",
       "    module_type: open_rack_glass_glass\n",
       "    temperature_model_parameters: {'a': -3.47, 'b': -0.0594, 'deltaT': 3}\n",
       "    strings: 8\n",
       "    modules_per_string: 16\n",
       "  inverter: None"
      ]
     },
     "execution_count": 10,
     "metadata": {},
     "output_type": "execute_result"
    }
   ],
   "source": [
    "system = cno_def_pvsystem.get_pvsystem(with_tracker=with_tracker,\n",
    "                                       tracker=tracker,\n",
    "                                       string_arrays=string_arrays, \n",
    "                                       surface_tilt=surface_tilt, \n",
    "                                       surface_azimuth=surface_azimuth, \n",
    "                                       surface_type=surface_type, \n",
    "                                       module_type=module_type, \n",
    "                                       module=module, \n",
    "                                       inverter=inverter, \n",
    "                                       racking_model=racking_model)\n",
    "\n",
    "system"
   ]
  },
  {
   "cell_type": "markdown",
   "metadata": {},
   "source": [
    "## 6. Modelado de Producción con PVlib"
   ]
  },
  {
   "cell_type": "markdown",
   "metadata": {},
   "source": [
    "### 6.1. Temperatura de las Celdas"
   ]
  },
  {
   "cell_type": "code",
   "execution_count": 11,
   "metadata": {},
   "outputs": [
    {
     "data": {
      "text/plain": [
       "2000-01-01 00:30:00-05:00    9.0\n",
       "2000-01-01 01:30:00-05:00    9.0\n",
       "2000-01-01 02:30:00-05:00    9.0\n",
       "2000-01-01 03:30:00-05:00    9.0\n",
       "2000-01-01 04:30:00-05:00    9.0\n",
       "dtype: float64"
      ]
     },
     "execution_count": 11,
     "metadata": {},
     "output_type": "execute_result"
    }
   ],
   "source": [
    "route()\n",
    "import cno_cell_temperature\n",
    "\n",
    "temp_cell = cno_cell_temperature.get_tcell_tnoct(poa=poa.poa_global, \n",
    "                                                 temp_air=df['Temperature'], \n",
    "                                                 tnoct=module['T_NOCT'])\n",
    "\n",
    "temp_cell.head()"
   ]
  },
  {
   "cell_type": "markdown",
   "metadata": {},
   "source": [
    "### 6.2. Producción DC, Potencia AC y Energía"
   ]
  },
  {
   "cell_type": "code",
   "execution_count": 12,
   "metadata": {},
   "outputs": [],
   "source": [
    "route()\n",
    "import cno_production\n",
    "\n",
    "dc, ac, energy = cno_production.production_pipeline(poa=poa.poa_global, \n",
    "                                                    cell_temperature=temp_cell, \n",
    "                                                    module=module, \n",
    "                                                    inverter=inverter, \n",
    "                                                    system=system, \n",
    "                                                    num_arrays=num_arrays, \n",
    "                                                    ac_model=ac_model, \n",
    "                                                    loss=loss, \n",
    "                                                    resolution=resolution, \n",
    "                                                    num_inverter=num_inverter, \n",
    "                                                    energy_units=energy_units)"
   ]
  },
  {
   "cell_type": "code",
   "execution_count": 13,
   "metadata": {
    "scrolled": true
   },
   "outputs": [
    {
     "data": {
      "text/plain": [
       "[                                   i_sc  v_oc          i_mp  v_mp  p_mp  \\\n",
       " 2000-01-01 00:30:00-05:00  1.615587e-27   0.0  1.180994e-27   0.0   0.0   \n",
       " 2000-01-01 01:30:00-05:00  1.615587e-27   0.0  1.180994e-27   0.0   0.0   \n",
       " 2000-01-01 02:30:00-05:00  1.615587e-27   0.0  1.180994e-27   0.0   0.0   \n",
       " 2000-01-01 03:30:00-05:00  1.615587e-27   0.0  1.180994e-27   0.0   0.0   \n",
       " 2000-01-01 04:30:00-05:00  1.615587e-27   0.0  1.180994e-27   0.0   0.0   \n",
       " ...                                 ...   ...           ...   ...   ...   \n",
       " 2020-12-31 19:30:00-05:00  3.231174e-27   0.0  2.361988e-27   0.0   0.0   \n",
       " 2020-12-31 20:30:00-05:00 -3.231174e-27   0.0 -2.361988e-27   0.0   0.0   \n",
       " 2020-12-31 21:30:00-05:00  0.000000e+00   0.0  0.000000e+00   0.0   0.0   \n",
       " 2020-12-31 22:30:00-05:00  0.000000e+00   0.0  0.000000e+00   0.0   0.0   \n",
       " 2020-12-31 23:30:00-05:00  0.000000e+00   0.0  0.000000e+00   0.0   0.0   \n",
       " \n",
       "                                     i_x          i_xx  \n",
       " 2000-01-01 00:30:00-05:00  1.615587e-27  1.615587e-27  \n",
       " 2000-01-01 01:30:00-05:00  1.615587e-27  1.615587e-27  \n",
       " 2000-01-01 02:30:00-05:00  1.615587e-27  1.615587e-27  \n",
       " 2000-01-01 03:30:00-05:00  1.615587e-27  1.615587e-27  \n",
       " 2000-01-01 04:30:00-05:00  1.615587e-27  1.615587e-27  \n",
       " ...                                 ...           ...  \n",
       " 2020-12-31 19:30:00-05:00  3.231174e-27  3.231174e-27  \n",
       " 2020-12-31 20:30:00-05:00 -3.231174e-27 -3.231174e-27  \n",
       " 2020-12-31 21:30:00-05:00  0.000000e+00  0.000000e+00  \n",
       " 2020-12-31 22:30:00-05:00  0.000000e+00  0.000000e+00  \n",
       " 2020-12-31 23:30:00-05:00  0.000000e+00  0.000000e+00  \n",
       " \n",
       " [183960 rows x 7 columns]]"
      ]
     },
     "execution_count": 13,
     "metadata": {},
     "output_type": "execute_result"
    }
   ],
   "source": [
    "dc"
   ]
  },
  {
   "cell_type": "code",
   "execution_count": 14,
   "metadata": {
    "scrolled": true
   },
   "outputs": [
    {
     "data": {
      "text/plain": [
       "2000-01-01 00:30:00-05:00    0.0\n",
       "2000-01-01 01:30:00-05:00    0.0\n",
       "2000-01-01 02:30:00-05:00    0.0\n",
       "2000-01-01 03:30:00-05:00    0.0\n",
       "2000-01-01 04:30:00-05:00    0.0\n",
       "                            ... \n",
       "2020-12-31 19:30:00-05:00    0.0\n",
       "2020-12-31 20:30:00-05:00    0.0\n",
       "2020-12-31 21:30:00-05:00    0.0\n",
       "2020-12-31 22:30:00-05:00    0.0\n",
       "2020-12-31 23:30:00-05:00    0.0\n",
       "Length: 183960, dtype: float64"
      ]
     },
     "execution_count": 14,
     "metadata": {},
     "output_type": "execute_result"
    }
   ],
   "source": [
    "ac"
   ]
  },
  {
   "cell_type": "code",
   "execution_count": 15,
   "metadata": {
    "scrolled": true
   },
   "outputs": [
    {
     "data": {
      "text/plain": [
       "{'daily':                                   energy\n",
       " 2000-01-01 00:00:00-05:00  207951.606619\n",
       " 2000-01-02 00:00:00-05:00  219863.063844\n",
       " 2000-01-03 00:00:00-05:00  215040.956225\n",
       " 2000-01-04 00:00:00-05:00  207936.177982\n",
       " 2000-01-05 00:00:00-05:00  149397.471416\n",
       " ...                                  ...\n",
       " 2020-12-27 00:00:00-05:00  169959.576713\n",
       " 2020-12-28 00:00:00-05:00  221736.389340\n",
       " 2020-12-29 00:00:00-05:00  190982.799259\n",
       " 2020-12-30 00:00:00-05:00  146924.399052\n",
       " 2020-12-31 00:00:00-05:00   94568.948371\n",
       " \n",
       " [7671 rows x 1 columns], 'week':                                  energy\n",
       " 2000-01-02 00:00:00-05:00  4.278147e+05\n",
       " 2000-01-09 00:00:00-05:00  1.287140e+06\n",
       " 2000-01-16 00:00:00-05:00  1.450030e+06\n",
       " 2000-01-23 00:00:00-05:00  1.352925e+06\n",
       " 2000-01-30 00:00:00-05:00  1.042865e+06\n",
       " ...                                 ...\n",
       " 2020-12-06 00:00:00-05:00  1.150236e+06\n",
       " 2020-12-13 00:00:00-05:00  1.398602e+06\n",
       " 2020-12-20 00:00:00-05:00  1.394501e+06\n",
       " 2020-12-27 00:00:00-05:00  1.304597e+06\n",
       " 2021-01-03 00:00:00-05:00  6.542125e+05\n",
       " \n",
       " [1097 rows x 1 columns], 'month':                                  energy\n",
       " 2000-01-31 00:00:00-05:00  5.716683e+06\n",
       " 2000-02-29 00:00:00-05:00  5.123359e+06\n",
       " 2000-03-31 00:00:00-05:00  5.566738e+06\n",
       " 2000-04-30 00:00:00-05:00  4.940229e+06\n",
       " 2000-05-31 00:00:00-05:00  5.245809e+06\n",
       " ...                                 ...\n",
       " 2020-08-31 00:00:00-05:00  4.908243e+06\n",
       " 2020-09-30 00:00:00-05:00  5.182999e+06\n",
       " 2020-10-31 00:00:00-05:00  5.263354e+06\n",
       " 2020-11-30 00:00:00-05:00  4.097930e+06\n",
       " 2020-12-31 00:00:00-05:00  5.691479e+06\n",
       " \n",
       " [252 rows x 1 columns]}"
      ]
     },
     "execution_count": 15,
     "metadata": {},
     "output_type": "execute_result"
    }
   ],
   "source": [
    "energy"
   ]
  },
  {
   "cell_type": "markdown",
   "metadata": {},
   "source": [
    "## 7. Capacidad Efectiva Neta (CEN)"
   ]
  },
  {
   "cell_type": "code",
   "execution_count": 16,
   "metadata": {},
   "outputs": [
    {
     "name": "stdout",
     "output_type": "stream",
     "text": [
      "Pac Max. = 0.0369 MW\n",
      "CEN (99 %) = 0.0343 MW\n"
     ]
    },
    {
     "data": {
      "image/png": "[encoded data removed]",
      "text/plain": [
       "<Figure size 432x288 with 1 Axes>"
      ]
     },
     "metadata": {
      "needs_background": "light"
     },
     "output_type": "display_data"
    }
   ],
   "source": [
    "route()\n",
    "import cno_cen\n",
    "\n",
    "perc = 99 # Percentil CEN\n",
    "\n",
    "cen_per, cen_pmax = cno_cen.get_cen(ac=ac, \n",
    "                                    perc=perc,\n",
    "                                    decimals=4,\n",
    "                                    curve=True)"
   ]
  },
  {
   "cell_type": "markdown",
   "metadata": {},
   "source": [
    "## 8. ENFICC"
   ]
  },
  {
   "cell_type": "code",
   "execution_count": 17,
   "metadata": {},
   "outputs": [
    {
     "name": "stdout",
     "output_type": "stream",
     "text": [
      "ENFICC [kWh/día] -- CREG 201 de 2017 = 70.3\n",
      "ENFI [kWh/día] -- Mín(Energía Mes PVlib / Días) = 111.89\n",
      "ENFI [kWh/día] -- Mín(Energía Día PVlib) = 27.03\n",
      "ENFI [kWh/día] -- Percentil(Energía Día PVlib) = 250.51\n"
     ]
    }
   ],
   "source": [
    "route()\n",
    "import cno_energia_firme\n",
    "\n",
    "# Prepare Data\n",
    "df_hora = df[['GHI', 'Temperature']]\n",
    "df_hora['GHI'] = df_hora['GHI'] / 1000 # W to kW\n",
    "df_hora = df_hora.loc[df_hora.GHI != 0]\n",
    "\n",
    "ghi = df_hora.resample('M').apply(lambda x: x.quantile(0.95)).GHI # https://stackoverflow.com/questions/39246664/calculate-percentiles-quantiles-for-a-timeseries-with-resample-or-groupby-pand\n",
    "insolation = df_hora['GHI'].resample('M').sum() # kWh/m2 / month\n",
    "temp = df_hora['Temperature'].resample('M').mean()\n",
    "\n",
    "df_mes = pd.DataFrame({'GHI': ghi, 'Insolation': insolation,'Temperature': temp})\n",
    "\n",
    "# ENFICC CREG 201 de 2017\n",
    "efirme, enficc_t = cno_energia_firme.enficc_creg(df=df_mes, \n",
    "                                                 Kinc=0.9688, \n",
    "                                                 IHF=0.1, \n",
    "                                                 CEN=cen_per,\n",
    "                                                 a=3.8e-05, \n",
    "                                                 b=-0.0024, \n",
    "                                                 c=0.05224, \n",
    "                                                 d=-0.3121, \n",
    "                                                 Kmedt=0.8540)\n",
    "\n",
    "# Energía Firme PVlib + CREG\n",
    "__, enficc_v2 = cno_energia_firme.efirme_pvlib_creg(energy=energy)\n",
    "\n",
    "# Energía Firme: PVlib + Min\n",
    "enficc_v3 = cno_energia_firme.efirme_pvlib_min(energy=energy)\n",
    "\n",
    "# Energía Firme: PVlib + Percentil\n",
    "enficc_v4 = cno_energia_firme.efirme_pvlib_percentile(energy=energy,\n",
    "                                                      percentile=95)"
   ]
  },
  {
   "cell_type": "code",
   "execution_count": 18,
   "metadata": {},
   "outputs": [
    {
     "data": {
      "image/png": "[encoded data removed]",
      "text/plain": [
       "<Figure size 936x360 with 1 Axes>"
      ]
     },
     "metadata": {
      "needs_background": "light"
     },
     "output_type": "display_data"
    }
   ],
   "source": [
    "#Energy Error Comparison Plot\n",
    "\n",
    "months = ['Jan\\n2019', 'Feb', 'Mar', 'Abr', 'May', 'Jun', 'Jul', 'Ago', 'Sep', 'Oct', 'Nov', 'Dec', \n",
    "          'Jan\\n2020', 'Feb', 'Mar', 'Abr', 'May', 'Jun', 'Jul', 'Ago', 'Sep', 'Oct', 'Nov', 'Dec']\n",
    "\n",
    "x = np.arange(len(months))\n",
    "\n",
    "#Bar Plots\n",
    "route()\n",
    "import cno_plots_metrics\n",
    "\n",
    "hor, ver = 13, 5\n",
    "plt.figure(figsize=(hor,ver))\n",
    "\n",
    "plt.bar(x, energy['month']['energy'].tail(12*2), color='#1580E4',\n",
    "        label=f'ENFICC CREG 201 = {enficc_t} kWh/día\\\n",
    "                \\n\\nEF PVlib-CREG = {enficc_v2} kWh/día\\\n",
    "                \\n\\nEF PVlib-Min = {enficc_v3} kWh/día\\\n",
    "                \\n\\nEF PVlib-Perc ({perc} %) = {enficc_v4} kWh/día')\n",
    "\n",
    "plt.xticks(x, months);\n",
    "\n",
    "cno_plots_metrics.plot_specs(title='Energía Mensual',\n",
    "                             ylabel=f'Energía, ${energy_units}$',\n",
    "                             xlabel='Tiempo',\n",
    "                             rot=0, \n",
    "                             ylim_min=0, ylim_max=None, \n",
    "                             xlim_min=None, xlim_max=None, \n",
    "                             loc='best')\n",
    "plt.legend(loc='best', bbox_to_anchor=(1,1), fontsize=9.5);"
   ]
  },
  {
   "cell_type": "markdown",
   "metadata": {},
   "source": [
    "## 9. Relación Recurso-Potencia"
   ]
  },
  {
   "cell_type": "code",
   "execution_count": 19,
   "metadata": {},
   "outputs": [
    {
     "data": {
      "image/png": "[encoded data removed]",
      "text/plain": [
       "<Figure size 432x288 with 1 Axes>"
      ]
     },
     "metadata": {
      "needs_background": "light"
     },
     "output_type": "display_data"
    }
   ],
   "source": [
    "route()\n",
    "import cno_recurso_potencia\n",
    "\n",
    "cno_recurso_potencia.get_curve(poa=poa.poa_global, \n",
    "                               ac=ac, \n",
    "                               ac_units='kW')"
   ]
  },
  {
   "cell_type": "markdown",
   "metadata": {},
   "source": [
    "---"
   ]
  }
 ],
 "metadata": {
  "kernelspec": {
   "display_name": "Python 3",
   "language": "python",
   "name": "python3"
  },
  "language_info": {
   "codemirror_mode": {
    "name": "ipython",
    "version": 3
   },
   "file_extension": ".py",
   "mimetype": "text/x-python",
   "name": "python",
   "nbconvert_exporter": "python",
   "pygments_lexer": "ipython3",
   "version": "3.7.4"
  }
 },
 "nbformat": 4,
 "nbformat_minor": 4
}

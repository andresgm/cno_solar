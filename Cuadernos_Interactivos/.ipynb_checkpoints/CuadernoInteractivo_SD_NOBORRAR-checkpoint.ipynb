{
 "cells": [
  {
   "cell_type": "code",
   "execution_count": 1,
   "metadata": {},
   "outputs": [
    {
     "name": "stdout",
     "output_type": "stream",
     "text": [
      "Successfully executed from __main__.\n"
     ]
    }
   ],
   "source": [
    "def route():\n",
    "    import sys  \n",
    "    sys.path.insert(0, './scripts')\n",
    "\n",
    "route()\n",
    "import cno_libraries\n",
    "%run -i './scripts/cno_libraries.py'"
   ]
  },
  {
   "cell_type": "markdown",
   "metadata": {},
   "source": [
    "## 1. Configuración Inicial"
   ]
  },
  {
   "cell_type": "code",
   "execution_count": 2,
   "metadata": {},
   "outputs": [],
   "source": [
    "# Información Geográfica\n",
    "latitude = 4.604535       #Latitud\n",
    "longitude = -74.066038    #Longitud\n",
    "tz = 'America/Bogota'     #Huso Horario\n",
    "altitude = 2632           #Altitud\n",
    "surface_type = 'urban'    #irradiance.SURFACE_ALBEDOS\n",
    "\n",
    "# Base de Datos\n",
    "file_name = 'tmy_sd'\n",
    "prefix = 'sd'\n",
    "\n",
    "# Configuración del Sistema\n",
    "## Inversor\n",
    "inverters_database = 'CECInverter' # ['CECInverter', 'SandiaInverter', 'ADRInverter']\n",
    "inverter_name = 'ABB__TRIO_50_0_TL_OUTD_US_480__480V_' # System A\n",
    "# inverter_name = 'ABB__TRIO_27_6_TL_OUTD_S_US_480__480V_' # System B\n",
    "\n",
    "## Módulo\n",
    "modules_database = 'CECMod' # ['CECMod', 'SandiaMod']\n",
    "module_name = 'LG_Electronics_Inc__LG400N2W_A5'\n",
    "module_type = 'open_rack_glass_glass' #['open_rack_glass_glass', 'close_mount_glass_glass', 'open_rack_glass_polymer', 'insulated_back_glass_polymer']\n",
    "surface_azimuth=180\n",
    "surface_tilt=10\n",
    "\n",
    "## Tracker\n",
    "with_tracker = False\n",
    "tracker_axis = 0\n",
    "axis_tilt = 0\n",
    "axis_azimuth = 0 #Heading south\n",
    "max_angle = 0\n",
    "racking_model = 'open_rack'\n",
    "module_height = None\n",
    "\n",
    "## Arreglo\n",
    "num_arrays = 1\n",
    "modules_per_string = [16] #Modules Per String [16 - SysA, 18 - SysB]\n",
    "strings_per_inverter = [8] #Strings Per Inverter [8 - SysA, 4 - SysB]\n",
    "array_name = ['SysA']\n",
    "\n",
    "# Modelado de Producción con PVlib\n",
    "ac_model='sandia'\n",
    "loss = 26.9\n",
    "num_inverter = 1\n",
    "resolution = 60\n",
    "energy_units = 'Wh'"
   ]
  },
  {
   "cell_type": "markdown",
   "metadata": {},
   "source": [
    "## 2. Base de Datos"
   ]
  },
  {
   "cell_type": "code",
   "execution_count": 3,
   "metadata": {},
   "outputs": [
    {
     "data": {
      "text/html": [
       "<div>\n",
       "<style scoped>\n",
       "    .dataframe tbody tr th:only-of-type {\n",
       "        vertical-align: middle;\n",
       "    }\n",
       "\n",
       "    .dataframe tbody tr th {\n",
       "        vertical-align: top;\n",
       "    }\n",
       "\n",
       "    .dataframe thead th {\n",
       "        text-align: right;\n",
       "    }\n",
       "</style>\n",
       "<table border=\"1\" class=\"dataframe\">\n",
       "  <thead>\n",
       "    <tr style=\"text-align: right;\">\n",
       "      <th></th>\n",
       "      <th>Year</th>\n",
       "      <th>Month</th>\n",
       "      <th>Day</th>\n",
       "      <th>Hour</th>\n",
       "      <th>Minute</th>\n",
       "      <th>DHI</th>\n",
       "      <th>DNI</th>\n",
       "      <th>GHI</th>\n",
       "      <th>Clearsky DHI</th>\n",
       "      <th>Clearsky DNI</th>\n",
       "      <th>Clearsky GHI</th>\n",
       "      <th>Dew Point</th>\n",
       "      <th>Solar Zenith Angle</th>\n",
       "      <th>Surface Albedo</th>\n",
       "      <th>Wind Speed</th>\n",
       "      <th>Precipitable Water</th>\n",
       "      <th>Wind Direction</th>\n",
       "      <th>Relative Humidity</th>\n",
       "      <th>Temperature</th>\n",
       "      <th>Pressure</th>\n",
       "    </tr>\n",
       "  </thead>\n",
       "  <tbody>\n",
       "    <tr>\n",
       "      <td>2000-01-01 00:30:00-05:00</td>\n",
       "      <td>2000</td>\n",
       "      <td>1</td>\n",
       "      <td>1</td>\n",
       "      <td>0</td>\n",
       "      <td>30</td>\n",
       "      <td>0.0</td>\n",
       "      <td>0.0</td>\n",
       "      <td>0.0</td>\n",
       "      <td>0.0</td>\n",
       "      <td>0.0</td>\n",
       "      <td>0.0</td>\n",
       "      <td>13.0</td>\n",
       "      <td>160.13</td>\n",
       "      <td>0.094</td>\n",
       "      <td>0.2</td>\n",
       "      <td>2.312</td>\n",
       "      <td>182.2</td>\n",
       "      <td>95.06</td>\n",
       "      <td>9.0</td>\n",
       "      <td>740.0</td>\n",
       "    </tr>\n",
       "    <tr>\n",
       "      <td>2000-01-01 01:30:00-05:00</td>\n",
       "      <td>2000</td>\n",
       "      <td>1</td>\n",
       "      <td>1</td>\n",
       "      <td>1</td>\n",
       "      <td>30</td>\n",
       "      <td>0.0</td>\n",
       "      <td>0.0</td>\n",
       "      <td>0.0</td>\n",
       "      <td>0.0</td>\n",
       "      <td>0.0</td>\n",
       "      <td>0.0</td>\n",
       "      <td>12.0</td>\n",
       "      <td>151.39</td>\n",
       "      <td>0.094</td>\n",
       "      <td>0.1</td>\n",
       "      <td>2.265</td>\n",
       "      <td>154.0</td>\n",
       "      <td>93.07</td>\n",
       "      <td>9.0</td>\n",
       "      <td>740.0</td>\n",
       "    </tr>\n",
       "    <tr>\n",
       "      <td>2000-01-01 02:30:00-05:00</td>\n",
       "      <td>2000</td>\n",
       "      <td>1</td>\n",
       "      <td>1</td>\n",
       "      <td>2</td>\n",
       "      <td>30</td>\n",
       "      <td>0.0</td>\n",
       "      <td>0.0</td>\n",
       "      <td>0.0</td>\n",
       "      <td>0.0</td>\n",
       "      <td>0.0</td>\n",
       "      <td>0.0</td>\n",
       "      <td>12.0</td>\n",
       "      <td>139.27</td>\n",
       "      <td>0.094</td>\n",
       "      <td>0.2</td>\n",
       "      <td>2.231</td>\n",
       "      <td>47.6</td>\n",
       "      <td>97.27</td>\n",
       "      <td>9.0</td>\n",
       "      <td>740.0</td>\n",
       "    </tr>\n",
       "    <tr>\n",
       "      <td>2000-01-01 03:30:00-05:00</td>\n",
       "      <td>2000</td>\n",
       "      <td>1</td>\n",
       "      <td>1</td>\n",
       "      <td>3</td>\n",
       "      <td>30</td>\n",
       "      <td>0.0</td>\n",
       "      <td>0.0</td>\n",
       "      <td>0.0</td>\n",
       "      <td>0.0</td>\n",
       "      <td>0.0</td>\n",
       "      <td>0.0</td>\n",
       "      <td>12.0</td>\n",
       "      <td>126.02</td>\n",
       "      <td>0.094</td>\n",
       "      <td>0.3</td>\n",
       "      <td>2.197</td>\n",
       "      <td>26.9</td>\n",
       "      <td>95.36</td>\n",
       "      <td>9.0</td>\n",
       "      <td>740.0</td>\n",
       "    </tr>\n",
       "    <tr>\n",
       "      <td>2000-01-01 04:30:00-05:00</td>\n",
       "      <td>2000</td>\n",
       "      <td>1</td>\n",
       "      <td>1</td>\n",
       "      <td>4</td>\n",
       "      <td>30</td>\n",
       "      <td>0.0</td>\n",
       "      <td>0.0</td>\n",
       "      <td>0.0</td>\n",
       "      <td>0.0</td>\n",
       "      <td>0.0</td>\n",
       "      <td>0.0</td>\n",
       "      <td>12.0</td>\n",
       "      <td>112.37</td>\n",
       "      <td>0.094</td>\n",
       "      <td>0.2</td>\n",
       "      <td>2.155</td>\n",
       "      <td>16.1</td>\n",
       "      <td>93.67</td>\n",
       "      <td>9.0</td>\n",
       "      <td>740.0</td>\n",
       "    </tr>\n",
       "  </tbody>\n",
       "</table>\n",
       "</div>"
      ],
      "text/plain": [
       "                           Year  Month  Day  Hour  Minute  DHI  DNI  GHI  \\\n",
       "2000-01-01 00:30:00-05:00  2000      1    1     0      30  0.0  0.0  0.0   \n",
       "2000-01-01 01:30:00-05:00  2000      1    1     1      30  0.0  0.0  0.0   \n",
       "2000-01-01 02:30:00-05:00  2000      1    1     2      30  0.0  0.0  0.0   \n",
       "2000-01-01 03:30:00-05:00  2000      1    1     3      30  0.0  0.0  0.0   \n",
       "2000-01-01 04:30:00-05:00  2000      1    1     4      30  0.0  0.0  0.0   \n",
       "\n",
       "                           Clearsky DHI  Clearsky DNI  Clearsky GHI  \\\n",
       "2000-01-01 00:30:00-05:00           0.0           0.0           0.0   \n",
       "2000-01-01 01:30:00-05:00           0.0           0.0           0.0   \n",
       "2000-01-01 02:30:00-05:00           0.0           0.0           0.0   \n",
       "2000-01-01 03:30:00-05:00           0.0           0.0           0.0   \n",
       "2000-01-01 04:30:00-05:00           0.0           0.0           0.0   \n",
       "\n",
       "                           Dew Point  Solar Zenith Angle  Surface Albedo  \\\n",
       "2000-01-01 00:30:00-05:00       13.0              160.13           0.094   \n",
       "2000-01-01 01:30:00-05:00       12.0              151.39           0.094   \n",
       "2000-01-01 02:30:00-05:00       12.0              139.27           0.094   \n",
       "2000-01-01 03:30:00-05:00       12.0              126.02           0.094   \n",
       "2000-01-01 04:30:00-05:00       12.0              112.37           0.094   \n",
       "\n",
       "                           Wind Speed  Precipitable Water  Wind Direction  \\\n",
       "2000-01-01 00:30:00-05:00         0.2               2.312           182.2   \n",
       "2000-01-01 01:30:00-05:00         0.1               2.265           154.0   \n",
       "2000-01-01 02:30:00-05:00         0.2               2.231            47.6   \n",
       "2000-01-01 03:30:00-05:00         0.3               2.197            26.9   \n",
       "2000-01-01 04:30:00-05:00         0.2               2.155            16.1   \n",
       "\n",
       "                           Relative Humidity  Temperature  Pressure  \n",
       "2000-01-01 00:30:00-05:00              95.06          9.0     740.0  \n",
       "2000-01-01 01:30:00-05:00              93.07          9.0     740.0  \n",
       "2000-01-01 02:30:00-05:00              97.27          9.0     740.0  \n",
       "2000-01-01 03:30:00-05:00              95.36          9.0     740.0  \n",
       "2000-01-01 04:30:00-05:00              93.67          9.0     740.0  "
      ]
     },
     "execution_count": 3,
     "metadata": {},
     "output_type": "execute_result"
    }
   ],
   "source": [
    "route()\n",
    "import cno_data\n",
    "\n",
    "df = cno_data.load_csv(file_name=file_name, tz=tz)\n",
    "df.head()"
   ]
  },
  {
   "cell_type": "markdown",
   "metadata": {},
   "source": [
    "## 3. Datos Meteorológicos"
   ]
  },
  {
   "cell_type": "code",
   "execution_count": 4,
   "metadata": {},
   "outputs": [
    {
     "data": {
      "text/html": [
       "<div>\n",
       "<style scoped>\n",
       "    .dataframe tbody tr th:only-of-type {\n",
       "        vertical-align: middle;\n",
       "    }\n",
       "\n",
       "    .dataframe tbody tr th {\n",
       "        vertical-align: top;\n",
       "    }\n",
       "\n",
       "    .dataframe thead th {\n",
       "        text-align: right;\n",
       "    }\n",
       "</style>\n",
       "<table border=\"1\" class=\"dataframe\">\n",
       "  <thead>\n",
       "    <tr style=\"text-align: right;\">\n",
       "      <th></th>\n",
       "      <th>apparent_zenith</th>\n",
       "      <th>zenith</th>\n",
       "      <th>apparent_elevation</th>\n",
       "      <th>elevation</th>\n",
       "      <th>azimuth</th>\n",
       "      <th>equation_of_time</th>\n",
       "    </tr>\n",
       "  </thead>\n",
       "  <tbody>\n",
       "    <tr>\n",
       "      <td>2000-01-01 00:30:00-05:00</td>\n",
       "      <td>160.128596</td>\n",
       "      <td>160.128596</td>\n",
       "      <td>-70.128596</td>\n",
       "      <td>-70.128596</td>\n",
       "      <td>158.893404</td>\n",
       "      <td>-3.152909</td>\n",
       "    </tr>\n",
       "    <tr>\n",
       "      <td>2000-01-01 01:30:00-05:00</td>\n",
       "      <td>151.396797</td>\n",
       "      <td>151.396797</td>\n",
       "      <td>-61.396797</td>\n",
       "      <td>-61.396797</td>\n",
       "      <td>132.282295</td>\n",
       "      <td>-3.172747</td>\n",
       "    </tr>\n",
       "    <tr>\n",
       "      <td>2000-01-01 02:30:00-05:00</td>\n",
       "      <td>139.270912</td>\n",
       "      <td>139.270912</td>\n",
       "      <td>-49.270912</td>\n",
       "      <td>-49.270912</td>\n",
       "      <td>120.556648</td>\n",
       "      <td>-3.192577</td>\n",
       "    </tr>\n",
       "    <tr>\n",
       "      <td>2000-01-01 03:30:00-05:00</td>\n",
       "      <td>126.027754</td>\n",
       "      <td>126.027754</td>\n",
       "      <td>-36.027754</td>\n",
       "      <td>-36.027754</td>\n",
       "      <td>115.277253</td>\n",
       "      <td>-3.212399</td>\n",
       "    </tr>\n",
       "    <tr>\n",
       "      <td>2000-01-01 04:30:00-05:00</td>\n",
       "      <td>112.372445</td>\n",
       "      <td>112.372445</td>\n",
       "      <td>-22.372445</td>\n",
       "      <td>-22.372445</td>\n",
       "      <td>113.045370</td>\n",
       "      <td>-3.232213</td>\n",
       "    </tr>\n",
       "  </tbody>\n",
       "</table>\n",
       "</div>"
      ],
      "text/plain": [
       "                           apparent_zenith      zenith  apparent_elevation  \\\n",
       "2000-01-01 00:30:00-05:00       160.128596  160.128596          -70.128596   \n",
       "2000-01-01 01:30:00-05:00       151.396797  151.396797          -61.396797   \n",
       "2000-01-01 02:30:00-05:00       139.270912  139.270912          -49.270912   \n",
       "2000-01-01 03:30:00-05:00       126.027754  126.027754          -36.027754   \n",
       "2000-01-01 04:30:00-05:00       112.372445  112.372445          -22.372445   \n",
       "\n",
       "                           elevation     azimuth  equation_of_time  \n",
       "2000-01-01 00:30:00-05:00 -70.128596  158.893404         -3.152909  \n",
       "2000-01-01 01:30:00-05:00 -61.396797  132.282295         -3.172747  \n",
       "2000-01-01 02:30:00-05:00 -49.270912  120.556648         -3.192577  \n",
       "2000-01-01 03:30:00-05:00 -36.027754  115.277253         -3.212399  \n",
       "2000-01-01 04:30:00-05:00 -22.372445  113.045370         -3.232213  "
      ]
     },
     "execution_count": 4,
     "metadata": {},
     "output_type": "execute_result"
    }
   ],
   "source": [
    "route()\n",
    "import cno_meteorology\n",
    "\n",
    "location, solpos, airmass, etr_nrel = cno_meteorology.get_meteo(latitude, \n",
    "                                                                longitude, \n",
    "                                                                tz, \n",
    "                                                                altitude, \n",
    "                                                                datetime=df.index)\n",
    "\n",
    "solpos.head()"
   ]
  },
  {
   "cell_type": "markdown",
   "metadata": {},
   "source": [
    "## 4. Descomposición + Transposición"
   ]
  },
  {
   "cell_type": "markdown",
   "metadata": {},
   "source": [
    "### 4.1. Descomposición: DISC"
   ]
  },
  {
   "cell_type": "code",
   "execution_count": 5,
   "metadata": {},
   "outputs": [
    {
     "data": {
      "text/html": [
       "<div>\n",
       "<style scoped>\n",
       "    .dataframe tbody tr th:only-of-type {\n",
       "        vertical-align: middle;\n",
       "    }\n",
       "\n",
       "    .dataframe tbody tr th {\n",
       "        vertical-align: top;\n",
       "    }\n",
       "\n",
       "    .dataframe thead th {\n",
       "        text-align: right;\n",
       "    }\n",
       "</style>\n",
       "<table border=\"1\" class=\"dataframe\">\n",
       "  <thead>\n",
       "    <tr style=\"text-align: right;\">\n",
       "      <th></th>\n",
       "      <th>dni</th>\n",
       "      <th>kt</th>\n",
       "      <th>airmass</th>\n",
       "      <th>dhi</th>\n",
       "    </tr>\n",
       "  </thead>\n",
       "  <tbody>\n",
       "    <tr>\n",
       "      <td>2000-01-01 00:30:00-05:00</td>\n",
       "      <td>0.0</td>\n",
       "      <td>0.0</td>\n",
       "      <td>NaN</td>\n",
       "      <td>0.0</td>\n",
       "    </tr>\n",
       "    <tr>\n",
       "      <td>2000-01-01 01:30:00-05:00</td>\n",
       "      <td>0.0</td>\n",
       "      <td>0.0</td>\n",
       "      <td>NaN</td>\n",
       "      <td>0.0</td>\n",
       "    </tr>\n",
       "    <tr>\n",
       "      <td>2000-01-01 02:30:00-05:00</td>\n",
       "      <td>0.0</td>\n",
       "      <td>0.0</td>\n",
       "      <td>NaN</td>\n",
       "      <td>0.0</td>\n",
       "    </tr>\n",
       "    <tr>\n",
       "      <td>2000-01-01 03:30:00-05:00</td>\n",
       "      <td>0.0</td>\n",
       "      <td>0.0</td>\n",
       "      <td>NaN</td>\n",
       "      <td>0.0</td>\n",
       "    </tr>\n",
       "    <tr>\n",
       "      <td>2000-01-01 04:30:00-05:00</td>\n",
       "      <td>0.0</td>\n",
       "      <td>0.0</td>\n",
       "      <td>NaN</td>\n",
       "      <td>0.0</td>\n",
       "    </tr>\n",
       "  </tbody>\n",
       "</table>\n",
       "</div>"
      ],
      "text/plain": [
       "                           dni   kt  airmass  dhi\n",
       "2000-01-01 00:30:00-05:00  0.0  0.0      NaN  0.0\n",
       "2000-01-01 01:30:00-05:00  0.0  0.0      NaN  0.0\n",
       "2000-01-01 02:30:00-05:00  0.0  0.0      NaN  0.0\n",
       "2000-01-01 03:30:00-05:00  0.0  0.0      NaN  0.0\n",
       "2000-01-01 04:30:00-05:00  0.0  0.0      NaN  0.0"
      ]
     },
     "execution_count": 5,
     "metadata": {},
     "output_type": "execute_result"
    }
   ],
   "source": [
    "route()\n",
    "import cno_decomposition_transposition\n",
    "\n",
    "disc = cno_decomposition_transposition.decomposition(ghi=df.GHI, \n",
    "                                                     solpos=solpos, \n",
    "                                                     datetime=df.index)\n",
    "\n",
    "disc.head()"
   ]
  },
  {
   "cell_type": "markdown",
   "metadata": {},
   "source": [
    "### 4.2. Montaje y Seguidor"
   ]
  },
  {
   "cell_type": "code",
   "execution_count": 6,
   "metadata": {},
   "outputs": [
    {
     "name": "stdout",
     "output_type": "stream",
     "text": [
      "MOUNT\n",
      " FixedMount(surface_tilt=10, surface_azimuth=180, racking_model='open_rack', module_height=None) \n",
      "\n",
      "TRACKER\n",
      " None\n"
     ]
    }
   ],
   "source": [
    "route()\n",
    "import cno_mount_tracker\n",
    "\n",
    "mount, tracker = cno_mount_tracker.get_mount_tracker(with_tracker=with_tracker, \n",
    "                                                     surface_tilt=surface_tilt, \n",
    "                                                     surface_azimuth=surface_azimuth, \n",
    "                                                     solpos=solpos, \n",
    "                                                     axis_tilt=axis_tilt, \n",
    "                                                     axis_azimuth=axis_azimuth, \n",
    "                                                     max_angle=max_angle, \n",
    "                                                     tracker_axis=tracker_axis, \n",
    "                                                     racking_model=racking_model, \n",
    "                                                     module_height=module_height)\n",
    "\n",
    "print('MOUNT\\n', mount, '\\n')\n",
    "print('TRACKER\\n', tracker)"
   ]
  },
  {
   "cell_type": "markdown",
   "metadata": {},
   "source": [
    "### 4.3. Transposición: Perez-Ineichen 1990"
   ]
  },
  {
   "cell_type": "code",
   "execution_count": 7,
   "metadata": {},
   "outputs": [
    {
     "data": {
      "text/html": [
       "<div>\n",
       "<style scoped>\n",
       "    .dataframe tbody tr th:only-of-type {\n",
       "        vertical-align: middle;\n",
       "    }\n",
       "\n",
       "    .dataframe tbody tr th {\n",
       "        vertical-align: top;\n",
       "    }\n",
       "\n",
       "    .dataframe thead th {\n",
       "        text-align: right;\n",
       "    }\n",
       "</style>\n",
       "<table border=\"1\" class=\"dataframe\">\n",
       "  <thead>\n",
       "    <tr style=\"text-align: right;\">\n",
       "      <th></th>\n",
       "      <th>poa_global</th>\n",
       "      <th>poa_direct</th>\n",
       "      <th>poa_diffuse</th>\n",
       "      <th>poa_sky_diffuse</th>\n",
       "      <th>poa_ground_diffuse</th>\n",
       "    </tr>\n",
       "  </thead>\n",
       "  <tbody>\n",
       "    <tr>\n",
       "      <td>2000-01-01 00:30:00-05:00</td>\n",
       "      <td>0.0</td>\n",
       "      <td>-0.0</td>\n",
       "      <td>0.0</td>\n",
       "      <td>0.0</td>\n",
       "      <td>0.0</td>\n",
       "    </tr>\n",
       "    <tr>\n",
       "      <td>2000-01-01 01:30:00-05:00</td>\n",
       "      <td>0.0</td>\n",
       "      <td>-0.0</td>\n",
       "      <td>0.0</td>\n",
       "      <td>0.0</td>\n",
       "      <td>0.0</td>\n",
       "    </tr>\n",
       "    <tr>\n",
       "      <td>2000-01-01 02:30:00-05:00</td>\n",
       "      <td>0.0</td>\n",
       "      <td>-0.0</td>\n",
       "      <td>0.0</td>\n",
       "      <td>0.0</td>\n",
       "      <td>0.0</td>\n",
       "    </tr>\n",
       "    <tr>\n",
       "      <td>2000-01-01 03:30:00-05:00</td>\n",
       "      <td>0.0</td>\n",
       "      <td>-0.0</td>\n",
       "      <td>0.0</td>\n",
       "      <td>0.0</td>\n",
       "      <td>0.0</td>\n",
       "    </tr>\n",
       "    <tr>\n",
       "      <td>2000-01-01 04:30:00-05:00</td>\n",
       "      <td>0.0</td>\n",
       "      <td>-0.0</td>\n",
       "      <td>0.0</td>\n",
       "      <td>0.0</td>\n",
       "      <td>0.0</td>\n",
       "    </tr>\n",
       "  </tbody>\n",
       "</table>\n",
       "</div>"
      ],
      "text/plain": [
       "                           poa_global  poa_direct  poa_diffuse  \\\n",
       "2000-01-01 00:30:00-05:00         0.0        -0.0          0.0   \n",
       "2000-01-01 01:30:00-05:00         0.0        -0.0          0.0   \n",
       "2000-01-01 02:30:00-05:00         0.0        -0.0          0.0   \n",
       "2000-01-01 03:30:00-05:00         0.0        -0.0          0.0   \n",
       "2000-01-01 04:30:00-05:00         0.0        -0.0          0.0   \n",
       "\n",
       "                           poa_sky_diffuse  poa_ground_diffuse  \n",
       "2000-01-01 00:30:00-05:00              0.0                 0.0  \n",
       "2000-01-01 01:30:00-05:00              0.0                 0.0  \n",
       "2000-01-01 02:30:00-05:00              0.0                 0.0  \n",
       "2000-01-01 03:30:00-05:00              0.0                 0.0  \n",
       "2000-01-01 04:30:00-05:00              0.0                 0.0  "
      ]
     },
     "execution_count": 7,
     "metadata": {},
     "output_type": "execute_result"
    }
   ],
   "source": [
    "poa = cno_decomposition_transposition.transposition(with_tracker=with_tracker, \n",
    "                                                    tracker=tracker,\n",
    "                                                    surface_tilt=surface_tilt, \n",
    "                                                    surface_azimuth=surface_azimuth, \n",
    "                                                    solpos=solpos, \n",
    "                                                    disc=disc, \n",
    "                                                    ghi=df.GHI, \n",
    "                                                    etr_nrel=etr_nrel, \n",
    "                                                    airmass=airmass, \n",
    "                                                    surface_type=surface_type)\n",
    "\n",
    "poa.head()"
   ]
  },
  {
   "cell_type": "markdown",
   "metadata": {},
   "source": [
    "## 5. Configuración del Sistema"
   ]
  },
  {
   "cell_type": "markdown",
   "metadata": {},
   "source": [
    "### 5.1. Inversor y Módulo"
   ]
  },
  {
   "cell_type": "code",
   "execution_count": 8,
   "metadata": {
    "scrolled": true
   },
   "outputs": [
    {
     "name": "stdout",
     "output_type": "stream",
     "text": [
      "INVERTER\n",
      " Vac                          480\n",
      "Pso                      143.487\n",
      "Paco                       50000\n",
      "Pdco                     50881.8\n",
      "Vdco                         720\n",
      "C0                  -1.28775e-07\n",
      "C1                      -2.4e-05\n",
      "C2                      0.001013\n",
      "C3                     -0.000319\n",
      "Pnt                            1\n",
      "Vdcmax                       800\n",
      "Idcmax                   70.6691\n",
      "Mppt_low                     520\n",
      "Mppt_high                    800\n",
      "CEC_Date              10/15/2018\n",
      "CEC_Type     Utility Interactive\n",
      "Name: ABB__TRIO_50_0_TL_OUTD_US_480__480V_, dtype: object \n",
      "\n",
      "MODULE\n",
      " Technology            Mono-c-Si\n",
      "Bifacial                      0\n",
      "STC                     400.316\n",
      "PTC                       368.4\n",
      "A_c                           2\n",
      "Length                        2\n",
      "Width                         1\n",
      "N_s                          72\n",
      "I_sc_ref                  10.47\n",
      "V_oc_ref                   49.3\n",
      "I_mp_ref                   9.86\n",
      "V_mp_ref                   40.6\n",
      "alpha_sc               0.003141\n",
      "beta_oc                -0.12818\n",
      "T_NOCT                     47.7\n",
      "a_ref                   1.82121\n",
      "I_L_ref                 10.4811\n",
      "I_o_ref             1.80748e-11\n",
      "R_s                    0.312859\n",
      "R_sh_ref                293.805\n",
      "Adjust                  9.38061\n",
      "gamma_r                 -0.0036\n",
      "BIPV                          N\n",
      "Version       SAM 2018.11.11 r2\n",
      "Date                   1/3/2019\n",
      "Name: LG_Electronics_Inc__LG400N2W_A5, dtype: object\n"
     ]
    }
   ],
   "source": [
    "route()\n",
    "import cno_inverter_module\n",
    "\n",
    "inverter = cno_inverter_module.get_inverter(inverters_database=inverters_database, \n",
    "                                            inverter_name=inverter_name, \n",
    "                                            inv=None)\n",
    "\n",
    "print('INVERTER\\n', inverter, '\\n')\n",
    "\n",
    "module = cno_inverter_module.get_module(modules_database=modules_database, \n",
    "                                        module_name=module_name, \n",
    "                                        mod=None)\n",
    "\n",
    "print('MODULE\\n', module)"
   ]
  },
  {
   "cell_type": "markdown",
   "metadata": {},
   "source": [
    "### 5.2. Arreglos Fotovoltaicos"
   ]
  },
  {
   "cell_type": "code",
   "execution_count": 9,
   "metadata": {},
   "outputs": [
    {
     "data": {
      "text/plain": [
       "[Array:\n",
       "   name: ['SysA']\n",
       "   mount: FixedMount(surface_tilt=10, surface_azimuth=180, racking_model='open_rack', module_height=None)\n",
       "   module: None\n",
       "   albedo: 0.18\n",
       "   module_type: open_rack_glass_glass\n",
       "   temperature_model_parameters: {'a': -3.47, 'b': -0.0594, 'deltaT': 3}\n",
       "   strings: [8]\n",
       "   modules_per_string: [16]]"
      ]
     },
     "execution_count": 9,
     "metadata": {},
     "output_type": "execute_result"
    }
   ],
   "source": [
    "route()\n",
    "import cno_def_pvsystem\n",
    "\n",
    "string_arrays = cno_def_pvsystem.get_arrays(num_arrays=num_arrays,\n",
    "                                            array_name=array_name,\n",
    "                                            mount=mount, \n",
    "                                            surface_type=surface_type, \n",
    "                                            module_type=module_type, \n",
    "                                            module=pvlib.irradiance.SURFACE_ALBEDOS[surface_type], \n",
    "                                            mps=modules_per_string, \n",
    "                                            spi=strings_per_inverter)\n",
    "\n",
    "string_arrays"
   ]
  },
  {
   "cell_type": "markdown",
   "metadata": {},
   "source": [
    "### 5.3. Sistema Fotovoltaico"
   ]
  },
  {
   "cell_type": "code",
   "execution_count": 10,
   "metadata": {},
   "outputs": [
    {
     "data": {
      "text/plain": [
       "PVSystem:\n",
       "  name: None\n",
       "  Array:\n",
       "    name: ['SysA']\n",
       "    mount: FixedMount(surface_tilt=10, surface_azimuth=180, racking_model='open_rack', module_height=None)\n",
       "    module: None\n",
       "    albedo: 0.18\n",
       "    module_type: open_rack_glass_glass\n",
       "    temperature_model_parameters: {'a': -3.47, 'b': -0.0594, 'deltaT': 3}\n",
       "    strings: [8]\n",
       "    modules_per_string: [16]\n",
       "  inverter: None"
      ]
     },
     "execution_count": 10,
     "metadata": {},
     "output_type": "execute_result"
    }
   ],
   "source": [
    "system = cno_def_pvsystem.get_pvsystem(with_tracker=with_tracker,\n",
    "                                       tracker=tracker,\n",
    "                                       string_arrays=string_arrays, \n",
    "                                       surface_tilt=surface_tilt, \n",
    "                                       surface_azimuth=surface_azimuth, \n",
    "                                       surface_type=surface_type, \n",
    "                                       module_type=module_type, \n",
    "                                       module=module, \n",
    "                                       inverter=inverter, \n",
    "                                       racking_model=racking_model)\n",
    "\n",
    "system"
   ]
  },
  {
   "cell_type": "markdown",
   "metadata": {},
   "source": [
    "## 6. Modelado de Producción con PVlib"
   ]
  },
  {
   "cell_type": "markdown",
   "metadata": {},
   "source": [
    "### 6.1. Temperatura de las Celdas"
   ]
  },
  {
   "cell_type": "code",
   "execution_count": 11,
   "metadata": {},
   "outputs": [
    {
     "data": {
      "text/plain": [
       "2000-01-01 00:30:00-05:00    9.0\n",
       "2000-01-01 01:30:00-05:00    9.0\n",
       "2000-01-01 02:30:00-05:00    9.0\n",
       "2000-01-01 03:30:00-05:00    9.0\n",
       "2000-01-01 04:30:00-05:00    9.0\n",
       "dtype: float64"
      ]
     },
     "execution_count": 11,
     "metadata": {},
     "output_type": "execute_result"
    }
   ],
   "source": [
    "route()\n",
    "import cno_cell_temperature\n",
    "\n",
    "temp_cell = cno_cell_temperature.get_tcell_tnoct(poa=poa.poa_global, \n",
    "                                                 temp_air=df['Temperature'], \n",
    "                                                 tnoct=module['T_NOCT'])\n",
    "\n",
    "temp_cell.head()"
   ]
  },
  {
   "cell_type": "markdown",
   "metadata": {},
   "source": [
    "### 6.2. Producción DC, Potencia AC y Energía"
   ]
  },
  {
   "cell_type": "code",
   "execution_count": 12,
   "metadata": {},
   "outputs": [
    {
     "ename": "ValueError",
     "evalue": "Unable to coerce to Series, length must be 2: given 1",
     "output_type": "error",
     "traceback": [
      "\u001b[0;31m---------------------------------------------------------------------------\u001b[0m",
      "\u001b[0;31mValueError\u001b[0m                                Traceback (most recent call last)",
      "\u001b[0;32m~/Documents/PV Simulations/CNO/Convenio_Esp_5/Cuadernos_Interactivos/scripts/cno_libraries.py\u001b[0m in \u001b[0;36m<module>\u001b[0;34m\u001b[0m\n\u001b[1;32m     12\u001b[0m                                                     \u001b[0mresolution\u001b[0m\u001b[0;34m=\u001b[0m\u001b[0mresolution\u001b[0m\u001b[0;34m,\u001b[0m\u001b[0;34m\u001b[0m\u001b[0;34m\u001b[0m\u001b[0m\n\u001b[1;32m     13\u001b[0m                                                     \u001b[0mnum_inverter\u001b[0m\u001b[0;34m=\u001b[0m\u001b[0mnum_inverter\u001b[0m\u001b[0;34m,\u001b[0m\u001b[0;34m\u001b[0m\u001b[0;34m\u001b[0m\u001b[0m\n\u001b[0;32m---> 14\u001b[0;31m                                                     energy_units=energy_units)\n\u001b[0m",
      "\u001b[0;32m~/Documents/PV Simulations/CNO/Convenio_Esp_5/Cuadernos_Interactivos/scripts/cno_production.py\u001b[0m in \u001b[0;36mproduction_pipeline\u001b[0;34m(poa, cell_temperature, module, inverter, system, num_arrays, ac_model, loss, resolution, num_inverter, energy_units)\u001b[0m\n\u001b[1;32m    138\u001b[0m \u001b[0;32mdef\u001b[0m \u001b[0mproduction_pipeline\u001b[0m\u001b[0;34m(\u001b[0m\u001b[0mpoa\u001b[0m\u001b[0;34m,\u001b[0m \u001b[0mcell_temperature\u001b[0m\u001b[0;34m,\u001b[0m \u001b[0mmodule\u001b[0m\u001b[0;34m,\u001b[0m \u001b[0minverter\u001b[0m\u001b[0;34m,\u001b[0m \u001b[0msystem\u001b[0m\u001b[0;34m,\u001b[0m \u001b[0mnum_arrays\u001b[0m\u001b[0;34m,\u001b[0m \u001b[0mac_model\u001b[0m\u001b[0;34m,\u001b[0m \u001b[0mloss\u001b[0m\u001b[0;34m,\u001b[0m \u001b[0mresolution\u001b[0m\u001b[0;34m,\u001b[0m \u001b[0mnum_inverter\u001b[0m\u001b[0;34m=\u001b[0m\u001b[0;36m1\u001b[0m\u001b[0;34m,\u001b[0m \u001b[0menergy_units\u001b[0m\u001b[0;34m=\u001b[0m\u001b[0;34m'Wh'\u001b[0m\u001b[0;34m)\u001b[0m\u001b[0;34m:\u001b[0m\u001b[0;34m\u001b[0m\u001b[0;34m\u001b[0m\u001b[0m\n\u001b[1;32m    139\u001b[0m     \u001b[0;31m# DC Production\u001b[0m\u001b[0;34m\u001b[0m\u001b[0;34m\u001b[0m\u001b[0;34m\u001b[0m\u001b[0m\n\u001b[0;32m--> 140\u001b[0;31m     \u001b[0mdc\u001b[0m \u001b[0;34m=\u001b[0m \u001b[0mdc_production\u001b[0m\u001b[0;34m(\u001b[0m\u001b[0mpoa\u001b[0m\u001b[0;34m,\u001b[0m \u001b[0mcell_temperature\u001b[0m\u001b[0;34m,\u001b[0m \u001b[0mmodule\u001b[0m\u001b[0;34m,\u001b[0m \u001b[0msystem\u001b[0m\u001b[0;34m,\u001b[0m \u001b[0mnum_arrays\u001b[0m\u001b[0;34m)\u001b[0m\u001b[0;34m\u001b[0m\u001b[0;34m\u001b[0m\u001b[0m\n\u001b[0m\u001b[1;32m    141\u001b[0m \u001b[0;34m\u001b[0m\u001b[0m\n\u001b[1;32m    142\u001b[0m     \u001b[0;31m# Losses\u001b[0m\u001b[0;34m\u001b[0m\u001b[0;34m\u001b[0m\u001b[0;34m\u001b[0m\u001b[0m\n",
      "\u001b[0;32m~/Documents/PV Simulations/CNO/Convenio_Esp_5/Cuadernos_Interactivos/scripts/cno_production.py\u001b[0m in \u001b[0;36mdc_production\u001b[0;34m(poa, cell_temperature, module, system, num_arrays)\u001b[0m\n\u001b[1;32m     50\u001b[0m         \u001b[0mresults\u001b[0m\u001b[0;34m.\u001b[0m\u001b[0mappend\u001b[0m\u001b[0;34m(\u001b[0m\u001b[0mresults_general\u001b[0m\u001b[0;34m)\u001b[0m\u001b[0;34m\u001b[0m\u001b[0;34m\u001b[0m\u001b[0m\n\u001b[1;32m     51\u001b[0m \u001b[0;34m\u001b[0m\u001b[0m\n\u001b[0;32m---> 52\u001b[0;31m     \u001b[0mdc\u001b[0m \u001b[0;34m=\u001b[0m \u001b[0msystem\u001b[0m\u001b[0;34m.\u001b[0m\u001b[0mscale_voltage_current_power\u001b[0m\u001b[0;34m(\u001b[0m\u001b[0mtuple\u001b[0m\u001b[0;34m(\u001b[0m\u001b[0mresults\u001b[0m\u001b[0;34m)\u001b[0m\u001b[0;34m)\u001b[0m\u001b[0;34m\u001b[0m\u001b[0;34m\u001b[0m\u001b[0m\n\u001b[0m\u001b[1;32m     53\u001b[0m \u001b[0;34m\u001b[0m\u001b[0m\n\u001b[1;32m     54\u001b[0m     \u001b[0;32mif\u001b[0m \u001b[0mnum_arrays\u001b[0m \u001b[0;34m==\u001b[0m \u001b[0;36m1\u001b[0m\u001b[0;34m:\u001b[0m\u001b[0;34m\u001b[0m\u001b[0;34m\u001b[0m\u001b[0m\n",
      "\u001b[0;32m/opt/anaconda3/lib/python3.7/site-packages/pvlib/pvsystem.py\u001b[0m in \u001b[0;36mf\u001b[0;34m(*args, **kwargs)\u001b[0m\n\u001b[1;32m     61\u001b[0m     \u001b[0;32mdef\u001b[0m \u001b[0mf\u001b[0m\u001b[0;34m(\u001b[0m\u001b[0;34m*\u001b[0m\u001b[0margs\u001b[0m\u001b[0;34m,\u001b[0m \u001b[0;34m**\u001b[0m\u001b[0mkwargs\u001b[0m\u001b[0;34m)\u001b[0m\u001b[0;34m:\u001b[0m\u001b[0;34m\u001b[0m\u001b[0;34m\u001b[0m\u001b[0m\n\u001b[1;32m     62\u001b[0m         \u001b[0munwrap\u001b[0m \u001b[0;34m=\u001b[0m \u001b[0mkwargs\u001b[0m\u001b[0;34m.\u001b[0m\u001b[0mpop\u001b[0m\u001b[0;34m(\u001b[0m\u001b[0;34m'unwrap'\u001b[0m\u001b[0;34m,\u001b[0m \u001b[0;32mTrue\u001b[0m\u001b[0;34m)\u001b[0m\u001b[0;34m\u001b[0m\u001b[0;34m\u001b[0m\u001b[0m\n\u001b[0;32m---> 63\u001b[0;31m         \u001b[0mx\u001b[0m \u001b[0;34m=\u001b[0m \u001b[0mfunc\u001b[0m\u001b[0;34m(\u001b[0m\u001b[0;34m*\u001b[0m\u001b[0margs\u001b[0m\u001b[0;34m,\u001b[0m \u001b[0;34m**\u001b[0m\u001b[0mkwargs\u001b[0m\u001b[0;34m)\u001b[0m\u001b[0;34m\u001b[0m\u001b[0;34m\u001b[0m\u001b[0m\n\u001b[0m\u001b[1;32m     64\u001b[0m         \u001b[0;32mif\u001b[0m \u001b[0munwrap\u001b[0m \u001b[0;32mand\u001b[0m \u001b[0mlen\u001b[0m\u001b[0;34m(\u001b[0m\u001b[0mx\u001b[0m\u001b[0;34m)\u001b[0m \u001b[0;34m==\u001b[0m \u001b[0;36m1\u001b[0m\u001b[0;34m:\u001b[0m\u001b[0;34m\u001b[0m\u001b[0;34m\u001b[0m\u001b[0m\n\u001b[1;32m     65\u001b[0m             \u001b[0;32mreturn\u001b[0m \u001b[0mx\u001b[0m\u001b[0;34m[\u001b[0m\u001b[0;36m0\u001b[0m\u001b[0;34m]\u001b[0m\u001b[0;34m\u001b[0m\u001b[0;34m\u001b[0m\u001b[0m\n",
      "\u001b[0;32m/opt/anaconda3/lib/python3.7/site-packages/pvlib/pvsystem.py\u001b[0m in \u001b[0;36mscale_voltage_current_power\u001b[0;34m(self, data)\u001b[0m\n\u001b[1;32m   1053\u001b[0m                                         \u001b[0mvoltage\u001b[0m\u001b[0;34m=\u001b[0m\u001b[0marray\u001b[0m\u001b[0;34m.\u001b[0m\u001b[0mmodules_per_string\u001b[0m\u001b[0;34m,\u001b[0m\u001b[0;34m\u001b[0m\u001b[0;34m\u001b[0m\u001b[0m\n\u001b[1;32m   1054\u001b[0m                                         current=array.strings)\n\u001b[0;32m-> 1055\u001b[0;31m             \u001b[0;32mfor\u001b[0m \u001b[0marray\u001b[0m\u001b[0;34m,\u001b[0m \u001b[0mdata\u001b[0m \u001b[0;32min\u001b[0m \u001b[0mzip\u001b[0m\u001b[0;34m(\u001b[0m\u001b[0mself\u001b[0m\u001b[0;34m.\u001b[0m\u001b[0marrays\u001b[0m\u001b[0;34m,\u001b[0m \u001b[0mdata\u001b[0m\u001b[0;34m)\u001b[0m\u001b[0;34m\u001b[0m\u001b[0;34m\u001b[0m\u001b[0m\n\u001b[0m\u001b[1;32m   1056\u001b[0m         )\n\u001b[1;32m   1057\u001b[0m \u001b[0;34m\u001b[0m\u001b[0m\n",
      "\u001b[0;32m/opt/anaconda3/lib/python3.7/site-packages/pvlib/pvsystem.py\u001b[0m in \u001b[0;36m<genexpr>\u001b[0;34m(.0)\u001b[0m\n\u001b[1;32m   1053\u001b[0m                                         \u001b[0mvoltage\u001b[0m\u001b[0;34m=\u001b[0m\u001b[0marray\u001b[0m\u001b[0;34m.\u001b[0m\u001b[0mmodules_per_string\u001b[0m\u001b[0;34m,\u001b[0m\u001b[0;34m\u001b[0m\u001b[0;34m\u001b[0m\u001b[0m\n\u001b[1;32m   1054\u001b[0m                                         current=array.strings)\n\u001b[0;32m-> 1055\u001b[0;31m             \u001b[0;32mfor\u001b[0m \u001b[0marray\u001b[0m\u001b[0;34m,\u001b[0m \u001b[0mdata\u001b[0m \u001b[0;32min\u001b[0m \u001b[0mzip\u001b[0m\u001b[0;34m(\u001b[0m\u001b[0mself\u001b[0m\u001b[0;34m.\u001b[0m\u001b[0marrays\u001b[0m\u001b[0;34m,\u001b[0m \u001b[0mdata\u001b[0m\u001b[0;34m)\u001b[0m\u001b[0;34m\u001b[0m\u001b[0;34m\u001b[0m\u001b[0m\n\u001b[0m\u001b[1;32m   1056\u001b[0m         )\n\u001b[1;32m   1057\u001b[0m \u001b[0;34m\u001b[0m\u001b[0m\n",
      "\u001b[0;32m/opt/anaconda3/lib/python3.7/site-packages/pvlib/pvsystem.py\u001b[0m in \u001b[0;36mscale_voltage_current_power\u001b[0;34m(data, voltage, current)\u001b[0m\n\u001b[1;32m   3145\u001b[0m     \u001b[0mcurrent_keys\u001b[0m \u001b[0;34m=\u001b[0m \u001b[0;34m[\u001b[0m\u001b[0;34m'i_mp'\u001b[0m\u001b[0;34m,\u001b[0m \u001b[0;34m'i_x'\u001b[0m\u001b[0;34m,\u001b[0m \u001b[0;34m'i_xx'\u001b[0m\u001b[0;34m,\u001b[0m \u001b[0;34m'i_sc'\u001b[0m\u001b[0;34m]\u001b[0m\u001b[0;34m\u001b[0m\u001b[0;34m\u001b[0m\u001b[0m\n\u001b[1;32m   3146\u001b[0m     \u001b[0mpower_keys\u001b[0m \u001b[0;34m=\u001b[0m \u001b[0;34m[\u001b[0m\u001b[0;34m'p_mp'\u001b[0m\u001b[0;34m]\u001b[0m\u001b[0;34m\u001b[0m\u001b[0;34m\u001b[0m\u001b[0m\n\u001b[0;32m-> 3147\u001b[0;31m     \u001b[0mvoltage_df\u001b[0m \u001b[0;34m=\u001b[0m \u001b[0mdata\u001b[0m\u001b[0;34m.\u001b[0m\u001b[0mfilter\u001b[0m\u001b[0;34m(\u001b[0m\u001b[0mvoltage_keys\u001b[0m\u001b[0;34m,\u001b[0m \u001b[0maxis\u001b[0m\u001b[0;34m=\u001b[0m\u001b[0;36m1\u001b[0m\u001b[0;34m)\u001b[0m \u001b[0;34m*\u001b[0m \u001b[0mvoltage\u001b[0m\u001b[0;34m\u001b[0m\u001b[0;34m\u001b[0m\u001b[0m\n\u001b[0m\u001b[1;32m   3148\u001b[0m     \u001b[0mcurrent_df\u001b[0m \u001b[0;34m=\u001b[0m \u001b[0mdata\u001b[0m\u001b[0;34m.\u001b[0m\u001b[0mfilter\u001b[0m\u001b[0;34m(\u001b[0m\u001b[0mcurrent_keys\u001b[0m\u001b[0;34m,\u001b[0m \u001b[0maxis\u001b[0m\u001b[0;34m=\u001b[0m\u001b[0;36m1\u001b[0m\u001b[0;34m)\u001b[0m \u001b[0;34m*\u001b[0m \u001b[0mcurrent\u001b[0m\u001b[0;34m\u001b[0m\u001b[0;34m\u001b[0m\u001b[0m\n\u001b[1;32m   3149\u001b[0m     \u001b[0mpower_df\u001b[0m \u001b[0;34m=\u001b[0m \u001b[0mdata\u001b[0m\u001b[0;34m.\u001b[0m\u001b[0mfilter\u001b[0m\u001b[0;34m(\u001b[0m\u001b[0mpower_keys\u001b[0m\u001b[0;34m,\u001b[0m \u001b[0maxis\u001b[0m\u001b[0;34m=\u001b[0m\u001b[0;36m1\u001b[0m\u001b[0;34m)\u001b[0m \u001b[0;34m*\u001b[0m \u001b[0mvoltage\u001b[0m \u001b[0;34m*\u001b[0m \u001b[0mcurrent\u001b[0m\u001b[0;34m\u001b[0m\u001b[0;34m\u001b[0m\u001b[0m\n",
      "\u001b[0;32m/opt/anaconda3/lib/python3.7/site-packages/pandas/core/ops/__init__.py\u001b[0m in \u001b[0;36mf\u001b[0;34m(self, other, axis, level, fill_value)\u001b[0m\n\u001b[1;32m   1486\u001b[0m     \u001b[0;32mdef\u001b[0m \u001b[0mf\u001b[0m\u001b[0;34m(\u001b[0m\u001b[0mself\u001b[0m\u001b[0;34m,\u001b[0m \u001b[0mother\u001b[0m\u001b[0;34m,\u001b[0m \u001b[0maxis\u001b[0m\u001b[0;34m=\u001b[0m\u001b[0mdefault_axis\u001b[0m\u001b[0;34m,\u001b[0m \u001b[0mlevel\u001b[0m\u001b[0;34m=\u001b[0m\u001b[0;32mNone\u001b[0m\u001b[0;34m,\u001b[0m \u001b[0mfill_value\u001b[0m\u001b[0;34m=\u001b[0m\u001b[0;32mNone\u001b[0m\u001b[0;34m)\u001b[0m\u001b[0;34m:\u001b[0m\u001b[0;34m\u001b[0m\u001b[0;34m\u001b[0m\u001b[0m\n\u001b[1;32m   1487\u001b[0m \u001b[0;34m\u001b[0m\u001b[0m\n\u001b[0;32m-> 1488\u001b[0;31m         \u001b[0mother\u001b[0m \u001b[0;34m=\u001b[0m \u001b[0m_align_method_FRAME\u001b[0m\u001b[0;34m(\u001b[0m\u001b[0mself\u001b[0m\u001b[0;34m,\u001b[0m \u001b[0mother\u001b[0m\u001b[0;34m,\u001b[0m \u001b[0maxis\u001b[0m\u001b[0;34m)\u001b[0m\u001b[0;34m\u001b[0m\u001b[0;34m\u001b[0m\u001b[0m\n\u001b[0m\u001b[1;32m   1489\u001b[0m \u001b[0;34m\u001b[0m\u001b[0m\n\u001b[1;32m   1490\u001b[0m         \u001b[0;32mif\u001b[0m \u001b[0misinstance\u001b[0m\u001b[0;34m(\u001b[0m\u001b[0mother\u001b[0m\u001b[0;34m,\u001b[0m \u001b[0mABCDataFrame\u001b[0m\u001b[0;34m)\u001b[0m\u001b[0;34m:\u001b[0m\u001b[0;34m\u001b[0m\u001b[0;34m\u001b[0m\u001b[0m\n",
      "\u001b[0;32m/opt/anaconda3/lib/python3.7/site-packages/pandas/core/ops/__init__.py\u001b[0m in \u001b[0;36m_align_method_FRAME\u001b[0;34m(left, right, axis)\u001b[0m\n\u001b[1;32m   1456\u001b[0m     \u001b[0;32melif\u001b[0m \u001b[0mis_list_like\u001b[0m\u001b[0;34m(\u001b[0m\u001b[0mright\u001b[0m\u001b[0;34m)\u001b[0m \u001b[0;32mand\u001b[0m \u001b[0;32mnot\u001b[0m \u001b[0misinstance\u001b[0m\u001b[0;34m(\u001b[0m\u001b[0mright\u001b[0m\u001b[0;34m,\u001b[0m \u001b[0;34m(\u001b[0m\u001b[0mABCSeries\u001b[0m\u001b[0;34m,\u001b[0m \u001b[0mABCDataFrame\u001b[0m\u001b[0;34m)\u001b[0m\u001b[0;34m)\u001b[0m\u001b[0;34m:\u001b[0m\u001b[0;34m\u001b[0m\u001b[0;34m\u001b[0m\u001b[0m\n\u001b[1;32m   1457\u001b[0m         \u001b[0;31m# GH17901\u001b[0m\u001b[0;34m\u001b[0m\u001b[0;34m\u001b[0m\u001b[0;34m\u001b[0m\u001b[0m\n\u001b[0;32m-> 1458\u001b[0;31m         \u001b[0mright\u001b[0m \u001b[0;34m=\u001b[0m \u001b[0mto_series\u001b[0m\u001b[0;34m(\u001b[0m\u001b[0mright\u001b[0m\u001b[0;34m)\u001b[0m\u001b[0;34m\u001b[0m\u001b[0;34m\u001b[0m\u001b[0m\n\u001b[0m\u001b[1;32m   1459\u001b[0m \u001b[0;34m\u001b[0m\u001b[0m\n\u001b[1;32m   1460\u001b[0m     \u001b[0;32mreturn\u001b[0m \u001b[0mright\u001b[0m\u001b[0;34m\u001b[0m\u001b[0;34m\u001b[0m\u001b[0m\n",
      "\u001b[0;32m/opt/anaconda3/lib/python3.7/site-packages/pandas/core/ops/__init__.py\u001b[0m in \u001b[0;36mto_series\u001b[0;34m(right)\u001b[0m\n\u001b[1;32m   1417\u001b[0m             \u001b[0;32mif\u001b[0m \u001b[0mlen\u001b[0m\u001b[0;34m(\u001b[0m\u001b[0mleft\u001b[0m\u001b[0;34m.\u001b[0m\u001b[0mcolumns\u001b[0m\u001b[0;34m)\u001b[0m \u001b[0;34m!=\u001b[0m \u001b[0mlen\u001b[0m\u001b[0;34m(\u001b[0m\u001b[0mright\u001b[0m\u001b[0;34m)\u001b[0m\u001b[0;34m:\u001b[0m\u001b[0;34m\u001b[0m\u001b[0;34m\u001b[0m\u001b[0m\n\u001b[1;32m   1418\u001b[0m                 raise ValueError(\n\u001b[0;32m-> 1419\u001b[0;31m                     \u001b[0mmsg\u001b[0m\u001b[0;34m.\u001b[0m\u001b[0mformat\u001b[0m\u001b[0;34m(\u001b[0m\u001b[0mreq_len\u001b[0m\u001b[0;34m=\u001b[0m\u001b[0mlen\u001b[0m\u001b[0;34m(\u001b[0m\u001b[0mleft\u001b[0m\u001b[0;34m.\u001b[0m\u001b[0mcolumns\u001b[0m\u001b[0;34m)\u001b[0m\u001b[0;34m,\u001b[0m \u001b[0mgiven_len\u001b[0m\u001b[0;34m=\u001b[0m\u001b[0mlen\u001b[0m\u001b[0;34m(\u001b[0m\u001b[0mright\u001b[0m\u001b[0;34m)\u001b[0m\u001b[0;34m)\u001b[0m\u001b[0;34m\u001b[0m\u001b[0;34m\u001b[0m\u001b[0m\n\u001b[0m\u001b[1;32m   1420\u001b[0m                 )\n\u001b[1;32m   1421\u001b[0m             \u001b[0mright\u001b[0m \u001b[0;34m=\u001b[0m \u001b[0mleft\u001b[0m\u001b[0;34m.\u001b[0m\u001b[0m_constructor_sliced\u001b[0m\u001b[0;34m(\u001b[0m\u001b[0mright\u001b[0m\u001b[0;34m,\u001b[0m \u001b[0mindex\u001b[0m\u001b[0;34m=\u001b[0m\u001b[0mleft\u001b[0m\u001b[0;34m.\u001b[0m\u001b[0mcolumns\u001b[0m\u001b[0;34m)\u001b[0m\u001b[0;34m\u001b[0m\u001b[0;34m\u001b[0m\u001b[0m\n",
      "\u001b[0;31mValueError\u001b[0m: Unable to coerce to Series, length must be 2: given 1"
     ]
    }
   ],
   "source": [
    "route()\n",
    "import cno_production\n",
    "\n",
    "dc, ac, energy = cno_production.production_pipeline(poa=poa.poa_global, \n",
    "                                                    cell_temperature=temp_cell, \n",
    "                                                    module=module, \n",
    "                                                    inverter=inverter, \n",
    "                                                    system=system, \n",
    "                                                    num_arrays=num_arrays, \n",
    "                                                    ac_model=ac_model, \n",
    "                                                    loss=loss, \n",
    "                                                    resolution=resolution, \n",
    "                                                    num_inverter=num_inverter, \n",
    "                                                    energy_units=energy_units)"
   ]
  },
  {
   "cell_type": "code",
   "execution_count": null,
   "metadata": {
    "scrolled": true
   },
   "outputs": [],
   "source": [
    "dc"
   ]
  },
  {
   "cell_type": "code",
   "execution_count": null,
   "metadata": {},
   "outputs": [],
   "source": [
    "ac"
   ]
  },
  {
   "cell_type": "code",
   "execution_count": null,
   "metadata": {
    "scrolled": true
   },
   "outputs": [],
   "source": [
    "energy"
   ]
  },
  {
   "cell_type": "markdown",
   "metadata": {},
   "source": [
    "## 7. Capacidad Efectiva Neta (CEN)"
   ]
  },
  {
   "cell_type": "code",
   "execution_count": null,
   "metadata": {},
   "outputs": [],
   "source": [
    "route()\n",
    "import cno_cen\n",
    "\n",
    "perc = 99\n",
    "\n",
    "cen_per, cen_pmax = cno_cen.get_cen(ac=ac, \n",
    "                                    perc=perc,\n",
    "                                    decimals=4,\n",
    "                                    curve=True)"
   ]
  },
  {
   "cell_type": "markdown",
   "metadata": {},
   "source": [
    "## 8. ENFICC"
   ]
  },
  {
   "cell_type": "code",
   "execution_count": 13,
   "metadata": {},
   "outputs": [
    {
     "ename": "NameError",
     "evalue": "name 'cen_per' is not defined",
     "output_type": "error",
     "traceback": [
      "\u001b[0;31m---------------------------------------------------------------------------\u001b[0m",
      "\u001b[0;31mNameError\u001b[0m                                 Traceback (most recent call last)",
      "\u001b[0;32m~/Documents/PV Simulations/CNO/Convenio_Esp_5/Cuadernos_Interactivos/scripts/cno_libraries.py\u001b[0m in \u001b[0;36m<module>\u001b[0;34m\u001b[0m\n\u001b[1;32m     17\u001b[0m                                                  \u001b[0mKinc\u001b[0m\u001b[0;34m=\u001b[0m\u001b[0;36m0.9688\u001b[0m\u001b[0;34m,\u001b[0m\u001b[0;34m\u001b[0m\u001b[0;34m\u001b[0m\u001b[0m\n\u001b[1;32m     18\u001b[0m                                                  \u001b[0mIHF\u001b[0m\u001b[0;34m=\u001b[0m\u001b[0;36m0.1\u001b[0m\u001b[0;34m,\u001b[0m\u001b[0;34m\u001b[0m\u001b[0;34m\u001b[0m\u001b[0m\n\u001b[0;32m---> 19\u001b[0;31m                                                  \u001b[0mCEN\u001b[0m\u001b[0;34m=\u001b[0m\u001b[0mcen_per\u001b[0m\u001b[0;34m,\u001b[0m \u001b[0;31m# 0.05\u001b[0m\u001b[0;34m\u001b[0m\u001b[0;34m\u001b[0m\u001b[0m\n\u001b[0m\u001b[1;32m     20\u001b[0m                                                  \u001b[0ma\u001b[0m\u001b[0;34m=\u001b[0m\u001b[0;36m3.8e-05\u001b[0m\u001b[0;34m,\u001b[0m\u001b[0;34m\u001b[0m\u001b[0;34m\u001b[0m\u001b[0m\n\u001b[1;32m     21\u001b[0m                                                  \u001b[0mb\u001b[0m\u001b[0;34m=\u001b[0m\u001b[0;34m-\u001b[0m\u001b[0;36m0.0024\u001b[0m\u001b[0;34m,\u001b[0m\u001b[0;34m\u001b[0m\u001b[0;34m\u001b[0m\u001b[0m\n",
      "\u001b[0;31mNameError\u001b[0m: name 'cen_per' is not defined"
     ]
    }
   ],
   "source": [
    "route()\n",
    "import cno_energia_firme\n",
    "\n",
    "# Prepare Data\n",
    "df_hora = df[['GHI', 'Temperature']]\n",
    "df_hora['GHI'] = df_hora['GHI'] / 1000\n",
    "df_hora = df_hora.loc[df_hora.GHI != 0]\n",
    "\n",
    "ghi = df_hora.resample('M').apply(lambda x: x.quantile(0.95)).GHI # https://stackoverflow.com/questions/39246664/calculate-percentiles-quantiles-for-a-timeseries-with-resample-or-groupby-pand\n",
    "ghi_agg = df_hora['GHI'].resample('M').sum() # Falta de W/m2 a kW/m2\n",
    "temp = df_hora['Temperature'].resample('M').mean()\n",
    "\n",
    "df_mes = pd.DataFrame({'GHI': ghi, 'Insolation': ghi_agg,'Temperature': temp})\n",
    "\n",
    "# ENFICC CREG 201 de 2017\n",
    "efirme, enficc_t = cno_energia_firme.enficc_creg(df=df_mes, \n",
    "                                                 Kinc=0.9688, \n",
    "                                                 IHF=0.1, \n",
    "                                                 CEN=cen_per, # 0.05\n",
    "                                                 a=3.8e-05, \n",
    "                                                 b=-0.0024, \n",
    "                                                 c=0.05224, \n",
    "                                                 d=-0.3121, \n",
    "                                                 Kmedt=0.8540)\n",
    "\n",
    "# Energía Firme PVlib + CREG\n",
    "__, enficc_v2 = cno_energia_firme.efirme_pvlib_creg(energy=energy)\n",
    "\n",
    "# Energía Firme: PVlib + Min\n",
    "enficc_v3 = cno_energia_firme.efirme_pvlib_min(energy=energy)\n",
    "\n",
    "# Energía Firme: PVlib + Percentil\n",
    "enficc_v4 = cno_energia_firme.efirme_pvlib_percentile(energy=energy,\n",
    "                                                      percentile=1)"
   ]
  },
  {
   "cell_type": "code",
   "execution_count": 18,
   "metadata": {},
   "outputs": [
    {
     "name": "stdout",
     "output_type": "stream",
     "text": [
      "ENFICC [kWh/día] -- CREG 201 de 2017 = 102.48\n",
      "ENFI [kWh/día] -- Mín(Energía Mes PVlib / Días) = 111.89\n",
      "ENFI [kWh/día] -- Mín(Energía Día PVlib) = 27.03\n",
      "ENFI [kWh/día] -- Percentil(Energía Día PVlib) = 250.51\n"
     ]
    }
   ],
   "source": [
    "route()\n",
    "import cno_energia_firme\n",
    "\n",
    "# Prepare Data\n",
    "df_hora = df[['GHI', 'Temperature']]\n",
    "df_hora['GHI'] = df_hora['GHI'] / 1000\n",
    "df_hora = df_hora.loc[df_hora.GHI != 0]\n",
    "\n",
    "ghi = df_hora.resample('M').apply(lambda x: x.quantile(0.95)).GHI # https://stackoverflow.com/questions/39246664/calculate-percentiles-quantiles-for-a-timeseries-with-resample-or-groupby-pand\n",
    "ghi_agg = df_hora['GHI'].resample('M').sum() # Falta de W/m2 a kW/m2\n",
    "temp = df_hora['Temperature'].resample('M').mean()\n",
    "\n",
    "df_mes = pd.DataFrame({'GHI': ghi, 'Insolation': ghi_agg,'Temperature': temp})\n",
    "\n",
    "# ENFICC CREG 201 de 2017\n",
    "efirme, enficc_t = cno_energia_firme.enficc_creg(df=df_mes, \n",
    "                                                 Kinc=0.9688, \n",
    "                                                 IHF=0.1, \n",
    "                                                 CEN=0.05, \n",
    "                                                 a=3.8e-05, \n",
    "                                                 b=-0.0024, \n",
    "                                                 c=0.05224, \n",
    "                                                 d=-0.3121, \n",
    "                                                 Kmedt=0.8540)\n",
    "\n",
    "# Energía Firme PVlib + CREG\n",
    "__, enficc_v2 = cno_energia_firme.efirme_pvlib_creg(energy=energy)\n",
    "\n",
    "# Energía Firme: PVlib + Min\n",
    "enficc_v3 = cno_energia_firme.efirme_pvlib_min(energy=energy)\n",
    "\n",
    "# Energía Firme: PVlib + Percentil\n",
    "enficc_v4 = cno_energia_firme.efirme_pvlib_percentile(energy=energy,\n",
    "                                                      percentile=95)"
   ]
  },
  {
   "cell_type": "code",
   "execution_count": 19,
   "metadata": {},
   "outputs": [
    {
     "data": {
      "text/html": [
       "<div>\n",
       "<style scoped>\n",
       "    .dataframe tbody tr th:only-of-type {\n",
       "        vertical-align: middle;\n",
       "    }\n",
       "\n",
       "    .dataframe tbody tr th {\n",
       "        vertical-align: top;\n",
       "    }\n",
       "\n",
       "    .dataframe thead th {\n",
       "        text-align: right;\n",
       "    }\n",
       "</style>\n",
       "<table border=\"1\" class=\"dataframe\">\n",
       "  <thead>\n",
       "    <tr style=\"text-align: right;\">\n",
       "      <th></th>\n",
       "      <th>GHI</th>\n",
       "      <th>Insolation</th>\n",
       "      <th>Temperature</th>\n",
       "    </tr>\n",
       "  </thead>\n",
       "  <tbody>\n",
       "    <tr>\n",
       "      <td>2000-01-31 00:00:00-05:00</td>\n",
       "      <td>0.99200</td>\n",
       "      <td>151.663</td>\n",
       "      <td>13.005376</td>\n",
       "    </tr>\n",
       "    <tr>\n",
       "      <td>2000-02-29 00:00:00-05:00</td>\n",
       "      <td>0.98275</td>\n",
       "      <td>139.514</td>\n",
       "      <td>13.565476</td>\n",
       "    </tr>\n",
       "    <tr>\n",
       "      <td>2000-03-31 00:00:00-05:00</td>\n",
       "      <td>0.99700</td>\n",
       "      <td>157.480</td>\n",
       "      <td>13.575269</td>\n",
       "    </tr>\n",
       "    <tr>\n",
       "      <td>2000-04-30 00:00:00-05:00</td>\n",
       "      <td>0.87415</td>\n",
       "      <td>143.570</td>\n",
       "      <td>13.780556</td>\n",
       "    </tr>\n",
       "    <tr>\n",
       "      <td>2000-05-31 00:00:00-05:00</td>\n",
       "      <td>0.95170</td>\n",
       "      <td>156.327</td>\n",
       "      <td>13.411290</td>\n",
       "    </tr>\n",
       "  </tbody>\n",
       "</table>\n",
       "</div>"
      ],
      "text/plain": [
       "                               GHI  Insolation  Temperature\n",
       "2000-01-31 00:00:00-05:00  0.99200     151.663    13.005376\n",
       "2000-02-29 00:00:00-05:00  0.98275     139.514    13.565476\n",
       "2000-03-31 00:00:00-05:00  0.99700     157.480    13.575269\n",
       "2000-04-30 00:00:00-05:00  0.87415     143.570    13.780556\n",
       "2000-05-31 00:00:00-05:00  0.95170     156.327    13.411290"
      ]
     },
     "execution_count": 19,
     "metadata": {},
     "output_type": "execute_result"
    }
   ],
   "source": [
    "df_mes.head()"
   ]
  },
  {
   "cell_type": "code",
   "execution_count": null,
   "metadata": {},
   "outputs": [],
   "source": []
  },
  {
   "cell_type": "code",
   "execution_count": 20,
   "metadata": {},
   "outputs": [
    {
     "data": {
      "text/html": [
       "<div>\n",
       "<style scoped>\n",
       "    .dataframe tbody tr th:only-of-type {\n",
       "        vertical-align: middle;\n",
       "    }\n",
       "\n",
       "    .dataframe tbody tr th {\n",
       "        vertical-align: top;\n",
       "    }\n",
       "\n",
       "    .dataframe thead th {\n",
       "        text-align: right;\n",
       "    }\n",
       "</style>\n",
       "<table border=\"1\" class=\"dataframe\">\n",
       "  <thead>\n",
       "    <tr style=\"text-align: right;\">\n",
       "      <th></th>\n",
       "      <th>Date</th>\n",
       "      <th>Lufft Irrad., W/m2</th>\n",
       "      <th>Meteocontrol Irrad., W/m2</th>\n",
       "      <th>DC Power SysB, W</th>\n",
       "      <th>DC Power SysA, W</th>\n",
       "      <th>DC Power SysB String 1, W</th>\n",
       "      <th>DC Power SysB String 2, W</th>\n",
       "      <th>AC Power SysB, W</th>\n",
       "      <th>AC Power SysA, W</th>\n",
       "      <th>Tmod, ºC</th>\n",
       "      <th>Tamb, ºC</th>\n",
       "      <th>Energy SysB, kWh</th>\n",
       "      <th>Energy SysA, kWh</th>\n",
       "    </tr>\n",
       "  </thead>\n",
       "  <tbody>\n",
       "    <tr>\n",
       "      <td>576</td>\n",
       "      <td>2019-08-03 00:00:00</td>\n",
       "      <td>0.0</td>\n",
       "      <td>1.112</td>\n",
       "      <td>0.0</td>\n",
       "      <td>0.0</td>\n",
       "      <td>0.0</td>\n",
       "      <td>0.0</td>\n",
       "      <td>0.0</td>\n",
       "      <td>0.0</td>\n",
       "      <td>11.481095</td>\n",
       "      <td>11.481095</td>\n",
       "      <td>0.0</td>\n",
       "      <td>0.0</td>\n",
       "    </tr>\n",
       "    <tr>\n",
       "      <td>577</td>\n",
       "      <td>2019-08-03 00:05:00</td>\n",
       "      <td>0.0</td>\n",
       "      <td>1.110</td>\n",
       "      <td>0.0</td>\n",
       "      <td>0.0</td>\n",
       "      <td>0.0</td>\n",
       "      <td>0.0</td>\n",
       "      <td>0.0</td>\n",
       "      <td>0.0</td>\n",
       "      <td>11.452286</td>\n",
       "      <td>11.452286</td>\n",
       "      <td>0.0</td>\n",
       "      <td>0.0</td>\n",
       "    </tr>\n",
       "    <tr>\n",
       "      <td>578</td>\n",
       "      <td>2019-08-03 00:10:00</td>\n",
       "      <td>0.0</td>\n",
       "      <td>1.106</td>\n",
       "      <td>0.0</td>\n",
       "      <td>0.0</td>\n",
       "      <td>0.0</td>\n",
       "      <td>0.0</td>\n",
       "      <td>0.0</td>\n",
       "      <td>0.0</td>\n",
       "      <td>11.456021</td>\n",
       "      <td>11.456021</td>\n",
       "      <td>0.0</td>\n",
       "      <td>0.0</td>\n",
       "    </tr>\n",
       "    <tr>\n",
       "      <td>579</td>\n",
       "      <td>2019-08-03 00:15:00</td>\n",
       "      <td>0.0</td>\n",
       "      <td>1.106</td>\n",
       "      <td>0.0</td>\n",
       "      <td>0.0</td>\n",
       "      <td>0.0</td>\n",
       "      <td>0.0</td>\n",
       "      <td>0.0</td>\n",
       "      <td>0.0</td>\n",
       "      <td>11.417024</td>\n",
       "      <td>11.417024</td>\n",
       "      <td>0.0</td>\n",
       "      <td>0.0</td>\n",
       "    </tr>\n",
       "    <tr>\n",
       "      <td>580</td>\n",
       "      <td>2019-08-03 00:20:00</td>\n",
       "      <td>0.0</td>\n",
       "      <td>1.108</td>\n",
       "      <td>0.0</td>\n",
       "      <td>0.0</td>\n",
       "      <td>0.0</td>\n",
       "      <td>0.0</td>\n",
       "      <td>0.0</td>\n",
       "      <td>0.0</td>\n",
       "      <td>11.345796</td>\n",
       "      <td>11.345796</td>\n",
       "      <td>0.0</td>\n",
       "      <td>0.0</td>\n",
       "    </tr>\n",
       "  </tbody>\n",
       "</table>\n",
       "</div>"
      ],
      "text/plain": [
       "                   Date  Lufft Irrad., W/m2  Meteocontrol Irrad., W/m2  \\\n",
       "576 2019-08-03 00:00:00                 0.0                      1.112   \n",
       "577 2019-08-03 00:05:00                 0.0                      1.110   \n",
       "578 2019-08-03 00:10:00                 0.0                      1.106   \n",
       "579 2019-08-03 00:15:00                 0.0                      1.106   \n",
       "580 2019-08-03 00:20:00                 0.0                      1.108   \n",
       "\n",
       "     DC Power SysB, W  DC Power SysA, W  DC Power SysB String 1, W  \\\n",
       "576               0.0               0.0                        0.0   \n",
       "577               0.0               0.0                        0.0   \n",
       "578               0.0               0.0                        0.0   \n",
       "579               0.0               0.0                        0.0   \n",
       "580               0.0               0.0                        0.0   \n",
       "\n",
       "     DC Power SysB String 2, W  AC Power SysB, W  AC Power SysA, W   Tmod, ºC  \\\n",
       "576                        0.0               0.0               0.0  11.481095   \n",
       "577                        0.0               0.0               0.0  11.452286   \n",
       "578                        0.0               0.0               0.0  11.456021   \n",
       "579                        0.0               0.0               0.0  11.417024   \n",
       "580                        0.0               0.0               0.0  11.345796   \n",
       "\n",
       "      Tamb, ºC  Energy SysB, kWh  Energy SysA, kWh  \n",
       "576  11.481095               0.0               0.0  \n",
       "577  11.452286               0.0               0.0  \n",
       "578  11.456021               0.0               0.0  \n",
       "579  11.417024               0.0               0.0  \n",
       "580  11.345796               0.0               0.0  "
      ]
     },
     "execution_count": 20,
     "metadata": {},
     "output_type": "execute_result"
    }
   ],
   "source": [
    "resolution = '5Min' #['5Min', 'Hourly']\n",
    "file_name = f'/Users/nelsonsasa07/Documents/PV Simulations/Meteocontrol/SD_{resolution}.xlsx'\n",
    "\n",
    "#Meteocontrol Irradiance Measurement\n",
    "meteocontrolDB = pd.read_excel(io=file_name, sheet_name='Radiacion')\n",
    "meteocontrolDB = pd.merge(meteocontrolDB, pd.read_excel(io=file_name, sheet_name='Potencia_DC'), on=['Date'])\n",
    "meteocontrolDB = pd.merge(meteocontrolDB, pd.read_excel(io=file_name, sheet_name='Potencia_AC'), on=['Date'])\n",
    "meteocontrolDB = pd.merge(meteocontrolDB, pd.read_excel(io=file_name, sheet_name='Temperatura'), on=['Date'])\n",
    "meteocontrolDB = pd.merge(meteocontrolDB, pd.read_excel(io=file_name, sheet_name='Energia'), on=['Date'])\n",
    "\n",
    "#Clean Unnamed columns, taken from https://stackoverflow.com/questions/19071199/drop-columns-whose-name-contains-a-specific-string-from-pandas-dataframe\n",
    "cols = [c for c in meteocontrolDB.columns if c[:7] != \"Unnamed\"]\n",
    "meteocontrolDB = meteocontrolDB[cols]\n",
    "\n",
    "#Filter from August 3rd onwards when the system was fullo operational\n",
    "meteocontrolDB = meteocontrolDB[meteocontrolDB[\"Date\"] >= \"2019-08-03T00:00:00\"]\n",
    "meteocontrolDB = meteocontrolDB.fillna(0)\n",
    "meteocontrolDB.head()"
   ]
  },
  {
   "cell_type": "code",
   "execution_count": 21,
   "metadata": {},
   "outputs": [
    {
     "data": {
      "text/html": [
       "<div>\n",
       "<style scoped>\n",
       "    .dataframe tbody tr th:only-of-type {\n",
       "        vertical-align: middle;\n",
       "    }\n",
       "\n",
       "    .dataframe tbody tr th {\n",
       "        vertical-align: top;\n",
       "    }\n",
       "\n",
       "    .dataframe thead th {\n",
       "        text-align: right;\n",
       "    }\n",
       "</style>\n",
       "<table border=\"1\" class=\"dataframe\">\n",
       "  <thead>\n",
       "    <tr style=\"text-align: right;\">\n",
       "      <th></th>\n",
       "      <th>ghi</th>\n",
       "      <th>effective_irrad</th>\n",
       "      <th>dc_B</th>\n",
       "      <th>dc_A</th>\n",
       "      <th>dc_B_str1</th>\n",
       "      <th>dc_B_str2</th>\n",
       "      <th>ac_B</th>\n",
       "      <th>ac_A</th>\n",
       "      <th>module_temp</th>\n",
       "      <th>air_temp</th>\n",
       "      <th>energy_B</th>\n",
       "      <th>energy_A</th>\n",
       "    </tr>\n",
       "    <tr>\n",
       "      <th>Datetime</th>\n",
       "      <th></th>\n",
       "      <th></th>\n",
       "      <th></th>\n",
       "      <th></th>\n",
       "      <th></th>\n",
       "      <th></th>\n",
       "      <th></th>\n",
       "      <th></th>\n",
       "      <th></th>\n",
       "      <th></th>\n",
       "      <th></th>\n",
       "      <th></th>\n",
       "    </tr>\n",
       "  </thead>\n",
       "  <tbody>\n",
       "    <tr>\n",
       "      <td>2019-08-03 00:00:00-05:00</td>\n",
       "      <td>0.0</td>\n",
       "      <td>1.112</td>\n",
       "      <td>0.0</td>\n",
       "      <td>0.0</td>\n",
       "      <td>0.0</td>\n",
       "      <td>0.0</td>\n",
       "      <td>0.0</td>\n",
       "      <td>0.0</td>\n",
       "      <td>11.481095</td>\n",
       "      <td>11.481095</td>\n",
       "      <td>0.0</td>\n",
       "      <td>0.0</td>\n",
       "    </tr>\n",
       "    <tr>\n",
       "      <td>2019-08-03 00:05:00-05:00</td>\n",
       "      <td>0.0</td>\n",
       "      <td>1.110</td>\n",
       "      <td>0.0</td>\n",
       "      <td>0.0</td>\n",
       "      <td>0.0</td>\n",
       "      <td>0.0</td>\n",
       "      <td>0.0</td>\n",
       "      <td>0.0</td>\n",
       "      <td>11.452286</td>\n",
       "      <td>11.452286</td>\n",
       "      <td>0.0</td>\n",
       "      <td>0.0</td>\n",
       "    </tr>\n",
       "    <tr>\n",
       "      <td>2019-08-03 00:10:00-05:00</td>\n",
       "      <td>0.0</td>\n",
       "      <td>1.106</td>\n",
       "      <td>0.0</td>\n",
       "      <td>0.0</td>\n",
       "      <td>0.0</td>\n",
       "      <td>0.0</td>\n",
       "      <td>0.0</td>\n",
       "      <td>0.0</td>\n",
       "      <td>11.456021</td>\n",
       "      <td>11.456021</td>\n",
       "      <td>0.0</td>\n",
       "      <td>0.0</td>\n",
       "    </tr>\n",
       "    <tr>\n",
       "      <td>2019-08-03 00:15:00-05:00</td>\n",
       "      <td>0.0</td>\n",
       "      <td>1.106</td>\n",
       "      <td>0.0</td>\n",
       "      <td>0.0</td>\n",
       "      <td>0.0</td>\n",
       "      <td>0.0</td>\n",
       "      <td>0.0</td>\n",
       "      <td>0.0</td>\n",
       "      <td>11.417024</td>\n",
       "      <td>11.417024</td>\n",
       "      <td>0.0</td>\n",
       "      <td>0.0</td>\n",
       "    </tr>\n",
       "    <tr>\n",
       "      <td>2019-08-03 00:20:00-05:00</td>\n",
       "      <td>0.0</td>\n",
       "      <td>1.108</td>\n",
       "      <td>0.0</td>\n",
       "      <td>0.0</td>\n",
       "      <td>0.0</td>\n",
       "      <td>0.0</td>\n",
       "      <td>0.0</td>\n",
       "      <td>0.0</td>\n",
       "      <td>11.345796</td>\n",
       "      <td>11.345796</td>\n",
       "      <td>0.0</td>\n",
       "      <td>0.0</td>\n",
       "    </tr>\n",
       "  </tbody>\n",
       "</table>\n",
       "</div>"
      ],
      "text/plain": [
       "                           ghi  effective_irrad  dc_B  dc_A  dc_B_str1  \\\n",
       "Datetime                                                                 \n",
       "2019-08-03 00:00:00-05:00  0.0            1.112   0.0   0.0        0.0   \n",
       "2019-08-03 00:05:00-05:00  0.0            1.110   0.0   0.0        0.0   \n",
       "2019-08-03 00:10:00-05:00  0.0            1.106   0.0   0.0        0.0   \n",
       "2019-08-03 00:15:00-05:00  0.0            1.106   0.0   0.0        0.0   \n",
       "2019-08-03 00:20:00-05:00  0.0            1.108   0.0   0.0        0.0   \n",
       "\n",
       "                           dc_B_str2  ac_B  ac_A  module_temp   air_temp  \\\n",
       "Datetime                                                                   \n",
       "2019-08-03 00:00:00-05:00        0.0   0.0   0.0    11.481095  11.481095   \n",
       "2019-08-03 00:05:00-05:00        0.0   0.0   0.0    11.452286  11.452286   \n",
       "2019-08-03 00:10:00-05:00        0.0   0.0   0.0    11.456021  11.456021   \n",
       "2019-08-03 00:15:00-05:00        0.0   0.0   0.0    11.417024  11.417024   \n",
       "2019-08-03 00:20:00-05:00        0.0   0.0   0.0    11.345796  11.345796   \n",
       "\n",
       "                           energy_B  energy_A  \n",
       "Datetime                                       \n",
       "2019-08-03 00:00:00-05:00       0.0       0.0  \n",
       "2019-08-03 00:05:00-05:00       0.0       0.0  \n",
       "2019-08-03 00:10:00-05:00       0.0       0.0  \n",
       "2019-08-03 00:15:00-05:00       0.0       0.0  \n",
       "2019-08-03 00:20:00-05:00       0.0       0.0  "
      ]
     },
     "execution_count": 21,
     "metadata": {},
     "output_type": "execute_result"
    }
   ],
   "source": [
    "#Change Column Names for ease of use.\n",
    "if resolution == '5Min':\n",
    "    res = 5\n",
    "    data_columns_name = ['Datetime', 'ghi', 'effective_irrad', 'dc_B', 'dc_A', 'dc_B_str1', 'dc_B_str2', \n",
    "                         'ac_B', 'ac_A', 'module_temp', 'air_temp', 'energy_B', 'energy_A']\n",
    "\n",
    "else:\n",
    "    res = 60\n",
    "    data_columns_name = ['Datetime', 'ghi', 'effective_irrad', 'dc_B', 'dc_A', \n",
    "                         'ac_B', 'ac_A', 'module_temp', 'energy_B', 'energy_A']\n",
    "\n",
    "meteocontrolDB.columns = data_columns_name\n",
    "meteocontrolDB = meteocontrolDB.set_index('Datetime')\n",
    "meteocontrolDB = meteocontrolDB.tz_localize(tz) #Set UTC-5:00\n",
    "meteocontrolDB = meteocontrolDB.fillna(0)\n",
    "meteocontrolDB.head()"
   ]
  },
  {
   "cell_type": "code",
   "execution_count": 22,
   "metadata": {},
   "outputs": [
    {
     "data": {
      "text/plain": [
       "count    165839.000000\n",
       "mean       5743.727965\n",
       "std        9419.877379\n",
       "min        -200.000000\n",
       "25%           0.000000\n",
       "50%           0.000000\n",
       "75%        8666.171000\n",
       "max       51092.530000\n",
       "Name: dc_A, dtype: float64"
      ]
     },
     "execution_count": 22,
     "metadata": {},
     "output_type": "execute_result"
    }
   ],
   "source": [
    "meteocontrolDB['dc_A'].describe()"
   ]
  },
  {
   "cell_type": "code",
   "execution_count": 23,
   "metadata": {},
   "outputs": [
    {
     "data": {
      "text/plain": [
       "39252.526679999995"
      ]
     },
     "execution_count": 23,
     "metadata": {},
     "output_type": "execute_result"
    }
   ],
   "source": [
    "np.percentile(meteocontrolDB['dc_A'], 99)"
   ]
  },
  {
   "cell_type": "code",
   "execution_count": 24,
   "metadata": {},
   "outputs": [],
   "source": [
    "day_energy = meteocontrolDB.energy_A.resample('1d').max()"
   ]
  },
  {
   "cell_type": "code",
   "execution_count": 25,
   "metadata": {},
   "outputs": [
    {
     "data": {
      "text/plain": [
       "count    576.000000\n",
       "mean     135.097816\n",
       "std       51.662322\n",
       "min        0.000000\n",
       "25%      100.062750\n",
       "50%      127.046000\n",
       "75%      163.709250\n",
       "max      306.783000\n",
       "Name: energy_A, dtype: float64"
      ]
     },
     "execution_count": 25,
     "metadata": {},
     "output_type": "execute_result"
    }
   ],
   "source": [
    "day_energy.describe()"
   ]
  },
  {
   "cell_type": "code",
   "execution_count": 26,
   "metadata": {},
   "outputs": [
    {
     "data": {
      "image/png": "[encoded data removed]",
      "text/plain": [
       "<Figure size 936x360 with 1 Axes>"
      ]
     },
     "metadata": {
      "needs_background": "light"
     },
     "output_type": "display_data"
    }
   ],
   "source": [
    "hor, ver = 13, 5\n",
    "plt.figure(figsize=(hor,ver))\n",
    "\n",
    "# df_to_plot = day_energy.loc[(day_energy.index.year == 2020) & (day_energy.index.month == 5)]\n",
    "\n",
    "df_to_plot = day_energy.loc[(day_energy.index.year == 2020)]\n",
    "\n",
    "plt.bar(df_to_plot.index, df_to_plot, label=f'Máx = {np.round(df_to_plot.max(), 2)} kWh')\n",
    "plt.ylabel('Energía Diaria, kWh')\n",
    "plt.xlabel('Día')\n",
    "plt.legend(loc='best');\n"
   ]
  },
  {
   "cell_type": "code",
   "execution_count": 27,
   "metadata": {},
   "outputs": [
    {
     "data": {
      "text/html": [
       "<div>\n",
       "<style scoped>\n",
       "    .dataframe tbody tr th:only-of-type {\n",
       "        vertical-align: middle;\n",
       "    }\n",
       "\n",
       "    .dataframe tbody tr th {\n",
       "        vertical-align: top;\n",
       "    }\n",
       "\n",
       "    .dataframe thead th {\n",
       "        text-align: right;\n",
       "    }\n",
       "</style>\n",
       "<table border=\"1\" class=\"dataframe\">\n",
       "  <thead>\n",
       "    <tr style=\"text-align: right;\">\n",
       "      <th></th>\n",
       "      <th>energy_A</th>\n",
       "    </tr>\n",
       "  </thead>\n",
       "  <tbody>\n",
       "    <tr>\n",
       "      <td>count</td>\n",
       "      <td>19.000000</td>\n",
       "    </tr>\n",
       "    <tr>\n",
       "      <td>mean</td>\n",
       "      <td>4095.596947</td>\n",
       "    </tr>\n",
       "    <tr>\n",
       "      <td>std</td>\n",
       "      <td>790.336098</td>\n",
       "    </tr>\n",
       "    <tr>\n",
       "      <td>min</td>\n",
       "      <td>2552.129000</td>\n",
       "    </tr>\n",
       "    <tr>\n",
       "      <td>25%</td>\n",
       "      <td>3689.630000</td>\n",
       "    </tr>\n",
       "    <tr>\n",
       "      <td>50%</td>\n",
       "      <td>4151.153000</td>\n",
       "    </tr>\n",
       "    <tr>\n",
       "      <td>75%</td>\n",
       "      <td>4715.231000</td>\n",
       "    </tr>\n",
       "    <tr>\n",
       "      <td>max</td>\n",
       "      <td>5470.715000</td>\n",
       "    </tr>\n",
       "  </tbody>\n",
       "</table>\n",
       "</div>"
      ],
      "text/plain": [
       "          energy_A\n",
       "count    19.000000\n",
       "mean   4095.596947\n",
       "std     790.336098\n",
       "min    2552.129000\n",
       "25%    3689.630000\n",
       "50%    4151.153000\n",
       "75%    4715.231000\n",
       "max    5470.715000"
      ]
     },
     "execution_count": 27,
     "metadata": {},
     "output_type": "execute_result"
    }
   ],
   "source": [
    "month_energy = pd.DataFrame(day_energy.resample('1m').sum())\n",
    "month_energy.describe()"
   ]
  },
  {
   "cell_type": "code",
   "execution_count": 28,
   "metadata": {},
   "outputs": [
    {
     "data": {
      "image/png": "[encoded data removed]",
      "text/plain": [
       "<Figure size 720x288 with 2 Axes>"
      ]
     },
     "metadata": {
      "needs_background": "light"
     },
     "output_type": "display_data"
    }
   ],
   "source": [
    "yy = 2020\n",
    "\n",
    "hor, ver = 10, 4\n",
    "plt.figure(figsize=(hor,ver))\n",
    "\n",
    "# MEDICIÓN\n",
    "plt.subplot(1, 2, 1)\n",
    "\n",
    "df_to_plot = month_energy.loc[(month_energy.index.year == yy)]\n",
    "\n",
    "plt.bar(df_to_plot.index.month, df_to_plot['energy_A'], label=f'Máx = {np.round(df_to_plot.energy_A.max(), 2)} kWh')\n",
    "plt.ylabel('Energía Mensual, kWh')\n",
    "plt.xlabel(f'Mes ({yy})')\n",
    "plt.title('Meteocontrol')\n",
    "plt.ylim(0, 7000)\n",
    "plt.legend(loc='best');\n",
    "\n",
    "# SIMULACIÓN\n",
    "plt.subplot(1, 2, 2)\n",
    "\n",
    "df_to_plot = energy['month'].loc[(energy['month'].index.year == yy)]\n",
    "\n",
    "plt.bar(df_to_plot.index.month, df_to_plot['energy']/1000, label=f'Máx = {np.round(df_to_plot.energy.max()/1000, 2)} kWh')\n",
    "#plt.ylabel('Energía Mensual, kWh')\n",
    "plt.xlabel(f'Mes ({yy})')\n",
    "plt.title('Simulación TMY')\n",
    "plt.ylim(0, 7000)\n",
    "plt.legend(loc='best');"
   ]
  },
  {
   "cell_type": "code",
   "execution_count": null,
   "metadata": {},
   "outputs": [],
   "source": []
  },
  {
   "cell_type": "code",
   "execution_count": null,
   "metadata": {},
   "outputs": [],
   "source": []
  },
  {
   "cell_type": "code",
   "execution_count": null,
   "metadata": {},
   "outputs": [],
   "source": []
  },
  {
   "cell_type": "code",
   "execution_count": 29,
   "metadata": {},
   "outputs": [
    {
     "data": {
      "image/png": "[encoded data removed]",
      "text/plain": [
       "<Figure size 936x360 with 1 Axes>"
      ]
     },
     "metadata": {
      "needs_background": "light"
     },
     "output_type": "display_data"
    }
   ],
   "source": [
    "#Energy Error Comparison Plot\n",
    "#bar_width = 0.25\n",
    "#width = bar_width*2\n",
    "\n",
    "months = ['Jan\\n2019', 'Feb', 'Mar', 'Abr', 'May', 'Jun', 'Jul', 'Ago', 'Sep', 'Oct', 'Nov', 'Dec', \n",
    "          'Jan\\n2020', 'Feb', 'Mar', 'Abr', 'May', 'Jun', 'Jul', 'Ago', 'Sep', 'Oct', 'Nov', 'Dec']\n",
    "\n",
    "x = np.arange(len(months))\n",
    "\n",
    "#Bar Plots\n",
    "route()\n",
    "import cno_plots_metrics\n",
    "\n",
    "hor, ver = 13, 5\n",
    "plt.figure(figsize=(hor,ver))\n",
    "\n",
    "plt.bar(x, energy['month']['energy'].tail(12*2), color='#1580E4',\n",
    "        label=f'ENFICC CREG 201 = {enficc_t} kWh/día\\\n",
    "                \\n\\nEF PVlib-CREG = {enficc_v2} kWh/día\\\n",
    "                \\n\\nEF PVlib-Min = {enficc_v3} kWh/día\\\n",
    "                \\n\\nEF PVlib-Perc ({perc} %) = {enficc_v4} kWh/día')\n",
    "\n",
    "plt.xticks(x, months);\n",
    "\n",
    "cno_plots_metrics.plot_specs(title='Energía Mensual',\n",
    "                             ylabel=f'Energía, ${energy_units}$',\n",
    "                             xlabel='Tiempo',\n",
    "                             rot=0, \n",
    "                             ylim_min=0, ylim_max=None, \n",
    "                             xlim_min=None, xlim_max=None, \n",
    "                             loc='best')\n",
    "plt.legend(loc='best', bbox_to_anchor=(1,1), fontsize=9.5);"
   ]
  },
  {
   "cell_type": "code",
   "execution_count": 30,
   "metadata": {},
   "outputs": [
    {
     "name": "stderr",
     "output_type": "stream",
     "text": [
      "No handles with labels found to put in legend.\n",
      "No handles with labels found to put in legend.\n"
     ]
    },
    {
     "data": {
      "image/png": "[encoded data removed]",
      "text/plain": [
       "<Figure size 936x360 with 1 Axes>"
      ]
     },
     "metadata": {
      "needs_background": "light"
     },
     "output_type": "display_data"
    }
   ],
   "source": [
    "may_2020 = energy['daily'].loc[(energy['daily'].index.year == 2020) & (energy['daily'].index.month == 5)]\n",
    "\n",
    "hor, ver = 13, 5\n",
    "plt.figure(figsize=(hor,ver))\n",
    "\n",
    "plt.bar(may_2020.index, may_2020['energy'], color='#1580E4')\n",
    "\n",
    "cno_plots_metrics.plot_specs(title='Energía Mensual',\n",
    "                             ylabel=f'Energía, ${energy_units}$',\n",
    "                             xlabel='Tiempo',\n",
    "                             rot=0, \n",
    "                             ylim_min=0, ylim_max=None, \n",
    "                             xlim_min=None, xlim_max=None, \n",
    "                             loc='best')\n",
    "plt.legend(loc='best', bbox_to_anchor=(1,1), fontsize=9.5);"
   ]
  },
  {
   "cell_type": "markdown",
   "metadata": {},
   "source": [
    "## 9. Relación Recurso-Potencia"
   ]
  },
  {
   "cell_type": "code",
   "execution_count": 31,
   "metadata": {},
   "outputs": [
    {
     "data": {
      "image/png": "[encoded data removed]",
      "text/plain": [
       "<Figure size 432x288 with 1 Axes>"
      ]
     },
     "metadata": {
      "needs_background": "light"
     },
     "output_type": "display_data"
    }
   ],
   "source": [
    "route()\n",
    "import cno_recurso_potencia\n",
    "\n",
    "cno_recurso_potencia.get_curve(poa=poa.poa_global, \n",
    "                               ac=ac, \n",
    "                               ac_units='kW')"
   ]
  }
 ],
 "metadata": {
  "kernelspec": {
   "display_name": "Python 3",
   "language": "python",
   "name": "python3"
  },
  "language_info": {
   "codemirror_mode": {
    "name": "ipython",
    "version": 3
   },
   "file_extension": ".py",
   "mimetype": "text/x-python",
   "name": "python",
   "nbconvert_exporter": "python",
   "pygments_lexer": "ipython3",
   "version": "3.7.4"
  }
 },
 "nbformat": 4,
 "nbformat_minor": 4
}

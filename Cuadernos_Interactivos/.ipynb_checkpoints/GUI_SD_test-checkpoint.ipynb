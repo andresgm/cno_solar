{
 "cells": [
  {
   "cell_type": "code",
   "execution_count": 1,
   "metadata": {},
   "outputs": [
    {
     "name": "stdout",
     "output_type": "stream",
     "text": [
      "Successfully executed from __main__.\n"
     ]
    }
   ],
   "source": [
    "def route():\n",
    "    import sys  \n",
    "    sys.path.insert(0, './scripts')\n",
    "\n",
    "route()\n",
    "import cno_libraries\n",
    "%run -i './scripts/cno_libraries.py'"
   ]
  },
  {
   "cell_type": "markdown",
   "metadata": {},
   "source": [
    "## 1. Configuración Inicial"
   ]
  },
  {
   "cell_type": "code",
   "execution_count": 2,
   "metadata": {},
   "outputs": [
    {
     "name": "stdout",
     "output_type": "stream",
     "text": [
      "Successfully executed from __main__.\n"
     ]
    },
    {
     "data": {
      "application/vnd.jupyter.widget-view+json": {
       "model_id": "3e2de06f53ea4d6b97c61fcfad65bb2e",
       "version_major": 2,
       "version_minor": 0
      },
      "text/plain": [
       "Box(children=(Box(children=(HTML(value='<h4>Configuración Inicial</h4>', layout=Layout(height='auto')),)), Box…"
      ]
     },
     "metadata": {},
     "output_type": "display_data"
    }
   ],
   "source": [
    "route()\n",
    "import cno_gui_upload"
   ]
  },
  {
   "cell_type": "code",
   "execution_count": null,
   "metadata": {},
   "outputs": [],
   "source": [
    "btn.files"
   ]
  },
  {
   "cell_type": "code",
   "execution_count": null,
   "metadata": {},
   "outputs": [],
   "source": []
  },
  {
   "cell_type": "code",
   "execution_count": 3,
   "metadata": {},
   "outputs": [
    {
     "name": "stdout",
     "output_type": "stream",
     "text": [
      "Successfully executed from __main__.\n"
     ]
    },
    {
     "data": {
      "application/vnd.jupyter.widget-view+json": {
       "model_id": "5ebdacec30584c09ad839957e611e8c5",
       "version_major": 2,
       "version_minor": 0
      },
      "text/plain": [
       "Tab(children=(VBox(children=(BoundedFloatText(value=99.0, description='Percentil', layout=Layout(height='auto'…"
      ]
     },
     "metadata": {},
     "output_type": "display_data"
    }
   ],
   "source": [
    "cno_gui_upload.test_tab()"
   ]
  },
  {
   "cell_type": "code",
   "execution_count": null,
   "metadata": {},
   "outputs": [],
   "source": []
  },
  {
   "cell_type": "code",
   "execution_count": null,
   "metadata": {},
   "outputs": [],
   "source": []
  },
  {
   "cell_type": "code",
   "execution_count": null,
   "metadata": {
    "scrolled": true
   },
   "outputs": [],
   "source": [
    "to_return = cno_gui_upload.aaa()\n",
    "to_return"
   ]
  },
  {
   "cell_type": "code",
   "execution_count": null,
   "metadata": {},
   "outputs": [],
   "source": [
    "a = widgets.ToggleButton(\n",
    "    value=False,\n",
    "    description='Click me',\n",
    "    disabled=False,\n",
    "    button_style='', # 'success', 'info', 'warning', 'danger' or ''\n",
    "    tooltip='Description',\n",
    "    icon='check'\n",
    ")\n",
    "\n",
    "a"
   ]
  },
  {
   "cell_type": "code",
   "execution_count": null,
   "metadata": {},
   "outputs": [],
   "source": [
    "a.value"
   ]
  },
  {
   "cell_type": "code",
   "execution_count": null,
   "metadata": {},
   "outputs": [],
   "source": []
  },
  {
   "cell_type": "code",
   "execution_count": null,
   "metadata": {},
   "outputs": [],
   "source": [
    "import traitlets\n",
    "\n",
    "btn = widgets.Button(description='Medium')\n",
    "\n",
    "btn.add_traits(files=traitlets.traitlets.Any()) # List()\n",
    "btn.files = False\n",
    "display(btn)\n",
    "\n",
    "def btn_eventhandler(obj):\n",
    "    btn.files = True\n",
    "    print(f'Hello from the {obj.description} button!')\n",
    "    \n",
    "btn.on_click(btn_eventhandler)"
   ]
  },
  {
   "cell_type": "code",
   "execution_count": null,
   "metadata": {},
   "outputs": [],
   "source": []
  },
  {
   "cell_type": "code",
   "execution_count": null,
   "metadata": {},
   "outputs": [],
   "source": [
    "btn.files"
   ]
  },
  {
   "cell_type": "code",
   "execution_count": null,
   "metadata": {},
   "outputs": [],
   "source": []
  },
  {
   "cell_type": "code",
   "execution_count": null,
   "metadata": {},
   "outputs": [],
   "source": [
    "route()\n",
    "import cno_gui_upload\n",
    "\n",
    "cno_gui_upload.test_tab()"
   ]
  },
  {
   "cell_type": "code",
   "execution_count": null,
   "metadata": {},
   "outputs": [],
   "source": []
  },
  {
   "cell_type": "code",
   "execution_count": null,
   "metadata": {},
   "outputs": [],
   "source": []
  },
  {
   "cell_type": "code",
   "execution_count": null,
   "metadata": {},
   "outputs": [],
   "source": [
    "upload_config = widgets.FileUpload(accept='.json', multiple=False)\n",
    "display(upload_config)\n",
    "def get_config():\n",
    "    file_route = './data/' + list(upload_config.value.values())[0]['metadata']['name']\n",
    "\n",
    "    with open(file_route) as f:\n",
    "        system_config = json.load(f)\n",
    "\n",
    "    return(system_config)"
   ]
  },
  {
   "cell_type": "code",
   "execution_count": null,
   "metadata": {},
   "outputs": [],
   "source": [
    "get_config()['tz']"
   ]
  },
  {
   "cell_type": "code",
   "execution_count": null,
   "metadata": {},
   "outputs": [],
   "source": []
  },
  {
   "cell_type": "code",
   "execution_count": null,
   "metadata": {},
   "outputs": [],
   "source": []
  },
  {
   "cell_type": "code",
   "execution_count": null,
   "metadata": {},
   "outputs": [],
   "source": [
    "import json\n",
    "import traitlets\n",
    "import ipywidgets as widgets\n",
    "from tkinter import Tk, filedialog\n",
    "from IPython.display import display\n",
    "\n",
    "gui_layout = widgets.Layout(display='flex', flex_flow='row', justify_content='space-between')\n",
    "\n",
    "header = widgets.HTML('<h4>Configuración Inicial</h4>', layout=widgets.Layout(height='auto'))\n",
    "\n",
    "# JSON system configuration file\n",
    "upload_config = widgets.FileUpload(accept='.json', multiple=False)\n",
    "\n",
    "# CSV historical data series file\n",
    "## GUI adapted from https://codereview.stackexchange.com/questions/162920/file-selection-button-for-jupyter-notebook\n",
    "class SelectFilesButton(widgets.Button):\n",
    "    '''A file widget that leverages tkinter.filedialog'''\n",
    "    def __init__(self):\n",
    "        super(SelectFilesButton, self).__init__()\n",
    "\n",
    "        # Add the selected_files trait\n",
    "        self.add_traits(files=traitlets.traitlets.Any()) # List()\n",
    "\n",
    "        # Create the button\n",
    "        self.description = 'Select File'\n",
    "        self.icon = 'square-o'\n",
    "        #self.style.button_color = 'orange'\n",
    "\n",
    "        # Set on click behavior\n",
    "        self.on_click(self.select_files)\n",
    "\n",
    "    @staticmethod\n",
    "    def select_files(b):\n",
    "        '''Generate instance of tkinter.filedialog '''\n",
    "        # Create Tk root\n",
    "        root = Tk()\n",
    "\n",
    "        # Hide the main window\n",
    "        root.withdraw()\n",
    "\n",
    "        # Raise the root to the top of all windows\n",
    "        root.call('wm', 'attributes', '.', '-topmost', True)\n",
    "\n",
    "        # List of selected fileswill be set to b.value\n",
    "        b.files = filedialog.askopenfilename(filetypes=(('CSV Files', '.csv'),), \n",
    "                                             multiple=False,\n",
    "                                             title='Select CSV Data File')\n",
    "\n",
    "        b.description = 'File Selected'\n",
    "        b.icon = 'check-square-o'\n",
    "        #b.style.button_color = 'lightgreen'\n",
    "\n",
    "upload_data = SelectFilesButton()\n",
    "\n",
    "#################\n",
    "header2 = widgets.HTML('<h4> </h4>', layout=widgets.Layout(height='auto'))\n",
    "\n",
    "btn = widgets.Button(value=False,\n",
    "                     description='Cargar Archivos',\n",
    "                     disabled=False,\n",
    "                     button_style='', # 'success', 'info', 'warning', 'danger' or ''\n",
    "                     tooltip='Descarga JSON de la Configuración del Sistema',\n",
    "                     icon='square-o',\n",
    "                     layout=widgets.Layout(width='30%', height='auto'))\n",
    "\n",
    "btn.add_traits(files=traitlets.traitlets.Dict()) # List()\n",
    "\n",
    "output = widgets.Output()\n",
    "\n",
    "def on_button_clicked(obj):\n",
    "    btn.description = 'File Selected'\n",
    "    btn.icon = 'check-square-o'\n",
    "    with output:\n",
    "        output.clear_output()\n",
    "\n",
    "        file_route = './data/' + list(upload_config.value.values())[0]['metadata']['name']\n",
    "        with open(file_route) as f:\n",
    "            system_config = json.load(f)\n",
    "\n",
    "        import cno_data\n",
    "        df = cno_data.tk_load_csv(file_name=upload_data.files, tz=system_config['tz'])\n",
    "\n",
    "        btn.files = {'system_configuration': system_config, 'df': df}\n",
    "\n",
    "        print('Carga exitosa!')\n",
    "\n",
    "btn.on_click(on_button_clicked)\n",
    "\n",
    "\n",
    "widget_init = [widgets.Box([header]),\n",
    "               widgets.Box([widgets.Label('Configuración Sistema (JSON)'), upload_config], layout=gui_layout),\n",
    "               widgets.Box([widgets.Label('Serie Histórica de Datos (CSV)'), upload_data], layout=gui_layout),\n",
    "               widgets.Box([header2]),\n",
    "               widgets.Box([widgets.Label('Cargar Archivos'), btn], layout=gui_layout)]\n",
    "\n",
    "tab_init = widgets.Box(widget_init, \n",
    "                       layout=widgets.Layout(display='flex',\n",
    "                                             flex_flow='column',\n",
    "                                             border='solid 0px',\n",
    "                                             align_items='stretch',\n",
    "                                             width='50%'))\n",
    "\n",
    "display(tab_init)"
   ]
  },
  {
   "cell_type": "code",
   "execution_count": null,
   "metadata": {},
   "outputs": [],
   "source": [
    "btn.files"
   ]
  },
  {
   "cell_type": "code",
   "execution_count": null,
   "metadata": {},
   "outputs": [],
   "source": []
  },
  {
   "cell_type": "code",
   "execution_count": null,
   "metadata": {},
   "outputs": [],
   "source": []
  },
  {
   "cell_type": "code",
   "execution_count": null,
   "metadata": {},
   "outputs": [],
   "source": []
  },
  {
   "cell_type": "code",
   "execution_count": null,
   "metadata": {},
   "outputs": [],
   "source": []
  },
  {
   "cell_type": "markdown",
   "metadata": {},
   "source": [
    "### 1.1. Configuración Sistema"
   ]
  },
  {
   "cell_type": "code",
   "execution_count": null,
   "metadata": {},
   "outputs": [],
   "source": [
    "system_config = cno_gui_upload.get_config()"
   ]
  },
  {
   "cell_type": "markdown",
   "metadata": {},
   "source": [
    "### 1.2. Serie Histórica de Datos"
   ]
  },
  {
   "cell_type": "code",
   "execution_count": null,
   "metadata": {},
   "outputs": [],
   "source": [
    "route()\n",
    "import cno_data\n",
    "\n",
    "df = cno_data.tk_load_csv(file_name=cno_gui_upload.get_data_route()[0], tz=system_config['tz'])\n",
    "df.head()"
   ]
  },
  {
   "cell_type": "markdown",
   "metadata": {},
   "source": [
    "## 3. Bus Pipeline"
   ]
  },
  {
   "cell_type": "code",
   "execution_count": null,
   "metadata": {},
   "outputs": [],
   "source": [
    "route()\n",
    "import test\n",
    "\n",
    "bus_pipeline = test.full_pipeline(system_configuration=system_config, \n",
    "                                  data=df, \n",
    "                                  resolution=60, \n",
    "                                  energy_units='Wh')"
   ]
  },
  {
   "cell_type": "code",
   "execution_count": null,
   "metadata": {},
   "outputs": [],
   "source": [
    "bus_pipeline.keys()"
   ]
  },
  {
   "cell_type": "markdown",
   "metadata": {},
   "source": [
    "## 3. Tabs"
   ]
  },
  {
   "cell_type": "code",
   "execution_count": null,
   "metadata": {},
   "outputs": [],
   "source": [
    "route()\n",
    "import cno_gui_test\n",
    "import cno_data\n",
    "\n",
    "cno_gui_upload.test_tab(system_config=cno_gui_upload.get_config(),\n",
    "                        df=cno_data.tk_load_csv(file_name=cno_gui_upload.get_data_route()[0], tz=cno_gui_upload.get_config()['tz']))"
   ]
  },
  {
   "cell_type": "code",
   "execution_count": null,
   "metadata": {},
   "outputs": [],
   "source": []
  },
  {
   "cell_type": "code",
   "execution_count": null,
   "metadata": {},
   "outputs": [],
   "source": []
  },
  {
   "cell_type": "code",
   "execution_count": null,
   "metadata": {},
   "outputs": [],
   "source": []
  },
  {
   "cell_type": "code",
   "execution_count": null,
   "metadata": {},
   "outputs": [],
   "source": []
  },
  {
   "cell_type": "code",
   "execution_count": null,
   "metadata": {},
   "outputs": [],
   "source": [
    "\n",
    "import json\n",
    "import traitlets\n",
    "import ipywidgets as widgets\n",
    "from tkinter import Tk, filedialog\n",
    "from IPython.display import display\n",
    "\n",
    "gui_layout = widgets.Layout(display='flex',\n",
    "                            flex_flow='row',\n",
    "                            justify_content='space-between')\n",
    "\n",
    "header = widgets.HTML('<h4>Configuración Inicial</h4>', layout=widgets.Layout(height='auto'))\n",
    "\n",
    "# JSON system configuration file\n",
    "upload_config = widgets.FileUpload(accept='.json', multiple=False)\n",
    "\n",
    "# CSV historical data series file\n",
    "## GUI adapted from https://codereview.stackexchange.com/questions/162920/file-selection-button-for-jupyter-notebook\n",
    "class SelectFilesButton(widgets.Button):\n",
    "    '''A file widget that leverages tkinter.filedialog'''\n",
    "    def __init__(self):\n",
    "        super(SelectFilesButton, self).__init__()\n",
    "\n",
    "        # Add the selected_files trait\n",
    "        self.add_traits(files=traitlets.traitlets.Any()) # List()\n",
    "\n",
    "        # Create the button\n",
    "        self.description = 'Select File'\n",
    "        self.icon = 'square-o'\n",
    "        #self.style.button_color = 'orange'\n",
    "\n",
    "        # Set on click behavior\n",
    "        self.on_click(self.select_files)\n",
    "\n",
    "    @staticmethod\n",
    "    def select_files(b):\n",
    "        '''Generate instance of tkinter.filedialog\n",
    "\n",
    "        Parameters\n",
    "        ----------\n",
    "        b : obj:\n",
    "            An instance of ipywidgets.widgets.Button \n",
    "        '''\n",
    "        # Create Tk root\n",
    "        root = Tk()\n",
    "\n",
    "        # Hide the main window\n",
    "        root.withdraw()\n",
    "\n",
    "        # Raise the root to the top of all windows\n",
    "        root.call('wm', 'attributes', '.', '-topmost', True)\n",
    "\n",
    "        # List of selected fileswill be set to b.value\n",
    "        b.files = filedialog.askopenfilename(filetypes=(('CSV Files', '.csv'),), \n",
    "                                             multiple=False,\n",
    "                                             title='Select CSV Data File')\n",
    "\n",
    "        b.description = 'File Selected'\n",
    "        b.icon = 'check-square-o'\n",
    "        #b.style.button_color = 'lightgreen'\n",
    "\n",
    "upload_data = SelectFilesButton()\n",
    "\n",
    "widget_init = [widgets.Box([header]),\n",
    "               widgets.Box([widgets.Label('Configuración Sistema (JSON)'), upload_config], layout=gui_layout),\n",
    "               widgets.Box([widgets.Label('Serie Histórica de Datos (CSV)'), upload_data], layout=gui_layout)]\n",
    "\n",
    "tab_init = widgets.Box(widget_init, \n",
    "                       layout=widgets.Layout(display='flex',\n",
    "                                             flex_flow='column',\n",
    "                                             border='solid 0px',\n",
    "                                             align_items='stretch',\n",
    "                                             width='50%'))\n",
    "\n",
    "display(tab_init)"
   ]
  },
  {
   "cell_type": "code",
   "execution_count": null,
   "metadata": {},
   "outputs": [],
   "source": [
    "upload_config.data != []"
   ]
  },
  {
   "cell_type": "code",
   "execution_count": null,
   "metadata": {},
   "outputs": [],
   "source": [
    "upload_data.description"
   ]
  },
  {
   "cell_type": "code",
   "execution_count": null,
   "metadata": {},
   "outputs": [],
   "source": [
    "upload_data.files"
   ]
  },
  {
   "cell_type": "code",
   "execution_count": null,
   "metadata": {},
   "outputs": [],
   "source": []
  },
  {
   "cell_type": "code",
   "execution_count": null,
   "metadata": {},
   "outputs": [],
   "source": []
  },
  {
   "cell_type": "code",
   "execution_count": null,
   "metadata": {},
   "outputs": [],
   "source": []
  },
  {
   "cell_type": "code",
   "execution_count": null,
   "metadata": {},
   "outputs": [],
   "source": []
  },
  {
   "cell_type": "markdown",
   "metadata": {},
   "source": [
    "## 5. Tabs Resultados"
   ]
  },
  {
   "cell_type": "code",
   "execution_count": null,
   "metadata": {},
   "outputs": [],
   "source": [
    "# Download Button\n",
    "cen_btn = widgets.Button(value=False,\n",
    "                         description='Calcular CEN',\n",
    "                         disabled=False,\n",
    "                         button_style='', # 'success', 'info', 'warning', 'danger' or ''\n",
    "                         tooltip='Cálculo de la Capacidad Efectiva Neta',\n",
    "                         icon='bolt',\n",
    "                         layout=widgets.Layout(width='25%', height='auto'))\n",
    "\n",
    "cen_output = widgets.Output()\n",
    "\n",
    "bounded_num = widgets.BoundedFloatText(value=99, \n",
    "                                       min=0, \n",
    "                                       max=100, \n",
    "                                       step=0.1,\n",
    "                                       description='Percentil',\n",
    "                                       disabled=False,\n",
    "                                       layout=widgets.Layout(width='25%', height='auto'))\n",
    "\n",
    "import traitlets\n",
    "cen_btn.add_traits(files=traitlets.traitlets.Dict()) # List()\n",
    "\n",
    "def on_button_clicked(obj):\n",
    "    with cen_output:\n",
    "        cen_output.clear_output()\n",
    "\n",
    "        route()\n",
    "        import cno_pipeline\n",
    "\n",
    "        bus_pipeline = cno_pipeline.full_pipeline(system_configuration=system_config, \n",
    "                                                  data=df, \n",
    "                                                  resolution=60, \n",
    "                                                  energy_units='Wh')\n",
    "        \n",
    "        route()\n",
    "        import cno_cen\n",
    "        cen_per, cen_pmax = cno_cen.get_cen(ac=bus_pipeline['ac'], \n",
    "                                            perc=bounded_num.value, # Percentil CEN\n",
    "                                            decimals=4,\n",
    "                                            curve=True)\n",
    "        \n",
    "        cen_btn.files = {'bus_pipeline':bus_pipeline, 'cen_per':cen_per, 'cen_pmax':cen_pmax}\n",
    "\n",
    "cen_btn.on_click(on_button_clicked)\n",
    "\n",
    "# DISPLAY\n",
    "cen_dashboard = widgets.VBox([bounded_num, cen_btn, cen_output])\n",
    "# display(cen_dashboard)"
   ]
  },
  {
   "cell_type": "code",
   "execution_count": null,
   "metadata": {},
   "outputs": [],
   "source": [
    "# cen_btn.files"
   ]
  },
  {
   "cell_type": "code",
   "execution_count": null,
   "metadata": {},
   "outputs": [],
   "source": [
    "# ENFICC Button\n",
    "enficc_btn = widgets.Button(value=False,\n",
    "                            description='Calcular ENFICC',\n",
    "                            disabled=False,\n",
    "                            button_style='', # 'success', 'info', 'warning', 'danger' or ''\n",
    "                            tooltip='Cálculo de la ENFICC',\n",
    "                            icon='plug',\n",
    "                            layout=widgets.Layout(width='25%', height='auto'))\n",
    "\n",
    "enficc_output = widgets.Output()\n",
    "\n",
    "import traitlets\n",
    "cen_btn.add_traits(files=traitlets.traitlets.Dict()) # List()\n",
    "\n",
    "\n",
    "\n",
    "import traitlets\n",
    "enficc_btn.add_traits(files=traitlets.traitlets.Dict()) # List()\n",
    "\n",
    "def on_button_clicked(obj):\n",
    "    with enficc_output:\n",
    "        enficc_output.clear_output()\n",
    "\n",
    "    route()\n",
    "    import cno_energia_firme\n",
    "\n",
    "    # Prepare Data\n",
    "    df_hora = df[['GHI', 'Temperature']]\n",
    "    df_hora['GHI'] = df_hora['GHI'] / 1000 # W to kW\n",
    "    df_hora = df_hora.loc[df_hora.GHI != 0]\n",
    "\n",
    "    ghi = df_hora.resample('M').apply(lambda x: x.quantile(0.95)).GHI # https://stackoverflow.com/questions/39246664/calculate-percentiles-quantiles-for-a-timeseries-with-resample-or-groupby-pand\n",
    "    insolation = df_hora['GHI'].resample('M').sum() # kWh/m2 / month\n",
    "    temp = df_hora['Temperature'].resample('M').mean()\n",
    "\n",
    "    df_mes = pd.DataFrame({'GHI': ghi, 'Insolation': insolation,'Temperature': temp})\n",
    "\n",
    "    # ENFICC CREG 201 de 2017\n",
    "    efirme, enficc_t = cno_energia_firme.enficc_creg(df=df_mes, \n",
    "                                                     Kinc=0.9688, \n",
    "                                                     IHF=0.1, \n",
    "                                                     CEN=cen_btn.files['cen_per'],\n",
    "                                                     a=3.8e-05, \n",
    "                                                     b=-0.0024, \n",
    "                                                     c=0.05224, \n",
    "                                                     d=-0.3121, \n",
    "                                                     Kmedt=0.8540)\n",
    "\n",
    "    # Energía Firme PVlib + CREG\n",
    "    __, enficc_v2 = cno_energia_firme.efirme_pvlib_creg(energy=cen_btn.files['bus_pipeline']['energy'])\n",
    "\n",
    "    # Energía Firme: PVlib + Min\n",
    "    enficc_v3 = cno_energia_firme.efirme_pvlib_min(energy=cen_btn.files['bus_pipeline']['energy'])\n",
    "\n",
    "    # Energía Firme: PVlib + Percentil\n",
    "    enficc_v4 = cno_energia_firme.efirme_pvlib_percentile(energy=cen_btn.files['bus_pipeline']['energy'],\n",
    "                                                          percentile=1)\n",
    "\n",
    "    enficc_btn.files = {'efirme':efirme, 'enficc_t':enficc_t, 'enficc_v2':enficc_v2, \n",
    "                        'enficc_v3':enficc_v3, 'enficc_v4':enficc_v4}\n",
    "    \n",
    "enficc_btn.on_click(on_button_clicked)\n",
    "\n",
    "\n",
    "\n",
    "# ENFICC GRAPH Button\n",
    "enficc_graph = widgets.Button(value=False,\n",
    "                            description='Graficar ENFICC',\n",
    "                            disabled=False,\n",
    "                            button_style='', # 'success', 'info', 'warning', 'danger' or ''\n",
    "                            tooltip='Gráfica de la ENFICC',\n",
    "                            icon='bar-chart',\n",
    "                            layout=widgets.Layout(width='25%', height='auto'))\n",
    "\n",
    "g_output = widgets.Output()\n",
    "\n",
    "def on_button_clicked(obj):\n",
    "    with g_output:\n",
    "        g_output.clear_output()\n",
    "\n",
    "        energy_units = 'Wh' # ACTUALIZARRR!!!\n",
    "\n",
    "        #Energy Error Comparison Plot\n",
    "        months = ['Jan\\n2019', 'Feb', 'Mar', 'Abr', 'May', 'Jun', 'Jul', 'Ago', 'Sep', 'Oct', 'Nov', 'Dec', \n",
    "                  'Jan\\n2020', 'Feb', 'Mar', 'Abr', 'May', 'Jun', 'Jul', 'Ago', 'Sep', 'Oct', 'Nov', 'Dec']\n",
    "\n",
    "        x = np.arange(len(months))\n",
    "\n",
    "        #Bar Plots\n",
    "        route()\n",
    "        import cno_plots_metrics\n",
    "\n",
    "        hor, ver = 13, 5\n",
    "        plt.figure(figsize=(hor,ver))\n",
    "\n",
    "        plt.bar(x, cen_btn.files['bus_pipeline']['energy']['month']['energy'].tail(12*2), color='#1580E4',\n",
    "                label='ENFICC CREG 201 = {} kWh/día\\\n",
    "                        \\n\\nEF PVlib-CREG = {} kWh/día\\\n",
    "                        \\n\\nEF PVlib-Min = {} kWh/día\\\n",
    "                        \\n\\nEF PVlib-Perc ({} %) = {} kWh/día'.format(enficc_btn.files['enficc_t'], \n",
    "                                                                      enficc_btn.files['enficc_v2'],\n",
    "                                                                      enficc_btn.files['enficc_v3'],\n",
    "                                                                      1,\n",
    "                                                                      enficc_btn.files['enficc_v4']))\n",
    "\n",
    "        plt.xticks(x, months);\n",
    "\n",
    "        cno_plots_metrics.plot_specs(title='Energía Mensual',\n",
    "                                     ylabel=f'Energía, ${energy_units}$',\n",
    "                                     xlabel='Tiempo',\n",
    "                                     rot=0, \n",
    "                                     ylim_min=0, ylim_max=None, \n",
    "                                     xlim_min=None, xlim_max=None, \n",
    "                                     loc='best')\n",
    "        plt.legend(loc='best', bbox_to_anchor=(1,1), fontsize=9.5);\n",
    "        plt.show()\n",
    "\n",
    "enficc_graph.on_click(on_button_clicked)\n",
    "\n",
    "\n",
    "# DISPLAY\n",
    "enficc_dashboard = widgets.VBox([widgets.HBox([enficc_btn, enficc_graph]), enficc_output, g_output])\n",
    "# display(enficc_dashboard)"
   ]
  },
  {
   "cell_type": "code",
   "execution_count": null,
   "metadata": {},
   "outputs": [],
   "source": [
    "# Rec-Pot Button\n",
    "rr_btn = widgets.Button(value=False,\n",
    "                        description='Recurso-Potencia',\n",
    "                        disabled=False,\n",
    "                        button_style='', # 'success', 'info', 'warning', 'danger' or ''\n",
    "                        tooltip='Graficar Recurso-Potencia',\n",
    "                        icon='line-chart',\n",
    "                        layout=widgets.Layout(width='25%', height='auto'))\n",
    "\n",
    "rr_output = widgets.Output()\n",
    "\n",
    "def on_button_clicked(obj):\n",
    "    with rr_output:\n",
    "        rr_output.clear_output()\n",
    "\n",
    "    route()\n",
    "    import cno_recurso_potencia\n",
    "\n",
    "    cno_recurso_potencia.get_curve(poa=cen_btn.files['bus_pipeline']['poa']['poa_global'], \n",
    "                                   ac=cen_btn.files['bus_pipeline']['ac'], \n",
    "                                   ac_units='kW')\n",
    "    \n",
    "rr_btn.on_click(on_button_clicked)\n",
    "\n",
    "# DISPLAY\n",
    "rr_dashboard = widgets.VBox([rr_btn, rr_output])"
   ]
  },
  {
   "cell_type": "code",
   "execution_count": null,
   "metadata": {},
   "outputs": [],
   "source": [
    "item_layout = widgets.Layout(margin='0 0 25px 0')\n",
    "\n",
    "tab = widgets.Tab([cen_dashboard, enficc_dashboard, rr_dashboard], layout=item_layout)\n",
    "tab.set_title(0, 'Capacidad Efectiva Neta (CEN)')\n",
    "tab.set_title(1, 'ENFICC')\n",
    "tab.set_title(2, 'Recurso-Potencia')\n",
    "display(tab)"
   ]
  },
  {
   "cell_type": "markdown",
   "metadata": {},
   "source": [
    "---"
   ]
  },
  {
   "cell_type": "code",
   "execution_count": null,
   "metadata": {},
   "outputs": [],
   "source": []
  }
 ],
 "metadata": {
  "kernelspec": {
   "display_name": "Python 3",
   "language": "python",
   "name": "python3"
  },
  "language_info": {
   "codemirror_mode": {
    "name": "ipython",
    "version": 3
   },
   "file_extension": ".py",
   "mimetype": "text/x-python",
   "name": "python",
   "nbconvert_exporter": "python",
   "pygments_lexer": "ipython3",
   "version": "3.7.4"
  }
 },
 "nbformat": 4,
 "nbformat_minor": 4
}

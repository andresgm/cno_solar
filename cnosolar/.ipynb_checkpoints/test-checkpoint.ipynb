{
 "cells": [
  {
   "cell_type": "code",
   "execution_count": null,
   "metadata": {},
   "outputs": [],
   "source": [
    "import json\n",
    "\n",
    "def get_config(data):\n",
    "    file_route = './data/' + list(data.value.values())[0]['metadata']['name']\n",
    "\n",
    "    with open(file_route) as f:\n",
    "        system_config = json.load(f)\n",
    "\n",
    "    return(system_config)\n",
    "\n",
    "# To return the ROUTE of the uploaded CSV file\n",
    "def get_data_route(data.files):\n",
    "    return(data.files)"
   ]
  }
 ],
 "metadata": {
  "kernelspec": {
   "display_name": "Python 3",
   "language": "python",
   "name": "python3"
  },
  "language_info": {
   "codemirror_mode": {
    "name": "ipython",
    "version": 3
   },
   "file_extension": ".py",
   "mimetype": "text/x-python",
   "name": "python",
   "nbconvert_exporter": "python",
   "pygments_lexer": "ipython3",
   "version": "3.7.4"
  }
 },
 "nbformat": 4,
 "nbformat_minor": 4
}
